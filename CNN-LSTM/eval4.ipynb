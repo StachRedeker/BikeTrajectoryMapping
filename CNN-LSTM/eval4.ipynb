{
 "cells": [
  {
   "cell_type": "code",
   "execution_count": 1,
   "id": "7d56f7ba-149d-41db-affd-b94e90cc6beb",
   "metadata": {
    "tags": []
   },
   "outputs": [
    {
     "name": "stderr",
     "output_type": "stream",
     "text": [
      "2024-06-21 16:01:58.798711: I tensorflow/core/platform/cpu_feature_guard.cc:193] This TensorFlow binary is optimized with oneAPI Deep Neural Network Library (oneDNN) to use the following CPU instructions in performance-critical operations:  AVX2 FMA\n",
      "To enable them in other operations, rebuild TensorFlow with the appropriate compiler flags.\n",
      "2024-06-21 16:01:59.653164: W tensorflow/compiler/xla/stream_executor/platform/default/dso_loader.cc:64] Could not load dynamic library 'libnvinfer.so.7'; dlerror: libnvinfer.so.7: cannot open shared object file: No such file or directory; LD_LIBRARY_PATH: /usr/local/lib:/usr/local/nvidia/lib:/usr/local/nvidia/lib64\n",
      "2024-06-21 16:01:59.653289: W tensorflow/compiler/xla/stream_executor/platform/default/dso_loader.cc:64] Could not load dynamic library 'libnvinfer_plugin.so.7'; dlerror: libnvinfer_plugin.so.7: cannot open shared object file: No such file or directory; LD_LIBRARY_PATH: /usr/local/lib:/usr/local/nvidia/lib:/usr/local/nvidia/lib64\n",
      "2024-06-21 16:01:59.653296: W tensorflow/compiler/tf2tensorrt/utils/py_utils.cc:38] TF-TRT Warning: Cannot dlopen some TensorRT libraries. If you would like to use Nvidia GPU with TensorRT, please make sure the missing libraries mentioned above are installed properly.\n"
     ]
    }
   ],
   "source": [
    "# Importing required libraries\n",
    "import pandas as pd\n",
    "import numpy as np\n",
    "from sklearn.preprocessing import StandardScaler\n",
    "from tensorflow.keras.models import load_model\n",
    "import os"
   ]
  },
  {
   "cell_type": "code",
   "execution_count": 2,
   "id": "9d939c00-9ca3-4931-ad28-258a7552c8e9",
   "metadata": {},
   "outputs": [],
   "source": [
    "# Function to load and preprocess data based on the test case\n",
    "def load_and_preprocess_data(file_path, test_case):\n",
    "    df = pd.read_csv(file_path)\n",
    "    df['datetime'] = pd.to_datetime(df['date/time'], errors='coerce')\n",
    "    \n",
    "    if test_case == '4.csv':\n",
    "        # Calculate the start and end times for trimming\n",
    "        train_start_time = df['datetime'].min() + pd.Timedelta(minutes=1.5)\n",
    "        train_end_time = df['datetime'].max() - pd.Timedelta(minutes=1.5)\n",
    "        \n",
    "        # Filter the DataFrame to exclude the first and last 1.5 minutes of data\n",
    "        df = df[(df['datetime'] > train_start_time) & (df['datetime'] < train_end_time)]\n",
    "        \n",
    "        # Get the total number of rows in the filtered DataFrame\n",
    "        total_rows = len(df)\n",
    "        \n",
    "        # Slice the DataFrame in half and use the second half\n",
    "        df = df.iloc[total_rows//2:]\n",
    "        \n",
    "    elif test_case == '6.csv':\n",
    "        # Remove the first 2 minutes and the last 1 minute\n",
    "        train_start_time = df['datetime'].min() + pd.Timedelta(minutes=2)\n",
    "        train_end_time = df['datetime'].max() - pd.Timedelta(minutes=1)\n",
    "        \n",
    "        # Filter the DataFrame to exclude the first 2 minutes and the last 1 minute of data\n",
    "        df = df[(df['datetime'] > train_start_time) & (df['datetime'] < train_end_time)]\n",
    "        \n",
    "    elif test_case == '7.csv':\n",
    "        # Remove the first and last minute\n",
    "        train_start_time = df['datetime'].min() + pd.Timedelta(minutes=1)\n",
    "        train_end_time = df['datetime'].max() - pd.Timedelta(minutes=1)\n",
    "        \n",
    "        # Filter the DataFrame to exclude the first and last minute of data\n",
    "        df = df[(df['datetime'] > train_start_time) & (df['datetime'] < train_end_time)]\n",
    "        \n",
    "    else:\n",
    "        raise ValueError(\"Unknown test case\")\n",
    "    \n",
    "    return df\n"
   ]
  },
  {
   "cell_type": "code",
   "execution_count": 3,
   "id": "5bbc76ef-817c-452f-b8e6-f63a74d4ded7",
   "metadata": {},
   "outputs": [],
   "source": [
    "# Function to create sequences\n",
    "def create_sequences(data, sequence_length=1600):\n",
    "    sequences = []\n",
    "    for i in range(len(data) - sequence_length):\n",
    "        sequences.append(data[i:i+sequence_length])\n",
    "    return np.array(sequences)"
   ]
  },
  {
   "cell_type": "code",
   "execution_count": 4,
   "id": "517deb7e-9c99-44f8-9384-f357a22ce8ae",
   "metadata": {},
   "outputs": [],
   "source": [
    "# Function to run the test\n",
    "def run_test(model_path, test_file, sequence_length):\n",
    "    # Load the model\n",
    "    model = load_model(model_path)\n",
    "    \n",
    "    # Load and preprocess the data\n",
    "    test_df = load_and_preprocess_data(test_file, test_file.split('/')[-1])\n",
    "    \n",
    "    # Define features and targets\n",
    "    features = ['gyro_x', 'gyro_y', 'gyro_z', 'accel_x', 'accel_y', 'accel_z', 'x_cam', 'y_cam', 'z_cam']\n",
    "    targets = ['x', 'y']\n",
    "    \n",
    "    # Scale the features\n",
    "    scaler = StandardScaler()\n",
    "    test_X_scaled = scaler.fit_transform(test_df[features])\n",
    "    \n",
    "    # Extract target values\n",
    "    test_y = test_df[targets].values\n",
    "    \n",
    "    # Convert the data into sequences\n",
    "    X_test = create_sequences(test_X_scaled, sequence_length)\n",
    "    y_test = test_y[sequence_length:]\n",
    "    time_test = test_df['datetime'].iloc[sequence_length:].reset_index(drop=True)\n",
    "\n",
    "    # Predict using the test data\n",
    "    y_pred = model.predict(X_test)\n",
    "    \n",
    "    # Create a dataframe to store the results\n",
    "    results_df = pd.DataFrame({\n",
    "        'index': range(len(y_test)),\n",
    "        'time': time_test,\n",
    "        'true_x': y_test[:, 0],\n",
    "        'true_y': y_test[:, 1],\n",
    "        'predicted_x': y_pred[:, 0],\n",
    "        'predicted_y': y_pred[:, 1],\n",
    "    })\n",
    "    \n",
    "    return results_df"
   ]
  },
  {
   "cell_type": "code",
   "execution_count": 5,
   "id": "00937601-8b08-48df-9459-f950babe6a5c",
   "metadata": {
    "tags": []
   },
   "outputs": [
    {
     "name": "stdout",
     "output_type": "stream",
     "text": [
      "Results file own/results/trajectory_model10-6.csv already exists. Skipping test.\n",
      "Results file own/results/trajectory_model10-4.csv already exists. Skipping test.\n",
      "Results file own/results/trajectory_model10-7.csv already exists. Skipping test.\n",
      "Results file own/results/trajectory_model9-6.csv already exists. Skipping test.\n",
      "Results file own/results/trajectory_model9-4.csv already exists. Skipping test.\n",
      "Results file own/results/trajectory_model9-7.csv already exists. Skipping test.\n",
      "Results file own/results/trajectory_model9i-6.csv already exists. Skipping test.\n",
      "Results file own/results/trajectory_model9i-4.csv already exists. Skipping test.\n",
      "Results file own/results/trajectory_model9i-7.csv already exists. Skipping test.\n",
      "Results file own/results/trajectory_model10i-4.csv already exists. Skipping test.\n",
      "Results file own/results/trajectory_model10i-6.csv already exists. Skipping test.\n",
      "Results file own/results/trajectory_model10i-7.csv already exists. Skipping test.\n",
      "Results file own/results/trajectory_model11-4.csv already exists. Skipping test.\n",
      "Results file own/results/trajectory_model11-6.csv already exists. Skipping test.\n",
      "Results file own/results/trajectory_model11-7.csv already exists. Skipping test.\n"
     ]
    }
   ],
   "source": [
    "networks_to_test = [\n",
    "    ('trajectory_model10.h5', 'own/data/6.csv', 1600),\n",
    "    ('trajectory_model10.h5', 'own/data/4.csv', 1600),\n",
    "    ('trajectory_model10.h5', 'own/data/7.csv', 1600),\n",
    "    ('trajectory_model9.h5', 'own/data/6.csv', 800),\n",
    "    ('trajectory_model9.h5', 'own/data/4.csv', 800),\n",
    "    ('trajectory_model9.h5', 'own/data/7.csv', 800),\n",
    "    ('trajectory_model9i.h5', 'own/data-int/6.csv', 800),\n",
    "    ('trajectory_model9i.h5', 'own/data-int/4.csv', 800),\n",
    "    ('trajectory_model9i.h5', 'own/data-int/7.csv', 800),\n",
    "    ('trajectory_model10i.h5', 'own/data-int/4.csv', 1600),\n",
    "    ('trajectory_model10i.h5', 'own/data-int/6.csv', 1600),\n",
    "    ('trajectory_model10i.h5', 'own/data-int/7.csv', 1600),\n",
    "    ('trajectory_model11.h5', 'own/data-int/4.csv', 3200),\n",
    "    ('trajectory_model11.h5', 'own/data-int/6.csv', 3200),\n",
    "    ('trajectory_model11.h5', 'own/data-int/7.csv', 3200),\n",
    "    # add more tests here the format is |model name|test case|sequence length|\n",
    "]\n",
    "\n",
    "for network in networks_to_test:\n",
    "    model_path, test_file, sequence_length = network\n",
    "    model_name = os.path.basename(model_path).split('.')[0]\n",
    "    test_number = os.path.basename(test_file).split('.')[0]\n",
    "    results_filename = f'{model_name}-{test_number}.csv'\n",
    "    results_dir = 'own/results'\n",
    "    results_path = os.path.join(results_dir, results_filename)\n",
    "\n",
    "    # Check if the results file already exists\n",
    "    if os.path.exists(results_path):\n",
    "        print(f'Results file {results_path} already exists. Skipping test.')\n",
    "        continue\n",
    "\n",
    "    # Run the test and get the results\n",
    "    results_df = run_test(model_path, test_file, sequence_length)\n",
    "\n",
    "    # Check if results_df is None\n",
    "    if results_df is None:\n",
    "        print(f'Test for {model_path} with {test_file} returned no results. Skipping save.')\n",
    "        continue\n",
    "\n",
    "    # Create the results directory if it doesn't exist\n",
    "    if not os.path.exists(results_dir):\n",
    "        os.makedirs(results_dir)\n",
    "    \n",
    "    # Save the results to a CSV file\n",
    "    results_df.to_csv(results_path, index=False)\n",
    "    print(f'Results saved to {results_path}')"
   ]
  },
  {
   "cell_type": "code",
   "execution_count": null,
   "id": "dbce5eef-f36c-4ea1-8cab-a7e6e26e3ee0",
   "metadata": {},
   "outputs": [],
   "source": []
  }
 ],
 "metadata": {
  "kernelspec": {
   "display_name": "Python",
   "language": "python",
   "name": "python3"
  },
  "language_info": {
   "codemirror_mode": {
    "name": "ipython",
    "version": 3
   },
   "file_extension": ".py",
   "mimetype": "text/x-python",
   "name": "python",
   "nbconvert_exporter": "python",
   "pygments_lexer": "ipython3",
   "version": "3.8.10"
  }
 },
 "nbformat": 4,
 "nbformat_minor": 5
}
