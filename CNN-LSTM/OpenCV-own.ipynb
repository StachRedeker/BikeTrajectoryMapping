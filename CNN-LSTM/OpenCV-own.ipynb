{
 "cells": [
  {
   "cell_type": "code",
   "execution_count": 1,
   "id": "3a2a782f-1576-482c-b1d8-5cb9c2c8f7c7",
   "metadata": {},
   "outputs": [
    {
     "name": "stdout",
     "output_type": "stream",
     "text": [
      "Defaulting to user installation because normal site-packages is not writeable\n",
      "Requirement already satisfied: opencv-python in /home/jovyan/.local/lib/python3.8/site-packages (4.9.0.80)\n",
      "Requirement already satisfied: numpy>=1.17.0 in /usr/local/lib/python3.8/dist-packages (from opencv-python) (1.23.1)\n"
     ]
    }
   ],
   "source": [
    "import sys\n",
    "!{sys.executable} -m pip install opencv-python"
   ]
  },
  {
   "cell_type": "code",
   "execution_count": 2,
   "id": "26831c7b-e864-47c9-8e1a-f541f3fa5b33",
   "metadata": {},
   "outputs": [
    {
     "name": "stdout",
     "output_type": "stream",
     "text": [
      "Mask loaded from mask.png\n"
     ]
    },
    {
     "name": "stderr",
     "output_type": "stream",
     "text": [
      "Processing 07bigroundzeroshot:   7%|▋         | 994/14946 [00:06<01:28, 158.11it/s]"
     ]
    },
    {
     "name": "stdout",
     "output_type": "stream",
     "text": [
      "Invalid essential matrix, repeating last trajectory\n",
      "Invalid essential matrix, repeating last trajectory\n",
      "Not enough points to compute the essential matrix, re-detecting features\n"
     ]
    },
    {
     "name": "stderr",
     "output_type": "stream",
     "text": [
      "Processing 07bigroundzeroshot:   9%|▊         | 1307/14946 [00:08<01:10, 193.19it/s]"
     ]
    },
    {
     "name": "stdout",
     "output_type": "stream",
     "text": [
      "Invalid essential matrix, repeating last trajectory\n",
      "Invalid essential matrix, repeating last trajectory\n",
      "Not enough points to compute the essential matrix, re-detecting features\n"
     ]
    },
    {
     "name": "stderr",
     "output_type": "stream",
     "text": [
      "Processing 07bigroundzeroshot:  11%|█         | 1670/14946 [00:11<01:05, 202.29it/s]"
     ]
    },
    {
     "name": "stdout",
     "output_type": "stream",
     "text": [
      "Invalid essential matrix, repeating last trajectory\n",
      "Invalid essential matrix, repeating last trajectory\n",
      "Invalid essential matrix, repeating last trajectory\n",
      "Invalid essential matrix, repeating last trajectory\n",
      "Invalid essential matrix, repeating last trajectory\n",
      "Invalid essential matrix, repeating last trajectory\n",
      "Invalid essential matrix, repeating last trajectory\n",
      "Invalid essential matrix, repeating last trajectory\n",
      "Invalid essential matrix, repeating last trajectory\n",
      "Invalid essential matrix, repeating last trajectory\n",
      "Invalid essential matrix, repeating last trajectory\n",
      "Invalid essential matrix, repeating last trajectory\n",
      "Invalid essential matrix, repeating last trajectory\n",
      "Invalid essential matrix, repeating last trajectory\n",
      "Invalid essential matrix, repeating last trajectory\n",
      "Invalid essential matrix, repeating last trajectory\n",
      "Invalid essential matrix, repeating last trajectory\n",
      "Invalid essential matrix, repeating last trajectory\n",
      "Invalid essential matrix, repeating last trajectory\n",
      "Invalid essential matrix, repeating last trajectory\n",
      "Invalid essential matrix, repeating last trajectory\n",
      "Invalid essential matrix, repeating last trajectory\n",
      "Invalid essential matrix, repeating last trajectory\n",
      "Invalid essential matrix, repeating last trajectory\n",
      "Invalid essential matrix, repeating last trajectory\n",
      "Invalid essential matrix, repeating last trajectory\n",
      "Invalid essential matrix, repeating last trajectory\n",
      "Invalid essential matrix, repeating last trajectory\n",
      "Invalid essential matrix, repeating last trajectory\n",
      "Invalid essential matrix, repeating last trajectory\n",
      "Invalid essential matrix, repeating last trajectory\n",
      "Invalid essential matrix, repeating last trajectory\n",
      "Invalid essential matrix, repeating last trajectory\n",
      "Invalid essential matrix, repeating last trajectory\n",
      "Invalid essential matrix, repeating last trajectory\n",
      "Invalid essential matrix, repeating last trajectory\n",
      "Invalid essential matrix, repeating last trajectory\n",
      "Invalid essential matrix, repeating last trajectory\n",
      "Invalid essential matrix, repeating last trajectory\n",
      "Invalid essential matrix, repeating last trajectory\n",
      "Invalid essential matrix, repeating last trajectory\n",
      "Invalid essential matrix, repeating last trajectory\n"
     ]
    },
    {
     "name": "stderr",
     "output_type": "stream",
     "text": [
      "Processing 07bigroundzeroshot:  11%|█▏        | 1716/14946 [00:11<01:02, 213.38it/s]"
     ]
    },
    {
     "name": "stdout",
     "output_type": "stream",
     "text": [
      "Invalid essential matrix, repeating last trajectory\n",
      "Invalid essential matrix, repeating last trajectory\n",
      "Invalid essential matrix, repeating last trajectory\n",
      "Invalid essential matrix, repeating last trajectory\n",
      "Invalid essential matrix, repeating last trajectory\n",
      "Invalid essential matrix, repeating last trajectory\n",
      "Invalid essential matrix, repeating last trajectory\n",
      "Invalid essential matrix, repeating last trajectory\n",
      "Invalid essential matrix, repeating last trajectory\n",
      "Invalid essential matrix, repeating last trajectory\n",
      "Invalid essential matrix, repeating last trajectory\n",
      "Invalid essential matrix, repeating last trajectory\n",
      "Invalid essential matrix, repeating last trajectory\n",
      "Invalid essential matrix, repeating last trajectory\n",
      "Invalid essential matrix, repeating last trajectory\n",
      "Invalid essential matrix, repeating last trajectory\n",
      "Invalid essential matrix, repeating last trajectory\n",
      "Invalid essential matrix, repeating last trajectory\n",
      "Invalid essential matrix, repeating last trajectory\n",
      "Invalid essential matrix, repeating last trajectory\n",
      "Invalid essential matrix, repeating last trajectory\n",
      "Invalid essential matrix, repeating last trajectory\n",
      "Invalid essential matrix, repeating last trajectory\n",
      "Invalid essential matrix, repeating last trajectory\n",
      "Invalid essential matrix, repeating last trajectory\n",
      "Invalid essential matrix, repeating last trajectory\n",
      "Invalid essential matrix, repeating last trajectory\n",
      "Invalid essential matrix, repeating last trajectory\n",
      "Invalid essential matrix, repeating last trajectory\n",
      "Invalid essential matrix, repeating last trajectory\n",
      "Invalid essential matrix, repeating last trajectory\n",
      "Invalid essential matrix, repeating last trajectory\n",
      "Invalid essential matrix, repeating last trajectory\n",
      "Invalid essential matrix, repeating last trajectory\n",
      "Invalid essential matrix, repeating last trajectory\n",
      "Invalid essential matrix, repeating last trajectory\n",
      "Invalid essential matrix, repeating last trajectory\n",
      "Invalid essential matrix, repeating last trajectory\n",
      "Invalid essential matrix, repeating last trajectory\n",
      "Invalid essential matrix, repeating last trajectory\n",
      "Invalid essential matrix, repeating last trajectory\n",
      "Invalid essential matrix, repeating last trajectory\n",
      "Invalid essential matrix, repeating last trajectory\n",
      "Invalid essential matrix, repeating last trajectory\n",
      "Invalid essential matrix, repeating last trajectory\n",
      "Invalid essential matrix, repeating last trajectory\n",
      "Invalid essential matrix, repeating last trajectory\n"
     ]
    },
    {
     "name": "stderr",
     "output_type": "stream",
     "text": [
      "Processing 07bigroundzeroshot:  12%|█▏        | 1761/14946 [00:11<01:02, 212.66it/s]"
     ]
    },
    {
     "name": "stdout",
     "output_type": "stream",
     "text": [
      "Invalid essential matrix, repeating last trajectory\n",
      "Invalid essential matrix, repeating last trajectory\n",
      "Invalid essential matrix, repeating last trajectory\n",
      "Invalid essential matrix, repeating last trajectory\n",
      "Invalid essential matrix, repeating last trajectory\n",
      "Invalid essential matrix, repeating last trajectory\n",
      "Invalid essential matrix, repeating last trajectory\n",
      "Invalid essential matrix, repeating last trajectory\n",
      "Invalid essential matrix, repeating last trajectory\n",
      "Invalid essential matrix, repeating last trajectory\n",
      "Invalid essential matrix, repeating last trajectory\n",
      "Invalid essential matrix, repeating last trajectory\n",
      "Invalid essential matrix, repeating last trajectory\n",
      "Invalid essential matrix, repeating last trajectory\n",
      "Invalid essential matrix, repeating last trajectory\n",
      "Invalid essential matrix, repeating last trajectory\n",
      "Invalid essential matrix, repeating last trajectory\n",
      "Invalid essential matrix, repeating last trajectory\n",
      "Invalid essential matrix, repeating last trajectory\n",
      "Invalid essential matrix, repeating last trajectory\n",
      "Invalid essential matrix, repeating last trajectory\n",
      "Invalid essential matrix, repeating last trajectory\n",
      "Invalid essential matrix, repeating last trajectory\n",
      "Invalid essential matrix, repeating last trajectory\n",
      "Invalid essential matrix, repeating last trajectory\n",
      "Invalid essential matrix, repeating last trajectory\n",
      "Invalid essential matrix, repeating last trajectory\n",
      "Invalid essential matrix, repeating last trajectory\n",
      "Invalid essential matrix, repeating last trajectory\n",
      "Invalid essential matrix, repeating last trajectory\n",
      "Invalid essential matrix, repeating last trajectory\n",
      "Invalid essential matrix, repeating last trajectory\n",
      "Invalid essential matrix, repeating last trajectory\n",
      "Invalid essential matrix, repeating last trajectory\n",
      "Invalid essential matrix, repeating last trajectory\n",
      "Invalid essential matrix, repeating last trajectory\n",
      "Invalid essential matrix, repeating last trajectory\n",
      "Invalid essential matrix, repeating last trajectory\n",
      "Invalid essential matrix, repeating last trajectory\n",
      "Invalid essential matrix, repeating last trajectory\n",
      "Invalid essential matrix, repeating last trajectory\n",
      "Invalid essential matrix, repeating last trajectory\n"
     ]
    },
    {
     "name": "stderr",
     "output_type": "stream",
     "text": [
      "Processing 07bigroundzeroshot:  12%|█▏        | 1805/14946 [00:12<01:02, 209.48it/s]"
     ]
    },
    {
     "name": "stdout",
     "output_type": "stream",
     "text": [
      "Invalid essential matrix, repeating last trajectory\n",
      "Invalid essential matrix, repeating last trajectory\n",
      "Invalid essential matrix, repeating last trajectory\n",
      "Invalid essential matrix, repeating last trajectory\n",
      "Invalid essential matrix, repeating last trajectory\n",
      "Invalid essential matrix, repeating last trajectory\n",
      "Invalid essential matrix, repeating last trajectory\n",
      "Invalid essential matrix, repeating last trajectory\n",
      "Invalid essential matrix, repeating last trajectory\n",
      "Invalid essential matrix, repeating last trajectory\n",
      "Invalid essential matrix, repeating last trajectory\n",
      "Invalid essential matrix, repeating last trajectory\n",
      "Invalid essential matrix, repeating last trajectory\n",
      "Invalid essential matrix, repeating last trajectory\n",
      "Invalid essential matrix, repeating last trajectory\n",
      "Invalid essential matrix, repeating last trajectory\n",
      "Invalid essential matrix, repeating last trajectory\n",
      "Invalid essential matrix, repeating last trajectory\n",
      "Invalid essential matrix, repeating last trajectory\n",
      "Invalid essential matrix, repeating last trajectory\n",
      "Invalid essential matrix, repeating last trajectory\n",
      "Invalid essential matrix, repeating last trajectory\n",
      "Invalid essential matrix, repeating last trajectory\n",
      "Invalid essential matrix, repeating last trajectory\n",
      "Invalid essential matrix, repeating last trajectory\n",
      "Invalid essential matrix, repeating last trajectory\n",
      "Invalid essential matrix, repeating last trajectory\n",
      "Invalid essential matrix, repeating last trajectory\n",
      "Invalid essential matrix, repeating last trajectory\n",
      "Invalid essential matrix, repeating last trajectory\n",
      "Invalid essential matrix, repeating last trajectory\n",
      "Invalid essential matrix, repeating last trajectory\n",
      "Invalid essential matrix, repeating last trajectory\n",
      "Invalid essential matrix, repeating last trajectory\n",
      "Invalid essential matrix, repeating last trajectory\n",
      "Invalid essential matrix, repeating last trajectory\n",
      "Invalid essential matrix, repeating last trajectory\n",
      "Invalid essential matrix, repeating last trajectory\n",
      "Invalid essential matrix, repeating last trajectory\n",
      "Invalid essential matrix, repeating last trajectory\n",
      "Invalid essential matrix, repeating last trajectory\n"
     ]
    },
    {
     "name": "stderr",
     "output_type": "stream",
     "text": [
      "Processing 07bigroundzeroshot:  12%|█▏        | 1847/14946 [00:12<01:04, 203.72it/s]"
     ]
    },
    {
     "name": "stdout",
     "output_type": "stream",
     "text": [
      "Invalid essential matrix, repeating last trajectory\n",
      "Invalid essential matrix, repeating last trajectory\n",
      "Invalid essential matrix, repeating last trajectory\n",
      "Invalid essential matrix, repeating last trajectory\n",
      "Invalid essential matrix, repeating last trajectory\n",
      "Invalid essential matrix, repeating last trajectory\n",
      "Invalid essential matrix, repeating last trajectory\n",
      "Invalid essential matrix, repeating last trajectory\n",
      "Invalid essential matrix, repeating last trajectory\n",
      "Invalid essential matrix, repeating last trajectory\n",
      "Invalid essential matrix, repeating last trajectory\n",
      "Invalid essential matrix, repeating last trajectory\n",
      "Invalid essential matrix, repeating last trajectory\n",
      "Invalid essential matrix, repeating last trajectory\n",
      "Invalid essential matrix, repeating last trajectory\n",
      "Invalid essential matrix, repeating last trajectory\n",
      "Invalid essential matrix, repeating last trajectory\n",
      "Invalid essential matrix, repeating last trajectory\n",
      "Invalid essential matrix, repeating last trajectory\n",
      "Invalid essential matrix, repeating last trajectory\n",
      "Invalid essential matrix, repeating last trajectory\n",
      "Invalid essential matrix, repeating last trajectory\n",
      "Invalid essential matrix, repeating last trajectory\n",
      "Invalid essential matrix, repeating last trajectory\n",
      "Invalid essential matrix, repeating last trajectory\n",
      "Invalid essential matrix, repeating last trajectory\n",
      "Invalid essential matrix, repeating last trajectory\n",
      "Invalid essential matrix, repeating last trajectory\n",
      "Invalid essential matrix, repeating last trajectory\n",
      "Invalid essential matrix, repeating last trajectory\n",
      "Invalid essential matrix, repeating last trajectory\n",
      "Invalid essential matrix, repeating last trajectory\n",
      "Invalid essential matrix, repeating last trajectory\n",
      "Invalid essential matrix, repeating last trajectory\n",
      "Invalid essential matrix, repeating last trajectory\n",
      "Invalid essential matrix, repeating last trajectory\n",
      "Invalid essential matrix, repeating last trajectory\n",
      "Invalid essential matrix, repeating last trajectory\n",
      "Invalid essential matrix, repeating last trajectory\n"
     ]
    },
    {
     "name": "stderr",
     "output_type": "stream",
     "text": [
      "Processing 07bigroundzeroshot:  13%|█▎        | 1889/14946 [00:12<01:04, 201.92it/s]"
     ]
    },
    {
     "name": "stdout",
     "output_type": "stream",
     "text": [
      "Invalid essential matrix, repeating last trajectory\n",
      "Invalid essential matrix, repeating last trajectory\n",
      "Invalid essential matrix, repeating last trajectory\n",
      "Invalid essential matrix, repeating last trajectory\n",
      "Invalid essential matrix, repeating last trajectory\n",
      "Invalid essential matrix, repeating last trajectory\n",
      "Invalid essential matrix, repeating last trajectory\n",
      "Invalid essential matrix, repeating last trajectory\n",
      "Invalid essential matrix, repeating last trajectory\n",
      "Invalid essential matrix, repeating last trajectory\n",
      "Invalid essential matrix, repeating last trajectory\n",
      "Invalid essential matrix, repeating last trajectory\n",
      "Invalid essential matrix, repeating last trajectory\n",
      "Invalid essential matrix, repeating last trajectory\n",
      "Invalid essential matrix, repeating last trajectory\n",
      "Invalid essential matrix, repeating last trajectory\n",
      "Invalid essential matrix, repeating last trajectory\n",
      "Invalid essential matrix, repeating last trajectory\n",
      "Invalid essential matrix, repeating last trajectory\n",
      "Invalid essential matrix, repeating last trajectory\n",
      "Invalid essential matrix, repeating last trajectory\n",
      "Invalid essential matrix, repeating last trajectory\n",
      "Invalid essential matrix, repeating last trajectory\n",
      "Invalid essential matrix, repeating last trajectory\n",
      "Invalid essential matrix, repeating last trajectory\n",
      "Invalid essential matrix, repeating last trajectory\n",
      "Invalid essential matrix, repeating last trajectory\n",
      "Invalid essential matrix, repeating last trajectory\n",
      "Invalid essential matrix, repeating last trajectory\n",
      "Invalid essential matrix, repeating last trajectory\n",
      "Invalid essential matrix, repeating last trajectory\n",
      "Invalid essential matrix, repeating last trajectory\n",
      "Invalid essential matrix, repeating last trajectory\n",
      "Invalid essential matrix, repeating last trajectory\n",
      "Invalid essential matrix, repeating last trajectory\n",
      "Invalid essential matrix, repeating last trajectory\n",
      "Invalid essential matrix, repeating last trajectory\n",
      "Invalid essential matrix, repeating last trajectory\n",
      "Invalid essential matrix, repeating last trajectory\n",
      "Invalid essential matrix, repeating last trajectory\n",
      "Invalid essential matrix, repeating last trajectory\n",
      "Invalid essential matrix, repeating last trajectory\n"
     ]
    },
    {
     "name": "stderr",
     "output_type": "stream",
     "text": [
      "Processing 07bigroundzeroshot:  13%|█▎        | 1932/14946 [00:12<01:03, 205.19it/s]"
     ]
    },
    {
     "name": "stdout",
     "output_type": "stream",
     "text": [
      "Invalid essential matrix, repeating last trajectory\n",
      "Invalid essential matrix, repeating last trajectory\n",
      "Invalid essential matrix, repeating last trajectory\n",
      "Invalid essential matrix, repeating last trajectory\n",
      "Invalid essential matrix, repeating last trajectory\n",
      "Invalid essential matrix, repeating last trajectory\n",
      "Invalid essential matrix, repeating last trajectory\n",
      "Invalid essential matrix, repeating last trajectory\n",
      "Invalid essential matrix, repeating last trajectory\n",
      "Invalid essential matrix, repeating last trajectory\n",
      "Invalid essential matrix, repeating last trajectory\n",
      "Invalid essential matrix, repeating last trajectory\n",
      "Invalid essential matrix, repeating last trajectory\n",
      "Invalid essential matrix, repeating last trajectory\n",
      "Invalid essential matrix, repeating last trajectory\n",
      "Invalid essential matrix, repeating last trajectory\n",
      "Invalid essential matrix, repeating last trajectory\n",
      "Invalid essential matrix, repeating last trajectory\n",
      "Invalid essential matrix, repeating last trajectory\n",
      "Invalid essential matrix, repeating last trajectory\n",
      "Invalid essential matrix, repeating last trajectory\n",
      "Invalid essential matrix, repeating last trajectory\n",
      "Invalid essential matrix, repeating last trajectory\n",
      "Invalid essential matrix, repeating last trajectory\n",
      "Invalid essential matrix, repeating last trajectory\n",
      "Invalid essential matrix, repeating last trajectory\n",
      "Invalid essential matrix, repeating last trajectory\n",
      "Invalid essential matrix, repeating last trajectory\n",
      "Invalid essential matrix, repeating last trajectory\n",
      "Invalid essential matrix, repeating last trajectory\n",
      "Invalid essential matrix, repeating last trajectory\n",
      "Invalid essential matrix, repeating last trajectory\n",
      "Invalid essential matrix, repeating last trajectory\n",
      "Invalid essential matrix, repeating last trajectory\n",
      "Invalid essential matrix, repeating last trajectory\n",
      "Invalid essential matrix, repeating last trajectory\n",
      "Invalid essential matrix, repeating last trajectory\n",
      "Invalid essential matrix, repeating last trajectory\n",
      "Invalid essential matrix, repeating last trajectory\n",
      "Invalid essential matrix, repeating last trajectory\n",
      "Invalid essential matrix, repeating last trajectory\n",
      "Invalid essential matrix, repeating last trajectory\n"
     ]
    },
    {
     "name": "stderr",
     "output_type": "stream",
     "text": [
      "Processing 07bigroundzeroshot:  13%|█▎        | 1979/14946 [00:12<00:59, 218.04it/s]"
     ]
    },
    {
     "name": "stdout",
     "output_type": "stream",
     "text": [
      "Invalid essential matrix, repeating last trajectory\n",
      "Invalid essential matrix, repeating last trajectory\n",
      "Invalid essential matrix, repeating last trajectory\n",
      "Invalid essential matrix, repeating last trajectory\n",
      "Invalid essential matrix, repeating last trajectory\n",
      "Invalid essential matrix, repeating last trajectory\n",
      "Invalid essential matrix, repeating last trajectory\n",
      "Invalid essential matrix, repeating last trajectory\n",
      "Invalid essential matrix, repeating last trajectory\n",
      "Invalid essential matrix, repeating last trajectory\n",
      "Invalid essential matrix, repeating last trajectory\n",
      "Invalid essential matrix, repeating last trajectory\n",
      "Invalid essential matrix, repeating last trajectory\n",
      "Invalid essential matrix, repeating last trajectory\n",
      "Invalid essential matrix, repeating last trajectory\n",
      "Invalid essential matrix, repeating last trajectory\n",
      "Invalid essential matrix, repeating last trajectory\n",
      "Invalid essential matrix, repeating last trajectory\n",
      "Invalid essential matrix, repeating last trajectory\n",
      "Invalid essential matrix, repeating last trajectory\n",
      "Invalid essential matrix, repeating last trajectory\n",
      "Invalid essential matrix, repeating last trajectory\n",
      "Invalid essential matrix, repeating last trajectory\n",
      "Invalid essential matrix, repeating last trajectory\n",
      "Invalid essential matrix, repeating last trajectory\n",
      "Invalid essential matrix, repeating last trajectory\n",
      "Invalid essential matrix, repeating last trajectory\n",
      "Invalid essential matrix, repeating last trajectory\n",
      "Invalid essential matrix, repeating last trajectory\n",
      "Invalid essential matrix, repeating last trajectory\n",
      "Invalid essential matrix, repeating last trajectory\n",
      "Invalid essential matrix, repeating last trajectory\n",
      "Invalid essential matrix, repeating last trajectory\n",
      "Invalid essential matrix, repeating last trajectory\n",
      "Invalid essential matrix, repeating last trajectory\n",
      "Invalid essential matrix, repeating last trajectory\n",
      "Invalid essential matrix, repeating last trajectory\n",
      "Invalid essential matrix, repeating last trajectory\n",
      "Invalid essential matrix, repeating last trajectory\n",
      "Invalid essential matrix, repeating last trajectory\n",
      "Invalid essential matrix, repeating last trajectory\n",
      "Invalid essential matrix, repeating last trajectory\n",
      "Invalid essential matrix, repeating last trajectory\n",
      "Invalid essential matrix, repeating last trajectory\n",
      "Invalid essential matrix, repeating last trajectory\n",
      "Invalid essential matrix, repeating last trajectory\n",
      "Invalid essential matrix, repeating last trajectory\n"
     ]
    },
    {
     "name": "stderr",
     "output_type": "stream",
     "text": [
      "Processing 07bigroundzeroshot:  14%|█▎        | 2026/14946 [00:13<00:57, 222.81it/s]"
     ]
    },
    {
     "name": "stdout",
     "output_type": "stream",
     "text": [
      "Invalid essential matrix, repeating last trajectory\n",
      "Invalid essential matrix, repeating last trajectory\n",
      "Invalid essential matrix, repeating last trajectory\n",
      "Invalid essential matrix, repeating last trajectory\n",
      "Invalid essential matrix, repeating last trajectory\n",
      "Invalid essential matrix, repeating last trajectory\n",
      "Invalid essential matrix, repeating last trajectory\n",
      "Invalid essential matrix, repeating last trajectory\n",
      "Invalid essential matrix, repeating last trajectory\n",
      "Invalid essential matrix, repeating last trajectory\n",
      "Invalid essential matrix, repeating last trajectory\n",
      "Invalid essential matrix, repeating last trajectory\n",
      "Invalid essential matrix, repeating last trajectory\n",
      "Invalid essential matrix, repeating last trajectory\n",
      "Invalid essential matrix, repeating last trajectory\n",
      "Invalid essential matrix, repeating last trajectory\n",
      "Invalid essential matrix, repeating last trajectory\n",
      "Invalid essential matrix, repeating last trajectory\n",
      "Invalid essential matrix, repeating last trajectory\n",
      "Invalid essential matrix, repeating last trajectory\n",
      "Invalid essential matrix, repeating last trajectory\n",
      "Invalid essential matrix, repeating last trajectory\n",
      "Invalid essential matrix, repeating last trajectory\n",
      "Invalid essential matrix, repeating last trajectory\n",
      "Invalid essential matrix, repeating last trajectory\n",
      "Invalid essential matrix, repeating last trajectory\n",
      "Invalid essential matrix, repeating last trajectory\n",
      "Invalid essential matrix, repeating last trajectory\n",
      "Invalid essential matrix, repeating last trajectory\n",
      "Invalid essential matrix, repeating last trajectory\n",
      "Invalid essential matrix, repeating last trajectory\n",
      "Invalid essential matrix, repeating last trajectory\n",
      "Invalid essential matrix, repeating last trajectory\n",
      "Invalid essential matrix, repeating last trajectory\n",
      "Invalid essential matrix, repeating last trajectory\n",
      "Invalid essential matrix, repeating last trajectory\n",
      "Invalid essential matrix, repeating last trajectory\n",
      "Invalid essential matrix, repeating last trajectory\n",
      "Invalid essential matrix, repeating last trajectory\n",
      "Invalid essential matrix, repeating last trajectory\n",
      "Invalid essential matrix, repeating last trajectory\n",
      "Invalid essential matrix, repeating last trajectory\n",
      "Invalid essential matrix, repeating last trajectory\n",
      "Invalid essential matrix, repeating last trajectory\n",
      "Invalid essential matrix, repeating last trajectory\n",
      "Invalid essential matrix, repeating last trajectory\n"
     ]
    },
    {
     "name": "stderr",
     "output_type": "stream",
     "text": [
      "Processing 07bigroundzeroshot:  14%|█▍        | 2072/14946 [00:13<00:59, 217.74it/s]"
     ]
    },
    {
     "name": "stdout",
     "output_type": "stream",
     "text": [
      "Invalid essential matrix, repeating last trajectory\n",
      "Invalid essential matrix, repeating last trajectory\n",
      "Invalid essential matrix, repeating last trajectory\n",
      "Invalid essential matrix, repeating last trajectory\n",
      "Invalid essential matrix, repeating last trajectory\n",
      "Invalid essential matrix, repeating last trajectory\n",
      "Invalid essential matrix, repeating last trajectory\n",
      "Invalid essential matrix, repeating last trajectory\n",
      "Invalid essential matrix, repeating last trajectory\n",
      "Invalid essential matrix, repeating last trajectory\n",
      "Invalid essential matrix, repeating last trajectory\n",
      "Invalid essential matrix, repeating last trajectory\n",
      "Invalid essential matrix, repeating last trajectory\n",
      "Invalid essential matrix, repeating last trajectory\n",
      "Invalid essential matrix, repeating last trajectory\n",
      "Invalid essential matrix, repeating last trajectory\n",
      "Invalid essential matrix, repeating last trajectory\n",
      "Invalid essential matrix, repeating last trajectory\n",
      "Invalid essential matrix, repeating last trajectory\n",
      "Invalid essential matrix, repeating last trajectory\n",
      "Invalid essential matrix, repeating last trajectory\n",
      "Invalid essential matrix, repeating last trajectory\n",
      "Invalid essential matrix, repeating last trajectory\n",
      "Invalid essential matrix, repeating last trajectory\n",
      "Invalid essential matrix, repeating last trajectory\n",
      "Invalid essential matrix, repeating last trajectory\n",
      "Invalid essential matrix, repeating last trajectory\n",
      "Invalid essential matrix, repeating last trajectory\n",
      "Invalid essential matrix, repeating last trajectory\n",
      "Invalid essential matrix, repeating last trajectory\n",
      "Invalid essential matrix, repeating last trajectory\n",
      "Invalid essential matrix, repeating last trajectory\n",
      "Invalid essential matrix, repeating last trajectory\n",
      "Invalid essential matrix, repeating last trajectory\n",
      "Invalid essential matrix, repeating last trajectory\n",
      "Invalid essential matrix, repeating last trajectory\n",
      "Invalid essential matrix, repeating last trajectory\n",
      "Invalid essential matrix, repeating last trajectory\n",
      "Invalid essential matrix, repeating last trajectory\n",
      "Invalid essential matrix, repeating last trajectory\n",
      "Invalid essential matrix, repeating last trajectory\n",
      "Invalid essential matrix, repeating last trajectory\n",
      "Invalid essential matrix, repeating last trajectory\n",
      "Invalid essential matrix, repeating last trajectory\n"
     ]
    },
    {
     "name": "stderr",
     "output_type": "stream",
     "text": [
      "Processing 07bigroundzeroshot:  14%|█▍        | 2118/14946 [00:13<00:58, 219.33it/s]"
     ]
    },
    {
     "name": "stdout",
     "output_type": "stream",
     "text": [
      "Invalid essential matrix, repeating last trajectory\n",
      "Invalid essential matrix, repeating last trajectory\n",
      "Invalid essential matrix, repeating last trajectory\n",
      "Invalid essential matrix, repeating last trajectory\n",
      "Invalid essential matrix, repeating last trajectory\n",
      "Invalid essential matrix, repeating last trajectory\n",
      "Invalid essential matrix, repeating last trajectory\n",
      "Invalid essential matrix, repeating last trajectory\n",
      "Invalid essential matrix, repeating last trajectory\n",
      "Invalid essential matrix, repeating last trajectory\n",
      "Invalid essential matrix, repeating last trajectory\n",
      "Invalid essential matrix, repeating last trajectory\n",
      "Invalid essential matrix, repeating last trajectory\n",
      "Invalid essential matrix, repeating last trajectory\n",
      "Invalid essential matrix, repeating last trajectory\n",
      "Invalid essential matrix, repeating last trajectory\n",
      "Invalid essential matrix, repeating last trajectory\n",
      "Invalid essential matrix, repeating last trajectory\n",
      "Invalid essential matrix, repeating last trajectory\n",
      "Invalid essential matrix, repeating last trajectory\n",
      "Invalid essential matrix, repeating last trajectory\n",
      "Invalid essential matrix, repeating last trajectory\n",
      "Invalid essential matrix, repeating last trajectory\n",
      "Invalid essential matrix, repeating last trajectory\n",
      "Invalid essential matrix, repeating last trajectory\n",
      "Invalid essential matrix, repeating last trajectory\n",
      "Invalid essential matrix, repeating last trajectory\n",
      "Invalid essential matrix, repeating last trajectory\n",
      "Invalid essential matrix, repeating last trajectory\n",
      "Invalid essential matrix, repeating last trajectory\n",
      "Invalid essential matrix, repeating last trajectory\n",
      "Invalid essential matrix, repeating last trajectory\n",
      "Invalid essential matrix, repeating last trajectory\n",
      "Invalid essential matrix, repeating last trajectory\n",
      "Invalid essential matrix, repeating last trajectory\n",
      "Invalid essential matrix, repeating last trajectory\n",
      "Invalid essential matrix, repeating last trajectory\n",
      "Invalid essential matrix, repeating last trajectory\n",
      "Invalid essential matrix, repeating last trajectory\n",
      "Invalid essential matrix, repeating last trajectory\n",
      "Invalid essential matrix, repeating last trajectory\n",
      "Invalid essential matrix, repeating last trajectory\n",
      "Invalid essential matrix, repeating last trajectory\n",
      "Invalid essential matrix, repeating last trajectory\n",
      "Invalid essential matrix, repeating last trajectory\n",
      "Invalid essential matrix, repeating last trajectory\n",
      "Invalid essential matrix, repeating last trajectory\n",
      "Invalid essential matrix, repeating last trajectory\n",
      "Invalid essential matrix, repeating last trajectory\n",
      "Not enough points to compute the essential matrix, re-detecting features\n"
     ]
    },
    {
     "name": "stderr",
     "output_type": "stream",
     "text": [
      "Processing 07bigroundzeroshot:  19%|█▉        | 2868/14946 [00:18<01:00, 200.99it/s]"
     ]
    },
    {
     "name": "stdout",
     "output_type": "stream",
     "text": [
      "Not enough points to compute the essential matrix, re-detecting features\n"
     ]
    },
    {
     "name": "stderr",
     "output_type": "stream",
     "text": [
      "Processing 07bigroundzeroshot:  20%|██        | 3010/14946 [00:19<01:24, 140.51it/s]"
     ]
    },
    {
     "name": "stdout",
     "output_type": "stream",
     "text": [
      "Invalid essential matrix, repeating last trajectory\n",
      "Invalid essential matrix, repeating last trajectory\n",
      "Invalid essential matrix, repeating last trajectory\n",
      "Invalid essential matrix, repeating last trajectory\n",
      "Invalid essential matrix, repeating last trajectory\n",
      "Invalid essential matrix, repeating last trajectory\n",
      "Invalid essential matrix, repeating last trajectory\n",
      "Invalid essential matrix, repeating last trajectory\n",
      "Invalid essential matrix, repeating last trajectory\n",
      "Invalid essential matrix, repeating last trajectory\n",
      "Invalid essential matrix, repeating last trajectory\n",
      "Invalid essential matrix, repeating last trajectory\n",
      "Invalid essential matrix, repeating last trajectory\n",
      "Not enough points to compute the essential matrix, re-detecting features\n"
     ]
    },
    {
     "name": "stderr",
     "output_type": "stream",
     "text": [
      "Processing 07bigroundzeroshot:  27%|██▋       | 3966/14946 [00:25<00:54, 199.90it/s]"
     ]
    },
    {
     "name": "stdout",
     "output_type": "stream",
     "text": [
      "Invalid essential matrix, repeating last trajectory\n",
      "Invalid essential matrix, repeating last trajectory\n",
      "Invalid essential matrix, repeating last trajectory\n",
      "Invalid essential matrix, repeating last trajectory\n",
      "Invalid essential matrix, repeating last trajectory\n",
      "Invalid essential matrix, repeating last trajectory\n",
      "Invalid essential matrix, repeating last trajectory\n",
      "Invalid essential matrix, repeating last trajectory\n",
      "Invalid essential matrix, repeating last trajectory\n",
      "Invalid essential matrix, repeating last trajectory\n",
      "Invalid essential matrix, repeating last trajectory\n",
      "Invalid essential matrix, repeating last trajectory\n",
      "Invalid essential matrix, repeating last trajectory\n",
      "Invalid essential matrix, repeating last trajectory\n",
      "Invalid essential matrix, repeating last trajectory\n",
      "Invalid essential matrix, repeating last trajectory\n",
      "Invalid essential matrix, repeating last trajectory\n",
      "Invalid essential matrix, repeating last trajectory\n",
      "Invalid essential matrix, repeating last trajectory\n",
      "Invalid essential matrix, repeating last trajectory\n",
      "Invalid essential matrix, repeating last trajectory\n",
      "Invalid essential matrix, repeating last trajectory\n",
      "Invalid essential matrix, repeating last trajectory\n",
      "Invalid essential matrix, repeating last trajectory\n",
      "Invalid essential matrix, repeating last trajectory\n",
      "Invalid essential matrix, repeating last trajectory\n",
      "Invalid essential matrix, repeating last trajectory\n",
      "Invalid essential matrix, repeating last trajectory\n",
      "Invalid essential matrix, repeating last trajectory\n",
      "Invalid essential matrix, repeating last trajectory\n",
      "Invalid essential matrix, repeating last trajectory\n",
      "Invalid essential matrix, repeating last trajectory\n",
      "Invalid essential matrix, repeating last trajectory\n",
      "Invalid essential matrix, repeating last trajectory\n",
      "Invalid essential matrix, repeating last trajectory\n",
      "Invalid essential matrix, repeating last trajectory\n",
      "Invalid essential matrix, repeating last trajectory\n",
      "Invalid essential matrix, repeating last trajectory\n",
      "Invalid essential matrix, repeating last trajectory\n",
      "Invalid essential matrix, repeating last trajectory\n",
      "Invalid essential matrix, repeating last trajectory\n",
      "Invalid essential matrix, repeating last trajectory\n",
      "Invalid essential matrix, repeating last trajectory\n",
      "Invalid essential matrix, repeating last trajectory\n",
      "Invalid essential matrix, repeating last trajectory\n",
      "Invalid essential matrix, repeating last trajectory\n",
      "Invalid essential matrix, repeating last trajectory\n",
      "Invalid essential matrix, repeating last trajectory\n",
      "Invalid essential matrix, repeating last trajectory\n"
     ]
    },
    {
     "name": "stderr",
     "output_type": "stream",
     "text": [
      "Processing 07bigroundzeroshot:  27%|██▋       | 4014/14946 [00:25<00:50, 215.38it/s]"
     ]
    },
    {
     "name": "stdout",
     "output_type": "stream",
     "text": [
      "Invalid essential matrix, repeating last trajectory\n",
      "Invalid essential matrix, repeating last trajectory\n",
      "Invalid essential matrix, repeating last trajectory\n",
      "Invalid essential matrix, repeating last trajectory\n",
      "Invalid essential matrix, repeating last trajectory\n",
      "Invalid essential matrix, repeating last trajectory\n",
      "Invalid essential matrix, repeating last trajectory\n",
      "Invalid essential matrix, repeating last trajectory\n",
      "Invalid essential matrix, repeating last trajectory\n",
      "Invalid essential matrix, repeating last trajectory\n",
      "Invalid essential matrix, repeating last trajectory\n",
      "Invalid essential matrix, repeating last trajectory\n",
      "Invalid essential matrix, repeating last trajectory\n",
      "Invalid essential matrix, repeating last trajectory\n",
      "Invalid essential matrix, repeating last trajectory\n",
      "Invalid essential matrix, repeating last trajectory\n",
      "Invalid essential matrix, repeating last trajectory\n",
      "Invalid essential matrix, repeating last trajectory\n",
      "Invalid essential matrix, repeating last trajectory\n",
      "Invalid essential matrix, repeating last trajectory\n",
      "Invalid essential matrix, repeating last trajectory\n",
      "Invalid essential matrix, repeating last trajectory\n",
      "Invalid essential matrix, repeating last trajectory\n",
      "Invalid essential matrix, repeating last trajectory\n",
      "Invalid essential matrix, repeating last trajectory\n",
      "Invalid essential matrix, repeating last trajectory\n",
      "Invalid essential matrix, repeating last trajectory\n",
      "Invalid essential matrix, repeating last trajectory\n",
      "Invalid essential matrix, repeating last trajectory\n",
      "Invalid essential matrix, repeating last trajectory\n",
      "Invalid essential matrix, repeating last trajectory\n",
      "Invalid essential matrix, repeating last trajectory\n",
      "Invalid essential matrix, repeating last trajectory\n",
      "Invalid essential matrix, repeating last trajectory\n",
      "Invalid essential matrix, repeating last trajectory\n",
      "Invalid essential matrix, repeating last trajectory\n",
      "Invalid essential matrix, repeating last trajectory\n",
      "Invalid essential matrix, repeating last trajectory\n",
      "Invalid essential matrix, repeating last trajectory\n",
      "Invalid essential matrix, repeating last trajectory\n",
      "Invalid essential matrix, repeating last trajectory\n",
      "Invalid essential matrix, repeating last trajectory\n",
      "Invalid essential matrix, repeating last trajectory\n",
      "Invalid essential matrix, repeating last trajectory\n",
      "Invalid essential matrix, repeating last trajectory\n",
      "Invalid essential matrix, repeating last trajectory\n"
     ]
    },
    {
     "name": "stderr",
     "output_type": "stream",
     "text": [
      "Processing 07bigroundzeroshot:  27%|██▋       | 4037/14946 [00:25<00:50, 217.11it/s]"
     ]
    },
    {
     "name": "stdout",
     "output_type": "stream",
     "text": [
      "Invalid essential matrix, repeating last trajectory\n",
      "Invalid essential matrix, repeating last trajectory\n",
      "Invalid essential matrix, repeating last trajectory\n",
      "Invalid essential matrix, repeating last trajectory\n",
      "Invalid essential matrix, repeating last trajectory\n",
      "Invalid essential matrix, repeating last trajectory\n",
      "Invalid essential matrix, repeating last trajectory\n",
      "Invalid essential matrix, repeating last trajectory\n",
      "Invalid essential matrix, repeating last trajectory\n",
      "Invalid essential matrix, repeating last trajectory\n",
      "Invalid essential matrix, repeating last trajectory\n",
      "Invalid essential matrix, repeating last trajectory\n",
      "Invalid essential matrix, repeating last trajectory\n",
      "Invalid essential matrix, repeating last trajectory\n",
      "Invalid essential matrix, repeating last trajectory\n",
      "Invalid essential matrix, repeating last trajectory\n",
      "Invalid essential matrix, repeating last trajectory\n",
      "Invalid essential matrix, repeating last trajectory\n",
      "Invalid essential matrix, repeating last trajectory\n",
      "Invalid essential matrix, repeating last trajectory\n",
      "Invalid essential matrix, repeating last trajectory\n",
      "Invalid essential matrix, repeating last trajectory\n",
      "Invalid essential matrix, repeating last trajectory\n",
      "Invalid essential matrix, repeating last trajectory\n",
      "Invalid essential matrix, repeating last trajectory\n",
      "Invalid essential matrix, repeating last trajectory\n",
      "Invalid essential matrix, repeating last trajectory\n",
      "Invalid essential matrix, repeating last trajectory\n",
      "Invalid essential matrix, repeating last trajectory\n",
      "Invalid essential matrix, repeating last trajectory\n",
      "Not enough points to compute the essential matrix, re-detecting features\n"
     ]
    },
    {
     "name": "stderr",
     "output_type": "stream",
     "text": [
      "Processing 07bigroundzeroshot:  28%|██▊       | 4240/14946 [00:26<01:03, 168.91it/s]"
     ]
    },
    {
     "name": "stdout",
     "output_type": "stream",
     "text": [
      "Invalid essential matrix, repeating last trajectory\n",
      "Invalid essential matrix, repeating last trajectory\n",
      "Not enough points to compute the essential matrix, re-detecting features\n"
     ]
    },
    {
     "name": "stderr",
     "output_type": "stream",
     "text": [
      "Processing 07bigroundzeroshot:  31%|███       | 4575/14946 [00:29<01:02, 165.54it/s]"
     ]
    },
    {
     "name": "stdout",
     "output_type": "stream",
     "text": [
      "Invalid essential matrix, repeating last trajectory\n",
      "Invalid essential matrix, repeating last trajectory\n",
      "Invalid essential matrix, repeating last trajectory\n",
      "Invalid essential matrix, repeating last trajectory\n",
      "Invalid essential matrix, repeating last trajectory\n",
      "Invalid essential matrix, repeating last trajectory\n",
      "Invalid essential matrix, repeating last trajectory\n",
      "Invalid essential matrix, repeating last trajectory\n",
      "Invalid essential matrix, repeating last trajectory\n",
      "Invalid essential matrix, repeating last trajectory\n",
      "Invalid essential matrix, repeating last trajectory\n",
      "Invalid essential matrix, repeating last trajectory\n",
      "Invalid essential matrix, repeating last trajectory\n",
      "Not enough points to compute the essential matrix, re-detecting features\n"
     ]
    },
    {
     "name": "stderr",
     "output_type": "stream",
     "text": [
      "Processing 07bigroundzeroshot:  32%|███▏      | 4835/14946 [00:31<00:53, 189.10it/s]"
     ]
    },
    {
     "name": "stdout",
     "output_type": "stream",
     "text": [
      "Invalid essential matrix, repeating last trajectory\n",
      "Invalid essential matrix, repeating last trajectory\n",
      "Invalid essential matrix, repeating last trajectory\n",
      "Invalid essential matrix, repeating last trajectory\n",
      "Invalid essential matrix, repeating last trajectory\n",
      "Invalid essential matrix, repeating last trajectory\n",
      "Invalid essential matrix, repeating last trajectory\n",
      "Invalid essential matrix, repeating last trajectory\n",
      "Invalid essential matrix, repeating last trajectory\n",
      "Invalid essential matrix, repeating last trajectory\n",
      "Invalid essential matrix, repeating last trajectory\n",
      "Invalid essential matrix, repeating last trajectory\n",
      "Invalid essential matrix, repeating last trajectory\n",
      "Invalid essential matrix, repeating last trajectory\n",
      "Invalid essential matrix, repeating last trajectory\n",
      "Invalid essential matrix, repeating last trajectory\n",
      "Invalid essential matrix, repeating last trajectory\n",
      "Invalid essential matrix, repeating last trajectory\n",
      "Invalid essential matrix, repeating last trajectory\n",
      "Invalid essential matrix, repeating last trajectory\n",
      "Invalid essential matrix, repeating last trajectory\n",
      "Invalid essential matrix, repeating last trajectory\n",
      "Invalid essential matrix, repeating last trajectory\n",
      "Invalid essential matrix, repeating last trajectory\n",
      "Invalid essential matrix, repeating last trajectory\n",
      "Invalid essential matrix, repeating last trajectory\n",
      "Invalid essential matrix, repeating last trajectory\n",
      "Invalid essential matrix, repeating last trajectory\n",
      "Invalid essential matrix, repeating last trajectory\n",
      "Invalid essential matrix, repeating last trajectory\n",
      "Invalid essential matrix, repeating last trajectory\n",
      "Invalid essential matrix, repeating last trajectory\n",
      "Invalid essential matrix, repeating last trajectory\n",
      "Invalid essential matrix, repeating last trajectory\n",
      "Invalid essential matrix, repeating last trajectory\n",
      "Invalid essential matrix, repeating last trajectory\n",
      "Invalid essential matrix, repeating last trajectory\n",
      "Invalid essential matrix, repeating last trajectory\n",
      "Invalid essential matrix, repeating last trajectory\n",
      "Invalid essential matrix, repeating last trajectory\n",
      "Invalid essential matrix, repeating last trajectory\n",
      "Invalid essential matrix, repeating last trajectory\n",
      "Invalid essential matrix, repeating last trajectory\n",
      "Invalid essential matrix, repeating last trajectory\n"
     ]
    },
    {
     "name": "stderr",
     "output_type": "stream",
     "text": [
      "Processing 07bigroundzeroshot:  33%|███▎      | 4877/14946 [00:31<00:51, 196.44it/s]"
     ]
    },
    {
     "name": "stdout",
     "output_type": "stream",
     "text": [
      "Invalid essential matrix, repeating last trajectory\n",
      "Invalid essential matrix, repeating last trajectory\n",
      "Invalid essential matrix, repeating last trajectory\n",
      "Invalid essential matrix, repeating last trajectory\n",
      "Invalid essential matrix, repeating last trajectory\n",
      "Invalid essential matrix, repeating last trajectory\n",
      "Invalid essential matrix, repeating last trajectory\n",
      "Invalid essential matrix, repeating last trajectory\n",
      "Invalid essential matrix, repeating last trajectory\n",
      "Invalid essential matrix, repeating last trajectory\n",
      "Invalid essential matrix, repeating last trajectory\n",
      "Invalid essential matrix, repeating last trajectory\n",
      "Invalid essential matrix, repeating last trajectory\n",
      "Invalid essential matrix, repeating last trajectory\n",
      "Invalid essential matrix, repeating last trajectory\n",
      "Invalid essential matrix, repeating last trajectory\n",
      "Invalid essential matrix, repeating last trajectory\n",
      "Invalid essential matrix, repeating last trajectory\n",
      "Invalid essential matrix, repeating last trajectory\n",
      "Invalid essential matrix, repeating last trajectory\n",
      "Invalid essential matrix, repeating last trajectory\n",
      "Invalid essential matrix, repeating last trajectory\n",
      "Invalid essential matrix, repeating last trajectory\n",
      "Invalid essential matrix, repeating last trajectory\n",
      "Invalid essential matrix, repeating last trajectory\n",
      "Invalid essential matrix, repeating last trajectory\n",
      "Invalid essential matrix, repeating last trajectory\n",
      "Invalid essential matrix, repeating last trajectory\n",
      "Invalid essential matrix, repeating last trajectory\n",
      "Invalid essential matrix, repeating last trajectory\n",
      "Invalid essential matrix, repeating last trajectory\n",
      "Invalid essential matrix, repeating last trajectory\n",
      "Invalid essential matrix, repeating last trajectory\n",
      "Invalid essential matrix, repeating last trajectory\n",
      "Invalid essential matrix, repeating last trajectory\n",
      "Invalid essential matrix, repeating last trajectory\n",
      "Invalid essential matrix, repeating last trajectory\n",
      "Invalid essential matrix, repeating last trajectory\n",
      "Invalid essential matrix, repeating last trajectory\n",
      "Invalid essential matrix, repeating last trajectory\n",
      "Invalid essential matrix, repeating last trajectory\n"
     ]
    },
    {
     "name": "stderr",
     "output_type": "stream",
     "text": [
      "Processing 07bigroundzeroshot:  33%|███▎      | 4898/14946 [00:31<00:50, 198.82it/s]"
     ]
    },
    {
     "name": "stdout",
     "output_type": "stream",
     "text": [
      "Invalid essential matrix, repeating last trajectory\n",
      "Invalid essential matrix, repeating last trajectory\n",
      "Invalid essential matrix, repeating last trajectory\n",
      "Invalid essential matrix, repeating last trajectory\n",
      "Invalid essential matrix, repeating last trajectory\n",
      "Invalid essential matrix, repeating last trajectory\n",
      "Invalid essential matrix, repeating last trajectory\n",
      "Invalid essential matrix, repeating last trajectory\n",
      "Invalid essential matrix, repeating last trajectory\n",
      "Invalid essential matrix, repeating last trajectory\n",
      "Invalid essential matrix, repeating last trajectory\n",
      "Invalid essential matrix, repeating last trajectory\n",
      "Invalid essential matrix, repeating last trajectory\n",
      "Invalid essential matrix, repeating last trajectory\n",
      "Invalid essential matrix, repeating last trajectory\n",
      "Invalid essential matrix, repeating last trajectory\n",
      "Invalid essential matrix, repeating last trajectory\n",
      "Invalid essential matrix, repeating last trajectory\n",
      "Invalid essential matrix, repeating last trajectory\n",
      "Invalid essential matrix, repeating last trajectory\n",
      "Invalid essential matrix, repeating last trajectory\n",
      "Invalid essential matrix, repeating last trajectory\n",
      "Invalid essential matrix, repeating last trajectory\n",
      "Invalid essential matrix, repeating last trajectory\n",
      "Invalid essential matrix, repeating last trajectory\n",
      "Invalid essential matrix, repeating last trajectory\n",
      "Invalid essential matrix, repeating last trajectory\n",
      "Invalid essential matrix, repeating last trajectory\n",
      "Invalid essential matrix, repeating last trajectory\n",
      "Invalid essential matrix, repeating last trajectory\n",
      "Invalid essential matrix, repeating last trajectory\n",
      "Invalid essential matrix, repeating last trajectory\n",
      "Invalid essential matrix, repeating last trajectory\n",
      "Invalid essential matrix, repeating last trajectory\n",
      "Invalid essential matrix, repeating last trajectory\n",
      "Invalid essential matrix, repeating last trajectory\n",
      "Invalid essential matrix, repeating last trajectory\n",
      "Invalid essential matrix, repeating last trajectory\n",
      "Not enough points to compute the essential matrix, re-detecting features\n"
     ]
    },
    {
     "name": "stderr",
     "output_type": "stream",
     "text": [
      "Processing 07bigroundzeroshot:  35%|███▍      | 5169/14946 [00:34<01:03, 154.64it/s]"
     ]
    },
    {
     "name": "stdout",
     "output_type": "stream",
     "text": [
      "Invalid essential matrix, repeating last trajectory\n",
      "Invalid essential matrix, repeating last trajectory\n",
      "Invalid essential matrix, repeating last trajectory\n",
      "Invalid essential matrix, repeating last trajectory\n",
      "Invalid essential matrix, repeating last trajectory\n",
      "Invalid essential matrix, repeating last trajectory\n",
      "Invalid essential matrix, repeating last trajectory\n",
      "Invalid essential matrix, repeating last trajectory\n",
      "Invalid essential matrix, repeating last trajectory\n",
      "Invalid essential matrix, repeating last trajectory\n",
      "Invalid essential matrix, repeating last trajectory\n",
      "Invalid essential matrix, repeating last trajectory\n",
      "Invalid essential matrix, repeating last trajectory\n",
      "Invalid essential matrix, repeating last trajectory\n",
      "Invalid essential matrix, repeating last trajectory\n",
      "Invalid essential matrix, repeating last trajectory\n",
      "Invalid essential matrix, repeating last trajectory\n",
      "Invalid essential matrix, repeating last trajectory\n",
      "Invalid essential matrix, repeating last trajectory\n",
      "Invalid essential matrix, repeating last trajectory\n",
      "Invalid essential matrix, repeating last trajectory\n",
      "Invalid essential matrix, repeating last trajectory\n",
      "Invalid essential matrix, repeating last trajectory\n",
      "Invalid essential matrix, repeating last trajectory\n",
      "Invalid essential matrix, repeating last trajectory\n",
      "Invalid essential matrix, repeating last trajectory\n",
      "Invalid essential matrix, repeating last trajectory\n",
      "Invalid essential matrix, repeating last trajectory\n",
      "Invalid essential matrix, repeating last trajectory\n",
      "Invalid essential matrix, repeating last trajectory\n",
      "Invalid essential matrix, repeating last trajectory\n",
      "Invalid essential matrix, repeating last trajectory\n",
      "Invalid essential matrix, repeating last trajectory\n",
      "Invalid essential matrix, repeating last trajectory\n",
      "Invalid essential matrix, repeating last trajectory\n",
      "Invalid essential matrix, repeating last trajectory\n",
      "Invalid essential matrix, repeating last trajectory\n",
      "Invalid essential matrix, repeating last trajectory\n",
      "Invalid essential matrix, repeating last trajectory\n",
      "Invalid essential matrix, repeating last trajectory\n"
     ]
    },
    {
     "name": "stderr",
     "output_type": "stream",
     "text": [
      "Processing 07bigroundzeroshot:  35%|███▍      | 5211/14946 [00:34<00:54, 179.70it/s]"
     ]
    },
    {
     "name": "stdout",
     "output_type": "stream",
     "text": [
      "Invalid essential matrix, repeating last trajectory\n",
      "Invalid essential matrix, repeating last trajectory\n",
      "Invalid essential matrix, repeating last trajectory\n",
      "Invalid essential matrix, repeating last trajectory\n",
      "Invalid essential matrix, repeating last trajectory\n",
      "Invalid essential matrix, repeating last trajectory\n",
      "Invalid essential matrix, repeating last trajectory\n",
      "Invalid essential matrix, repeating last trajectory\n",
      "Invalid essential matrix, repeating last trajectory\n",
      "Invalid essential matrix, repeating last trajectory\n",
      "Invalid essential matrix, repeating last trajectory\n",
      "Invalid essential matrix, repeating last trajectory\n",
      "Invalid essential matrix, repeating last trajectory\n",
      "Invalid essential matrix, repeating last trajectory\n",
      "Invalid essential matrix, repeating last trajectory\n",
      "Invalid essential matrix, repeating last trajectory\n",
      "Invalid essential matrix, repeating last trajectory\n",
      "Invalid essential matrix, repeating last trajectory\n",
      "Invalid essential matrix, repeating last trajectory\n",
      "Invalid essential matrix, repeating last trajectory\n",
      "Invalid essential matrix, repeating last trajectory\n",
      "Invalid essential matrix, repeating last trajectory\n",
      "Invalid essential matrix, repeating last trajectory\n",
      "Invalid essential matrix, repeating last trajectory\n",
      "Not enough points to compute the essential matrix, re-detecting features\n"
     ]
    },
    {
     "name": "stderr",
     "output_type": "stream",
     "text": [
      "Processing 07bigroundzeroshot:  36%|███▌      | 5312/14946 [00:35<01:26, 111.62it/s]"
     ]
    },
    {
     "name": "stdout",
     "output_type": "stream",
     "text": [
      "Invalid essential matrix, repeating last trajectory\n",
      "Invalid essential matrix, repeating last trajectory\n",
      "Not enough points to compute the essential matrix, re-detecting features\n"
     ]
    },
    {
     "name": "stderr",
     "output_type": "stream",
     "text": [
      "Processing 07bigroundzeroshot:  39%|███▊      | 5780/14946 [00:38<00:45, 203.15it/s]"
     ]
    },
    {
     "name": "stdout",
     "output_type": "stream",
     "text": [
      "Invalid essential matrix, repeating last trajectory\n",
      "Invalid essential matrix, repeating last trajectory\n",
      "Invalid essential matrix, repeating last trajectory\n",
      "Invalid essential matrix, repeating last trajectory\n",
      "Invalid essential matrix, repeating last trajectory\n",
      "Invalid essential matrix, repeating last trajectory\n",
      "Invalid essential matrix, repeating last trajectory\n",
      "Invalid essential matrix, repeating last trajectory\n",
      "Invalid essential matrix, repeating last trajectory\n",
      "Invalid essential matrix, repeating last trajectory\n",
      "Invalid essential matrix, repeating last trajectory\n",
      "Invalid essential matrix, repeating last trajectory\n",
      "Invalid essential matrix, repeating last trajectory\n",
      "Invalid essential matrix, repeating last trajectory\n",
      "Invalid essential matrix, repeating last trajectory\n",
      "Invalid essential matrix, repeating last trajectory\n",
      "Invalid essential matrix, repeating last trajectory\n",
      "Invalid essential matrix, repeating last trajectory\n",
      "Invalid essential matrix, repeating last trajectory\n",
      "Invalid essential matrix, repeating last trajectory\n",
      "Invalid essential matrix, repeating last trajectory\n",
      "Invalid essential matrix, repeating last trajectory\n",
      "Invalid essential matrix, repeating last trajectory\n",
      "Invalid essential matrix, repeating last trajectory\n",
      "Invalid essential matrix, repeating last trajectory\n",
      "Invalid essential matrix, repeating last trajectory\n",
      "Invalid essential matrix, repeating last trajectory\n",
      "Invalid essential matrix, repeating last trajectory\n",
      "Invalid essential matrix, repeating last trajectory\n",
      "Invalid essential matrix, repeating last trajectory\n",
      "Invalid essential matrix, repeating last trajectory\n",
      "Invalid essential matrix, repeating last trajectory\n",
      "Invalid essential matrix, repeating last trajectory\n",
      "Invalid essential matrix, repeating last trajectory\n",
      "Invalid essential matrix, repeating last trajectory\n",
      "Invalid essential matrix, repeating last trajectory\n",
      "Invalid essential matrix, repeating last trajectory\n",
      "Invalid essential matrix, repeating last trajectory\n",
      "Invalid essential matrix, repeating last trajectory\n",
      "Invalid essential matrix, repeating last trajectory\n",
      "Invalid essential matrix, repeating last trajectory\n",
      "Invalid essential matrix, repeating last trajectory\n",
      "Invalid essential matrix, repeating last trajectory\n",
      "Invalid essential matrix, repeating last trajectory\n",
      "Invalid essential matrix, repeating last trajectory\n",
      "Invalid essential matrix, repeating last trajectory\n",
      "Invalid essential matrix, repeating last trajectory\n"
     ]
    },
    {
     "name": "stderr",
     "output_type": "stream",
     "text": [
      "Processing 07bigroundzeroshot:  39%|███▉      | 5827/14946 [00:39<00:43, 211.20it/s]"
     ]
    },
    {
     "name": "stdout",
     "output_type": "stream",
     "text": [
      "Invalid essential matrix, repeating last trajectory\n",
      "Invalid essential matrix, repeating last trajectory\n",
      "Invalid essential matrix, repeating last trajectory\n",
      "Invalid essential matrix, repeating last trajectory\n",
      "Invalid essential matrix, repeating last trajectory\n",
      "Invalid essential matrix, repeating last trajectory\n",
      "Invalid essential matrix, repeating last trajectory\n",
      "Invalid essential matrix, repeating last trajectory\n",
      "Invalid essential matrix, repeating last trajectory\n",
      "Invalid essential matrix, repeating last trajectory\n",
      "Invalid essential matrix, repeating last trajectory\n",
      "Invalid essential matrix, repeating last trajectory\n",
      "Invalid essential matrix, repeating last trajectory\n",
      "Invalid essential matrix, repeating last trajectory\n",
      "Invalid essential matrix, repeating last trajectory\n",
      "Invalid essential matrix, repeating last trajectory\n",
      "Invalid essential matrix, repeating last trajectory\n",
      "Invalid essential matrix, repeating last trajectory\n",
      "Invalid essential matrix, repeating last trajectory\n",
      "Invalid essential matrix, repeating last trajectory\n",
      "Invalid essential matrix, repeating last trajectory\n",
      "Invalid essential matrix, repeating last trajectory\n",
      "Invalid essential matrix, repeating last trajectory\n",
      "Invalid essential matrix, repeating last trajectory\n",
      "Invalid essential matrix, repeating last trajectory\n",
      "Invalid essential matrix, repeating last trajectory\n",
      "Invalid essential matrix, repeating last trajectory\n",
      "Invalid essential matrix, repeating last trajectory\n",
      "Invalid essential matrix, repeating last trajectory\n",
      "Invalid essential matrix, repeating last trajectory\n",
      "Invalid essential matrix, repeating last trajectory\n",
      "Invalid essential matrix, repeating last trajectory\n",
      "Invalid essential matrix, repeating last trajectory\n",
      "Invalid essential matrix, repeating last trajectory\n",
      "Invalid essential matrix, repeating last trajectory\n",
      "Invalid essential matrix, repeating last trajectory\n",
      "Invalid essential matrix, repeating last trajectory\n",
      "Invalid essential matrix, repeating last trajectory\n",
      "Invalid essential matrix, repeating last trajectory\n",
      "Invalid essential matrix, repeating last trajectory\n",
      "Invalid essential matrix, repeating last trajectory\n",
      "Invalid essential matrix, repeating last trajectory\n",
      "Invalid essential matrix, repeating last trajectory\n"
     ]
    },
    {
     "name": "stderr",
     "output_type": "stream",
     "text": [
      "Processing 07bigroundzeroshot:  39%|███▉      | 5870/14946 [00:39<00:44, 204.75it/s]"
     ]
    },
    {
     "name": "stdout",
     "output_type": "stream",
     "text": [
      "Invalid essential matrix, repeating last trajectory\n",
      "Invalid essential matrix, repeating last trajectory\n",
      "Invalid essential matrix, repeating last trajectory\n",
      "Invalid essential matrix, repeating last trajectory\n",
      "Invalid essential matrix, repeating last trajectory\n",
      "Invalid essential matrix, repeating last trajectory\n",
      "Invalid essential matrix, repeating last trajectory\n",
      "Invalid essential matrix, repeating last trajectory\n",
      "Invalid essential matrix, repeating last trajectory\n",
      "Invalid essential matrix, repeating last trajectory\n",
      "Invalid essential matrix, repeating last trajectory\n",
      "Invalid essential matrix, repeating last trajectory\n",
      "Invalid essential matrix, repeating last trajectory\n",
      "Invalid essential matrix, repeating last trajectory\n",
      "Invalid essential matrix, repeating last trajectory\n",
      "Invalid essential matrix, repeating last trajectory\n",
      "Invalid essential matrix, repeating last trajectory\n",
      "Invalid essential matrix, repeating last trajectory\n",
      "Invalid essential matrix, repeating last trajectory\n",
      "Invalid essential matrix, repeating last trajectory\n",
      "Invalid essential matrix, repeating last trajectory\n",
      "Invalid essential matrix, repeating last trajectory\n",
      "Invalid essential matrix, repeating last trajectory\n",
      "Invalid essential matrix, repeating last trajectory\n",
      "Invalid essential matrix, repeating last trajectory\n",
      "Invalid essential matrix, repeating last trajectory\n",
      "Invalid essential matrix, repeating last trajectory\n",
      "Invalid essential matrix, repeating last trajectory\n",
      "Invalid essential matrix, repeating last trajectory\n",
      "Invalid essential matrix, repeating last trajectory\n",
      "Invalid essential matrix, repeating last trajectory\n",
      "Invalid essential matrix, repeating last trajectory\n",
      "Invalid essential matrix, repeating last trajectory\n",
      "Invalid essential matrix, repeating last trajectory\n",
      "Invalid essential matrix, repeating last trajectory\n",
      "Invalid essential matrix, repeating last trajectory\n",
      "Invalid essential matrix, repeating last trajectory\n",
      "Invalid essential matrix, repeating last trajectory\n",
      "Invalid essential matrix, repeating last trajectory\n",
      "Invalid essential matrix, repeating last trajectory\n"
     ]
    },
    {
     "name": "stderr",
     "output_type": "stream",
     "text": [
      "Processing 07bigroundzeroshot:  40%|███▉      | 5912/14946 [00:39<00:44, 203.10it/s]"
     ]
    },
    {
     "name": "stdout",
     "output_type": "stream",
     "text": [
      "Invalid essential matrix, repeating last trajectory\n",
      "Invalid essential matrix, repeating last trajectory\n",
      "Invalid essential matrix, repeating last trajectory\n",
      "Invalid essential matrix, repeating last trajectory\n",
      "Invalid essential matrix, repeating last trajectory\n",
      "Invalid essential matrix, repeating last trajectory\n",
      "Invalid essential matrix, repeating last trajectory\n",
      "Invalid essential matrix, repeating last trajectory\n",
      "Invalid essential matrix, repeating last trajectory\n",
      "Invalid essential matrix, repeating last trajectory\n",
      "Invalid essential matrix, repeating last trajectory\n",
      "Invalid essential matrix, repeating last trajectory\n",
      "Invalid essential matrix, repeating last trajectory\n",
      "Invalid essential matrix, repeating last trajectory\n",
      "Invalid essential matrix, repeating last trajectory\n",
      "Invalid essential matrix, repeating last trajectory\n",
      "Invalid essential matrix, repeating last trajectory\n",
      "Invalid essential matrix, repeating last trajectory\n",
      "Invalid essential matrix, repeating last trajectory\n",
      "Invalid essential matrix, repeating last trajectory\n",
      "Invalid essential matrix, repeating last trajectory\n",
      "Invalid essential matrix, repeating last trajectory\n",
      "Invalid essential matrix, repeating last trajectory\n",
      "Invalid essential matrix, repeating last trajectory\n",
      "Invalid essential matrix, repeating last trajectory\n",
      "Invalid essential matrix, repeating last trajectory\n",
      "Invalid essential matrix, repeating last trajectory\n",
      "Invalid essential matrix, repeating last trajectory\n",
      "Invalid essential matrix, repeating last trajectory\n",
      "Invalid essential matrix, repeating last trajectory\n",
      "Invalid essential matrix, repeating last trajectory\n",
      "Invalid essential matrix, repeating last trajectory\n",
      "Invalid essential matrix, repeating last trajectory\n",
      "Invalid essential matrix, repeating last trajectory\n",
      "Invalid essential matrix, repeating last trajectory\n",
      "Invalid essential matrix, repeating last trajectory\n",
      "Invalid essential matrix, repeating last trajectory\n",
      "Invalid essential matrix, repeating last trajectory\n",
      "Invalid essential matrix, repeating last trajectory\n",
      "Invalid essential matrix, repeating last trajectory\n",
      "Invalid essential matrix, repeating last trajectory\n",
      "Invalid essential matrix, repeating last trajectory\n"
     ]
    },
    {
     "name": "stderr",
     "output_type": "stream",
     "text": [
      "Processing 07bigroundzeroshot:  40%|███▉      | 5954/14946 [00:39<00:44, 203.56it/s]"
     ]
    },
    {
     "name": "stdout",
     "output_type": "stream",
     "text": [
      "Invalid essential matrix, repeating last trajectory\n",
      "Invalid essential matrix, repeating last trajectory\n",
      "Invalid essential matrix, repeating last trajectory\n",
      "Invalid essential matrix, repeating last trajectory\n",
      "Invalid essential matrix, repeating last trajectory\n",
      "Invalid essential matrix, repeating last trajectory\n",
      "Invalid essential matrix, repeating last trajectory\n",
      "Invalid essential matrix, repeating last trajectory\n",
      "Invalid essential matrix, repeating last trajectory\n",
      "Invalid essential matrix, repeating last trajectory\n",
      "Invalid essential matrix, repeating last trajectory\n",
      "Invalid essential matrix, repeating last trajectory\n",
      "Invalid essential matrix, repeating last trajectory\n",
      "Invalid essential matrix, repeating last trajectory\n",
      "Invalid essential matrix, repeating last trajectory\n",
      "Invalid essential matrix, repeating last trajectory\n",
      "Invalid essential matrix, repeating last trajectory\n",
      "Invalid essential matrix, repeating last trajectory\n",
      "Invalid essential matrix, repeating last trajectory\n",
      "Invalid essential matrix, repeating last trajectory\n",
      "Invalid essential matrix, repeating last trajectory\n",
      "Invalid essential matrix, repeating last trajectory\n",
      "Invalid essential matrix, repeating last trajectory\n",
      "Invalid essential matrix, repeating last trajectory\n",
      "Invalid essential matrix, repeating last trajectory\n",
      "Invalid essential matrix, repeating last trajectory\n",
      "Invalid essential matrix, repeating last trajectory\n",
      "Invalid essential matrix, repeating last trajectory\n",
      "Invalid essential matrix, repeating last trajectory\n",
      "Invalid essential matrix, repeating last trajectory\n",
      "Invalid essential matrix, repeating last trajectory\n",
      "Invalid essential matrix, repeating last trajectory\n",
      "Invalid essential matrix, repeating last trajectory\n",
      "Invalid essential matrix, repeating last trajectory\n",
      "Invalid essential matrix, repeating last trajectory\n",
      "Invalid essential matrix, repeating last trajectory\n",
      "Invalid essential matrix, repeating last trajectory\n",
      "Invalid essential matrix, repeating last trajectory\n",
      "Invalid essential matrix, repeating last trajectory\n",
      "Invalid essential matrix, repeating last trajectory\n",
      "Invalid essential matrix, repeating last trajectory\n"
     ]
    },
    {
     "name": "stderr",
     "output_type": "stream",
     "text": [
      "Processing 07bigroundzeroshot:  40%|████      | 5998/14946 [00:39<00:42, 210.21it/s]"
     ]
    },
    {
     "name": "stdout",
     "output_type": "stream",
     "text": [
      "Invalid essential matrix, repeating last trajectory\n",
      "Invalid essential matrix, repeating last trajectory\n",
      "Invalid essential matrix, repeating last trajectory\n",
      "Invalid essential matrix, repeating last trajectory\n",
      "Invalid essential matrix, repeating last trajectory\n",
      "Invalid essential matrix, repeating last trajectory\n",
      "Invalid essential matrix, repeating last trajectory\n",
      "Invalid essential matrix, repeating last trajectory\n",
      "Invalid essential matrix, repeating last trajectory\n",
      "Invalid essential matrix, repeating last trajectory\n",
      "Invalid essential matrix, repeating last trajectory\n",
      "Invalid essential matrix, repeating last trajectory\n",
      "Invalid essential matrix, repeating last trajectory\n",
      "Invalid essential matrix, repeating last trajectory\n",
      "Invalid essential matrix, repeating last trajectory\n",
      "Invalid essential matrix, repeating last trajectory\n",
      "Invalid essential matrix, repeating last trajectory\n",
      "Invalid essential matrix, repeating last trajectory\n",
      "Invalid essential matrix, repeating last trajectory\n",
      "Invalid essential matrix, repeating last trajectory\n",
      "Invalid essential matrix, repeating last trajectory\n",
      "Invalid essential matrix, repeating last trajectory\n",
      "Invalid essential matrix, repeating last trajectory\n",
      "Invalid essential matrix, repeating last trajectory\n",
      "Invalid essential matrix, repeating last trajectory\n",
      "Invalid essential matrix, repeating last trajectory\n",
      "Invalid essential matrix, repeating last trajectory\n",
      "Invalid essential matrix, repeating last trajectory\n",
      "Invalid essential matrix, repeating last trajectory\n",
      "Invalid essential matrix, repeating last trajectory\n",
      "Invalid essential matrix, repeating last trajectory\n",
      "Invalid essential matrix, repeating last trajectory\n",
      "Invalid essential matrix, repeating last trajectory\n",
      "Invalid essential matrix, repeating last trajectory\n",
      "Invalid essential matrix, repeating last trajectory\n",
      "Invalid essential matrix, repeating last trajectory\n",
      "Invalid essential matrix, repeating last trajectory\n",
      "Invalid essential matrix, repeating last trajectory\n",
      "Invalid essential matrix, repeating last trajectory\n",
      "Invalid essential matrix, repeating last trajectory\n",
      "Invalid essential matrix, repeating last trajectory\n",
      "Invalid essential matrix, repeating last trajectory\n",
      "Invalid essential matrix, repeating last trajectory\n",
      "Invalid essential matrix, repeating last trajectory\n",
      "Invalid essential matrix, repeating last trajectory\n"
     ]
    },
    {
     "name": "stderr",
     "output_type": "stream",
     "text": [
      "Processing 07bigroundzeroshot:  40%|████      | 6021/14946 [00:40<00:41, 214.85it/s]"
     ]
    },
    {
     "name": "stdout",
     "output_type": "stream",
     "text": [
      "Invalid essential matrix, repeating last trajectory\n",
      "Invalid essential matrix, repeating last trajectory\n",
      "Invalid essential matrix, repeating last trajectory\n",
      "Invalid essential matrix, repeating last trajectory\n",
      "Invalid essential matrix, repeating last trajectory\n",
      "Invalid essential matrix, repeating last trajectory\n",
      "Invalid essential matrix, repeating last trajectory\n",
      "Invalid essential matrix, repeating last trajectory\n",
      "Invalid essential matrix, repeating last trajectory\n",
      "Invalid essential matrix, repeating last trajectory\n",
      "Invalid essential matrix, repeating last trajectory\n",
      "Invalid essential matrix, repeating last trajectory\n",
      "Invalid essential matrix, repeating last trajectory\n",
      "Invalid essential matrix, repeating last trajectory\n",
      "Invalid essential matrix, repeating last trajectory\n",
      "Invalid essential matrix, repeating last trajectory\n",
      "Invalid essential matrix, repeating last trajectory\n",
      "Invalid essential matrix, repeating last trajectory\n",
      "Invalid essential matrix, repeating last trajectory\n",
      "Invalid essential matrix, repeating last trajectory\n",
      "Invalid essential matrix, repeating last trajectory\n",
      "Invalid essential matrix, repeating last trajectory\n",
      "Invalid essential matrix, repeating last trajectory\n",
      "Invalid essential matrix, repeating last trajectory\n",
      "Invalid essential matrix, repeating last trajectory\n",
      "Invalid essential matrix, repeating last trajectory\n",
      "Invalid essential matrix, repeating last trajectory\n",
      "Invalid essential matrix, repeating last trajectory\n",
      "Invalid essential matrix, repeating last trajectory\n",
      "Invalid essential matrix, repeating last trajectory\n",
      "Invalid essential matrix, repeating last trajectory\n",
      "Invalid essential matrix, repeating last trajectory\n",
      "Invalid essential matrix, repeating last trajectory\n",
      "Invalid essential matrix, repeating last trajectory\n",
      "Invalid essential matrix, repeating last trajectory\n",
      "Not enough points to compute the essential matrix, re-detecting features\n"
     ]
    },
    {
     "name": "stderr",
     "output_type": "stream",
     "text": [
      "Processing 07bigroundzeroshot:  42%|████▏     | 6287/14946 [00:42<00:56, 152.09it/s]"
     ]
    },
    {
     "name": "stdout",
     "output_type": "stream",
     "text": [
      "Invalid essential matrix, repeating last trajectory\n",
      "Not enough points to compute the essential matrix, re-detecting features\n"
     ]
    },
    {
     "name": "stderr",
     "output_type": "stream",
     "text": [
      "Processing 07bigroundzeroshot:  44%|████▎     | 6533/14946 [00:44<00:43, 194.13it/s]"
     ]
    },
    {
     "name": "stdout",
     "output_type": "stream",
     "text": [
      "Not enough points to compute the essential matrix, re-detecting features\n"
     ]
    },
    {
     "name": "stderr",
     "output_type": "stream",
     "text": [
      "Processing 07bigroundzeroshot:  47%|████▋     | 6957/14946 [00:47<00:40, 197.72it/s]"
     ]
    },
    {
     "name": "stdout",
     "output_type": "stream",
     "text": [
      "Invalid essential matrix, repeating last trajectory\n",
      "Invalid essential matrix, repeating last trajectory\n",
      "Invalid essential matrix, repeating last trajectory\n",
      "Invalid essential matrix, repeating last trajectory\n",
      "Invalid essential matrix, repeating last trajectory\n",
      "Invalid essential matrix, repeating last trajectory\n",
      "Invalid essential matrix, repeating last trajectory\n",
      "Invalid essential matrix, repeating last trajectory\n",
      "Invalid essential matrix, repeating last trajectory\n",
      "Invalid essential matrix, repeating last trajectory\n",
      "Invalid essential matrix, repeating last trajectory\n",
      "Invalid essential matrix, repeating last trajectory\n",
      "Invalid essential matrix, repeating last trajectory\n",
      "Invalid essential matrix, repeating last trajectory\n",
      "Invalid essential matrix, repeating last trajectory\n",
      "Invalid essential matrix, repeating last trajectory\n",
      "Invalid essential matrix, repeating last trajectory\n",
      "Invalid essential matrix, repeating last trajectory\n",
      "Invalid essential matrix, repeating last trajectory\n",
      "Invalid essential matrix, repeating last trajectory\n",
      "Invalid essential matrix, repeating last trajectory\n",
      "Invalid essential matrix, repeating last trajectory\n",
      "Not enough points to compute the essential matrix, re-detecting features\n"
     ]
    },
    {
     "name": "stderr",
     "output_type": "stream",
     "text": [
      "Processing 07bigroundzeroshot:  48%|████▊     | 7138/14946 [00:48<00:48, 160.53it/s]"
     ]
    },
    {
     "name": "stdout",
     "output_type": "stream",
     "text": [
      "Invalid essential matrix, repeating last trajectory\n",
      "Invalid essential matrix, repeating last trajectory\n",
      "Invalid essential matrix, repeating last trajectory\n",
      "Not enough points to compute the essential matrix, re-detecting features\n"
     ]
    },
    {
     "name": "stderr",
     "output_type": "stream",
     "text": [
      "Processing 07bigroundzeroshot:  51%|█████     | 7619/14946 [00:51<00:33, 217.75it/s]"
     ]
    },
    {
     "name": "stdout",
     "output_type": "stream",
     "text": [
      "Invalid essential matrix, repeating last trajectory\n",
      "Invalid essential matrix, repeating last trajectory\n",
      "Invalid essential matrix, repeating last trajectory\n",
      "Invalid essential matrix, repeating last trajectory\n",
      "Invalid essential matrix, repeating last trajectory\n",
      "Invalid essential matrix, repeating last trajectory\n",
      "Invalid essential matrix, repeating last trajectory\n",
      "Invalid essential matrix, repeating last trajectory\n",
      "Invalid essential matrix, repeating last trajectory\n",
      "Invalid essential matrix, repeating last trajectory\n",
      "Invalid essential matrix, repeating last trajectory\n",
      "Invalid essential matrix, repeating last trajectory\n",
      "Invalid essential matrix, repeating last trajectory\n",
      "Invalid essential matrix, repeating last trajectory\n",
      "Invalid essential matrix, repeating last trajectory\n",
      "Invalid essential matrix, repeating last trajectory\n",
      "Not enough points to compute the essential matrix, re-detecting features\n"
     ]
    },
    {
     "name": "stderr",
     "output_type": "stream",
     "text": [
      "Processing 07bigroundzeroshot:  56%|█████▋    | 8411/14946 [00:56<00:35, 183.29it/s]"
     ]
    },
    {
     "name": "stdout",
     "output_type": "stream",
     "text": [
      "Invalid essential matrix, repeating last trajectory\n",
      "Not enough points to compute the essential matrix, re-detecting features\n"
     ]
    },
    {
     "name": "stderr",
     "output_type": "stream",
     "text": [
      "Processing 07bigroundzeroshot:  57%|█████▋    | 8544/14946 [00:57<00:41, 156.05it/s]"
     ]
    },
    {
     "name": "stdout",
     "output_type": "stream",
     "text": [
      "Not enough points to compute the essential matrix, re-detecting features\n"
     ]
    },
    {
     "name": "stderr",
     "output_type": "stream",
     "text": [
      "Processing 07bigroundzeroshot:  58%|█████▊    | 8728/14946 [00:59<00:49, 126.05it/s]"
     ]
    },
    {
     "name": "stdout",
     "output_type": "stream",
     "text": [
      "Invalid essential matrix, repeating last trajectory\n",
      "Invalid essential matrix, repeating last trajectory\n",
      "Invalid essential matrix, repeating last trajectory\n",
      "Invalid essential matrix, repeating last trajectory\n",
      "Not enough points to compute the essential matrix, re-detecting features\n"
     ]
    },
    {
     "name": "stderr",
     "output_type": "stream",
     "text": [
      "Processing 07bigroundzeroshot:  60%|█████▉    | 8934/14946 [01:01<00:36, 163.13it/s]"
     ]
    },
    {
     "name": "stdout",
     "output_type": "stream",
     "text": [
      "Invalid essential matrix, repeating last trajectory\n",
      "Invalid essential matrix, repeating last trajectory\n",
      "Invalid essential matrix, repeating last trajectory\n",
      "Invalid essential matrix, repeating last trajectory\n",
      "Invalid essential matrix, repeating last trajectory\n",
      "Not enough points to compute the essential matrix, re-detecting features\n"
     ]
    },
    {
     "name": "stderr",
     "output_type": "stream",
     "text": [
      "Processing 07bigroundzeroshot:  62%|██████▏   | 9304/14946 [01:03<00:26, 214.91it/s]"
     ]
    },
    {
     "name": "stdout",
     "output_type": "stream",
     "text": [
      "Invalid essential matrix, repeating last trajectory\n",
      "Invalid essential matrix, repeating last trajectory\n",
      "Invalid essential matrix, repeating last trajectory\n",
      "Invalid essential matrix, repeating last trajectory\n",
      "Invalid essential matrix, repeating last trajectory\n",
      "Invalid essential matrix, repeating last trajectory\n",
      "Invalid essential matrix, repeating last trajectory\n",
      "Invalid essential matrix, repeating last trajectory\n",
      "Invalid essential matrix, repeating last trajectory\n",
      "Invalid essential matrix, repeating last trajectory\n",
      "Invalid essential matrix, repeating last trajectory\n",
      "Invalid essential matrix, repeating last trajectory\n",
      "Invalid essential matrix, repeating last trajectory\n",
      "Invalid essential matrix, repeating last trajectory\n",
      "Invalid essential matrix, repeating last trajectory\n",
      "Invalid essential matrix, repeating last trajectory\n",
      "Invalid essential matrix, repeating last trajectory\n",
      "Invalid essential matrix, repeating last trajectory\n",
      "Invalid essential matrix, repeating last trajectory\n",
      "Invalid essential matrix, repeating last trajectory\n",
      "Invalid essential matrix, repeating last trajectory\n",
      "Invalid essential matrix, repeating last trajectory\n",
      "Invalid essential matrix, repeating last trajectory\n",
      "Invalid essential matrix, repeating last trajectory\n",
      "Invalid essential matrix, repeating last trajectory\n",
      "Invalid essential matrix, repeating last trajectory\n",
      "Invalid essential matrix, repeating last trajectory\n",
      "Invalid essential matrix, repeating last trajectory\n",
      "Invalid essential matrix, repeating last trajectory\n",
      "Invalid essential matrix, repeating last trajectory\n",
      "Invalid essential matrix, repeating last trajectory\n",
      "Invalid essential matrix, repeating last trajectory\n",
      "Invalid essential matrix, repeating last trajectory\n",
      "Invalid essential matrix, repeating last trajectory\n",
      "Invalid essential matrix, repeating last trajectory\n",
      "Invalid essential matrix, repeating last trajectory\n",
      "Invalid essential matrix, repeating last trajectory\n",
      "Invalid essential matrix, repeating last trajectory\n",
      "Invalid essential matrix, repeating last trajectory\n",
      "Invalid essential matrix, repeating last trajectory\n",
      "Invalid essential matrix, repeating last trajectory\n",
      "Invalid essential matrix, repeating last trajectory\n",
      "Invalid essential matrix, repeating last trajectory\n",
      "Invalid essential matrix, repeating last trajectory\n",
      "Invalid essential matrix, repeating last trajectory\n",
      "Invalid essential matrix, repeating last trajectory\n",
      "Invalid essential matrix, repeating last trajectory\n",
      "Invalid essential matrix, repeating last trajectory\n",
      "Not enough points to compute the essential matrix, re-detecting features\n"
     ]
    },
    {
     "name": "stderr",
     "output_type": "stream",
     "text": [
      "Processing 07bigroundzeroshot:  63%|██████▎   | 9428/14946 [01:05<00:43, 125.85it/s]"
     ]
    },
    {
     "name": "stdout",
     "output_type": "stream",
     "text": [
      "Invalid essential matrix, repeating last trajectory\n",
      "Invalid essential matrix, repeating last trajectory\n",
      "Invalid essential matrix, repeating last trajectory\n",
      "Invalid essential matrix, repeating last trajectory\n",
      "Invalid essential matrix, repeating last trajectory\n",
      "Invalid essential matrix, repeating last trajectory\n",
      "Invalid essential matrix, repeating last trajectory\n",
      "Invalid essential matrix, repeating last trajectory\n",
      "Invalid essential matrix, repeating last trajectory\n",
      "Invalid essential matrix, repeating last trajectory\n",
      "Invalid essential matrix, repeating last trajectory\n",
      "Not enough points to compute the essential matrix, re-detecting features\n"
     ]
    },
    {
     "name": "stderr",
     "output_type": "stream",
     "text": [
      "Processing 07bigroundzeroshot:  66%|██████▌   | 9826/14946 [01:08<00:25, 204.37it/s]"
     ]
    },
    {
     "name": "stdout",
     "output_type": "stream",
     "text": [
      "Invalid essential matrix, repeating last trajectory\n",
      "Invalid essential matrix, repeating last trajectory\n",
      "Invalid essential matrix, repeating last trajectory\n",
      "Invalid essential matrix, repeating last trajectory\n",
      "Invalid essential matrix, repeating last trajectory\n",
      "Invalid essential matrix, repeating last trajectory\n",
      "Invalid essential matrix, repeating last trajectory\n",
      "Invalid essential matrix, repeating last trajectory\n",
      "Invalid essential matrix, repeating last trajectory\n",
      "Invalid essential matrix, repeating last trajectory\n",
      "Invalid essential matrix, repeating last trajectory\n",
      "Invalid essential matrix, repeating last trajectory\n",
      "Invalid essential matrix, repeating last trajectory\n",
      "Invalid essential matrix, repeating last trajectory\n",
      "Invalid essential matrix, repeating last trajectory\n",
      "Invalid essential matrix, repeating last trajectory\n",
      "Invalid essential matrix, repeating last trajectory\n",
      "Invalid essential matrix, repeating last trajectory\n",
      "Invalid essential matrix, repeating last trajectory\n",
      "Invalid essential matrix, repeating last trajectory\n",
      "Invalid essential matrix, repeating last trajectory\n",
      "Invalid essential matrix, repeating last trajectory\n",
      "Invalid essential matrix, repeating last trajectory\n",
      "Invalid essential matrix, repeating last trajectory\n",
      "Invalid essential matrix, repeating last trajectory\n",
      "Invalid essential matrix, repeating last trajectory\n",
      "Invalid essential matrix, repeating last trajectory\n",
      "Invalid essential matrix, repeating last trajectory\n",
      "Invalid essential matrix, repeating last trajectory\n",
      "Invalid essential matrix, repeating last trajectory\n",
      "Invalid essential matrix, repeating last trajectory\n",
      "Invalid essential matrix, repeating last trajectory\n",
      "Invalid essential matrix, repeating last trajectory\n",
      "Invalid essential matrix, repeating last trajectory\n",
      "Invalid essential matrix, repeating last trajectory\n",
      "Invalid essential matrix, repeating last trajectory\n",
      "Invalid essential matrix, repeating last trajectory\n",
      "Invalid essential matrix, repeating last trajectory\n",
      "Invalid essential matrix, repeating last trajectory\n",
      "Invalid essential matrix, repeating last trajectory\n",
      "Invalid essential matrix, repeating last trajectory\n",
      "Invalid essential matrix, repeating last trajectory\n",
      "Invalid essential matrix, repeating last trajectory\n",
      "Invalid essential matrix, repeating last trajectory\n"
     ]
    },
    {
     "name": "stderr",
     "output_type": "stream",
     "text": [
      "Processing 07bigroundzeroshot:  66%|██████▌   | 9870/14946 [01:08<00:24, 211.13it/s]"
     ]
    },
    {
     "name": "stdout",
     "output_type": "stream",
     "text": [
      "Invalid essential matrix, repeating last trajectory\n",
      "Invalid essential matrix, repeating last trajectory\n",
      "Invalid essential matrix, repeating last trajectory\n",
      "Invalid essential matrix, repeating last trajectory\n",
      "Invalid essential matrix, repeating last trajectory\n",
      "Invalid essential matrix, repeating last trajectory\n",
      "Invalid essential matrix, repeating last trajectory\n",
      "Invalid essential matrix, repeating last trajectory\n",
      "Invalid essential matrix, repeating last trajectory\n",
      "Invalid essential matrix, repeating last trajectory\n",
      "Invalid essential matrix, repeating last trajectory\n",
      "Invalid essential matrix, repeating last trajectory\n",
      "Invalid essential matrix, repeating last trajectory\n",
      "Invalid essential matrix, repeating last trajectory\n",
      "Invalid essential matrix, repeating last trajectory\n",
      "Invalid essential matrix, repeating last trajectory\n",
      "Invalid essential matrix, repeating last trajectory\n",
      "Invalid essential matrix, repeating last trajectory\n",
      "Invalid essential matrix, repeating last trajectory\n",
      "Invalid essential matrix, repeating last trajectory\n",
      "Invalid essential matrix, repeating last trajectory\n",
      "Invalid essential matrix, repeating last trajectory\n",
      "Invalid essential matrix, repeating last trajectory\n",
      "Invalid essential matrix, repeating last trajectory\n",
      "Invalid essential matrix, repeating last trajectory\n",
      "Invalid essential matrix, repeating last trajectory\n",
      "Invalid essential matrix, repeating last trajectory\n",
      "Invalid essential matrix, repeating last trajectory\n",
      "Invalid essential matrix, repeating last trajectory\n",
      "Invalid essential matrix, repeating last trajectory\n",
      "Invalid essential matrix, repeating last trajectory\n",
      "Invalid essential matrix, repeating last trajectory\n",
      "Invalid essential matrix, repeating last trajectory\n",
      "Invalid essential matrix, repeating last trajectory\n",
      "Invalid essential matrix, repeating last trajectory\n",
      "Invalid essential matrix, repeating last trajectory\n",
      "Invalid essential matrix, repeating last trajectory\n",
      "Invalid essential matrix, repeating last trajectory\n",
      "Invalid essential matrix, repeating last trajectory\n",
      "Invalid essential matrix, repeating last trajectory\n",
      "Invalid essential matrix, repeating last trajectory\n",
      "Invalid essential matrix, repeating last trajectory\n",
      "Invalid essential matrix, repeating last trajectory\n",
      "Invalid essential matrix, repeating last trajectory\n"
     ]
    },
    {
     "name": "stderr",
     "output_type": "stream",
     "text": [
      "Processing 07bigroundzeroshot:  66%|██████▋   | 9915/14946 [01:08<00:23, 214.79it/s]"
     ]
    },
    {
     "name": "stdout",
     "output_type": "stream",
     "text": [
      "Invalid essential matrix, repeating last trajectory\n",
      "Invalid essential matrix, repeating last trajectory\n",
      "Invalid essential matrix, repeating last trajectory\n",
      "Invalid essential matrix, repeating last trajectory\n",
      "Invalid essential matrix, repeating last trajectory\n",
      "Invalid essential matrix, repeating last trajectory\n",
      "Invalid essential matrix, repeating last trajectory\n",
      "Invalid essential matrix, repeating last trajectory\n",
      "Invalid essential matrix, repeating last trajectory\n",
      "Invalid essential matrix, repeating last trajectory\n",
      "Invalid essential matrix, repeating last trajectory\n",
      "Invalid essential matrix, repeating last trajectory\n",
      "Invalid essential matrix, repeating last trajectory\n",
      "Invalid essential matrix, repeating last trajectory\n",
      "Invalid essential matrix, repeating last trajectory\n",
      "Invalid essential matrix, repeating last trajectory\n",
      "Invalid essential matrix, repeating last trajectory\n",
      "Invalid essential matrix, repeating last trajectory\n",
      "Invalid essential matrix, repeating last trajectory\n",
      "Invalid essential matrix, repeating last trajectory\n",
      "Invalid essential matrix, repeating last trajectory\n",
      "Invalid essential matrix, repeating last trajectory\n",
      "Invalid essential matrix, repeating last trajectory\n",
      "Invalid essential matrix, repeating last trajectory\n",
      "Invalid essential matrix, repeating last trajectory\n",
      "Invalid essential matrix, repeating last trajectory\n",
      "Invalid essential matrix, repeating last trajectory\n",
      "Invalid essential matrix, repeating last trajectory\n",
      "Invalid essential matrix, repeating last trajectory\n",
      "Invalid essential matrix, repeating last trajectory\n",
      "Invalid essential matrix, repeating last trajectory\n",
      "Invalid essential matrix, repeating last trajectory\n",
      "Invalid essential matrix, repeating last trajectory\n",
      "Invalid essential matrix, repeating last trajectory\n",
      "Invalid essential matrix, repeating last trajectory\n",
      "Invalid essential matrix, repeating last trajectory\n",
      "Invalid essential matrix, repeating last trajectory\n",
      "Invalid essential matrix, repeating last trajectory\n",
      "Invalid essential matrix, repeating last trajectory\n",
      "Invalid essential matrix, repeating last trajectory\n",
      "Invalid essential matrix, repeating last trajectory\n",
      "Invalid essential matrix, repeating last trajectory\n",
      "Invalid essential matrix, repeating last trajectory\n",
      "Invalid essential matrix, repeating last trajectory\n"
     ]
    },
    {
     "name": "stderr",
     "output_type": "stream",
     "text": [
      "Processing 07bigroundzeroshot:  67%|██████▋   | 9960/14946 [01:08<00:22, 217.69it/s]"
     ]
    },
    {
     "name": "stdout",
     "output_type": "stream",
     "text": [
      "Invalid essential matrix, repeating last trajectory\n",
      "Invalid essential matrix, repeating last trajectory\n",
      "Invalid essential matrix, repeating last trajectory\n",
      "Invalid essential matrix, repeating last trajectory\n",
      "Invalid essential matrix, repeating last trajectory\n",
      "Invalid essential matrix, repeating last trajectory\n",
      "Invalid essential matrix, repeating last trajectory\n",
      "Invalid essential matrix, repeating last trajectory\n",
      "Invalid essential matrix, repeating last trajectory\n",
      "Invalid essential matrix, repeating last trajectory\n",
      "Invalid essential matrix, repeating last trajectory\n",
      "Invalid essential matrix, repeating last trajectory\n",
      "Invalid essential matrix, repeating last trajectory\n",
      "Invalid essential matrix, repeating last trajectory\n",
      "Invalid essential matrix, repeating last trajectory\n",
      "Invalid essential matrix, repeating last trajectory\n",
      "Invalid essential matrix, repeating last trajectory\n",
      "Invalid essential matrix, repeating last trajectory\n",
      "Invalid essential matrix, repeating last trajectory\n",
      "Invalid essential matrix, repeating last trajectory\n",
      "Invalid essential matrix, repeating last trajectory\n",
      "Invalid essential matrix, repeating last trajectory\n",
      "Invalid essential matrix, repeating last trajectory\n",
      "Invalid essential matrix, repeating last trajectory\n",
      "Invalid essential matrix, repeating last trajectory\n",
      "Invalid essential matrix, repeating last trajectory\n",
      "Invalid essential matrix, repeating last trajectory\n",
      "Invalid essential matrix, repeating last trajectory\n",
      "Invalid essential matrix, repeating last trajectory\n",
      "Invalid essential matrix, repeating last trajectory\n",
      "Invalid essential matrix, repeating last trajectory\n",
      "Invalid essential matrix, repeating last trajectory\n",
      "Invalid essential matrix, repeating last trajectory\n",
      "Invalid essential matrix, repeating last trajectory\n",
      "Invalid essential matrix, repeating last trajectory\n",
      "Invalid essential matrix, repeating last trajectory\n",
      "Invalid essential matrix, repeating last trajectory\n",
      "Invalid essential matrix, repeating last trajectory\n",
      "Invalid essential matrix, repeating last trajectory\n",
      "Invalid essential matrix, repeating last trajectory\n",
      "Invalid essential matrix, repeating last trajectory\n",
      "Invalid essential matrix, repeating last trajectory\n",
      "Invalid essential matrix, repeating last trajectory\n",
      "Invalid essential matrix, repeating last trajectory\n",
      "Invalid essential matrix, repeating last trajectory\n"
     ]
    },
    {
     "name": "stderr",
     "output_type": "stream",
     "text": [
      "Processing 07bigroundzeroshot:  67%|██████▋   | 10005/14946 [01:09<00:22, 216.64it/s]"
     ]
    },
    {
     "name": "stdout",
     "output_type": "stream",
     "text": [
      "Invalid essential matrix, repeating last trajectory\n",
      "Invalid essential matrix, repeating last trajectory\n",
      "Invalid essential matrix, repeating last trajectory\n",
      "Invalid essential matrix, repeating last trajectory\n",
      "Invalid essential matrix, repeating last trajectory\n",
      "Invalid essential matrix, repeating last trajectory\n",
      "Invalid essential matrix, repeating last trajectory\n",
      "Invalid essential matrix, repeating last trajectory\n",
      "Invalid essential matrix, repeating last trajectory\n",
      "Invalid essential matrix, repeating last trajectory\n",
      "Invalid essential matrix, repeating last trajectory\n",
      "Invalid essential matrix, repeating last trajectory\n",
      "Invalid essential matrix, repeating last trajectory\n",
      "Invalid essential matrix, repeating last trajectory\n",
      "Invalid essential matrix, repeating last trajectory\n",
      "Invalid essential matrix, repeating last trajectory\n",
      "Invalid essential matrix, repeating last trajectory\n",
      "Invalid essential matrix, repeating last trajectory\n",
      "Invalid essential matrix, repeating last trajectory\n",
      "Invalid essential matrix, repeating last trajectory\n",
      "Invalid essential matrix, repeating last trajectory\n",
      "Invalid essential matrix, repeating last trajectory\n",
      "Invalid essential matrix, repeating last trajectory\n",
      "Invalid essential matrix, repeating last trajectory\n",
      "Invalid essential matrix, repeating last trajectory\n",
      "Invalid essential matrix, repeating last trajectory\n",
      "Invalid essential matrix, repeating last trajectory\n",
      "Invalid essential matrix, repeating last trajectory\n",
      "Invalid essential matrix, repeating last trajectory\n",
      "Invalid essential matrix, repeating last trajectory\n",
      "Invalid essential matrix, repeating last trajectory\n",
      "Invalid essential matrix, repeating last trajectory\n",
      "Invalid essential matrix, repeating last trajectory\n",
      "Invalid essential matrix, repeating last trajectory\n",
      "Invalid essential matrix, repeating last trajectory\n",
      "Invalid essential matrix, repeating last trajectory\n",
      "Invalid essential matrix, repeating last trajectory\n",
      "Invalid essential matrix, repeating last trajectory\n",
      "Invalid essential matrix, repeating last trajectory\n",
      "Invalid essential matrix, repeating last trajectory\n",
      "Invalid essential matrix, repeating last trajectory\n",
      "Invalid essential matrix, repeating last trajectory\n",
      "Invalid essential matrix, repeating last trajectory\n",
      "Invalid essential matrix, repeating last trajectory\n"
     ]
    },
    {
     "name": "stderr",
     "output_type": "stream",
     "text": [
      "Processing 07bigroundzeroshot:  67%|██████▋   | 10049/14946 [01:09<00:22, 216.86it/s]"
     ]
    },
    {
     "name": "stdout",
     "output_type": "stream",
     "text": [
      "Invalid essential matrix, repeating last trajectory\n",
      "Invalid essential matrix, repeating last trajectory\n",
      "Invalid essential matrix, repeating last trajectory\n",
      "Invalid essential matrix, repeating last trajectory\n",
      "Invalid essential matrix, repeating last trajectory\n",
      "Invalid essential matrix, repeating last trajectory\n",
      "Invalid essential matrix, repeating last trajectory\n",
      "Invalid essential matrix, repeating last trajectory\n",
      "Invalid essential matrix, repeating last trajectory\n",
      "Invalid essential matrix, repeating last trajectory\n",
      "Invalid essential matrix, repeating last trajectory\n",
      "Invalid essential matrix, repeating last trajectory\n",
      "Invalid essential matrix, repeating last trajectory\n",
      "Invalid essential matrix, repeating last trajectory\n",
      "Invalid essential matrix, repeating last trajectory\n",
      "Invalid essential matrix, repeating last trajectory\n",
      "Invalid essential matrix, repeating last trajectory\n",
      "Invalid essential matrix, repeating last trajectory\n",
      "Invalid essential matrix, repeating last trajectory\n",
      "Invalid essential matrix, repeating last trajectory\n",
      "Invalid essential matrix, repeating last trajectory\n",
      "Invalid essential matrix, repeating last trajectory\n",
      "Invalid essential matrix, repeating last trajectory\n",
      "Invalid essential matrix, repeating last trajectory\n",
      "Invalid essential matrix, repeating last trajectory\n",
      "Invalid essential matrix, repeating last trajectory\n",
      "Invalid essential matrix, repeating last trajectory\n",
      "Invalid essential matrix, repeating last trajectory\n",
      "Invalid essential matrix, repeating last trajectory\n",
      "Invalid essential matrix, repeating last trajectory\n",
      "Invalid essential matrix, repeating last trajectory\n",
      "Invalid essential matrix, repeating last trajectory\n",
      "Invalid essential matrix, repeating last trajectory\n",
      "Invalid essential matrix, repeating last trajectory\n",
      "Invalid essential matrix, repeating last trajectory\n",
      "Invalid essential matrix, repeating last trajectory\n",
      "Invalid essential matrix, repeating last trajectory\n",
      "Invalid essential matrix, repeating last trajectory\n",
      "Invalid essential matrix, repeating last trajectory\n",
      "Invalid essential matrix, repeating last trajectory\n",
      "Invalid essential matrix, repeating last trajectory\n",
      "Invalid essential matrix, repeating last trajectory\n",
      "Invalid essential matrix, repeating last trajectory\n",
      "Invalid essential matrix, repeating last trajectory\n"
     ]
    },
    {
     "name": "stderr",
     "output_type": "stream",
     "text": [
      "Processing 07bigroundzeroshot:  68%|██████▊   | 10093/14946 [01:09<00:23, 210.13it/s]"
     ]
    },
    {
     "name": "stdout",
     "output_type": "stream",
     "text": [
      "Invalid essential matrix, repeating last trajectory\n",
      "Invalid essential matrix, repeating last trajectory\n",
      "Invalid essential matrix, repeating last trajectory\n",
      "Invalid essential matrix, repeating last trajectory\n",
      "Invalid essential matrix, repeating last trajectory\n",
      "Invalid essential matrix, repeating last trajectory\n",
      "Invalid essential matrix, repeating last trajectory\n",
      "Invalid essential matrix, repeating last trajectory\n",
      "Invalid essential matrix, repeating last trajectory\n",
      "Invalid essential matrix, repeating last trajectory\n",
      "Invalid essential matrix, repeating last trajectory\n",
      "Invalid essential matrix, repeating last trajectory\n",
      "Invalid essential matrix, repeating last trajectory\n",
      "Invalid essential matrix, repeating last trajectory\n",
      "Invalid essential matrix, repeating last trajectory\n",
      "Invalid essential matrix, repeating last trajectory\n",
      "Invalid essential matrix, repeating last trajectory\n",
      "Invalid essential matrix, repeating last trajectory\n",
      "Invalid essential matrix, repeating last trajectory\n",
      "Invalid essential matrix, repeating last trajectory\n",
      "Invalid essential matrix, repeating last trajectory\n",
      "Invalid essential matrix, repeating last trajectory\n",
      "Invalid essential matrix, repeating last trajectory\n",
      "Invalid essential matrix, repeating last trajectory\n",
      "Invalid essential matrix, repeating last trajectory\n",
      "Invalid essential matrix, repeating last trajectory\n",
      "Invalid essential matrix, repeating last trajectory\n",
      "Invalid essential matrix, repeating last trajectory\n",
      "Invalid essential matrix, repeating last trajectory\n",
      "Invalid essential matrix, repeating last trajectory\n",
      "Invalid essential matrix, repeating last trajectory\n",
      "Invalid essential matrix, repeating last trajectory\n",
      "Invalid essential matrix, repeating last trajectory\n",
      "Invalid essential matrix, repeating last trajectory\n",
      "Invalid essential matrix, repeating last trajectory\n",
      "Invalid essential matrix, repeating last trajectory\n",
      "Invalid essential matrix, repeating last trajectory\n",
      "Invalid essential matrix, repeating last trajectory\n",
      "Invalid essential matrix, repeating last trajectory\n",
      "Invalid essential matrix, repeating last trajectory\n",
      "Invalid essential matrix, repeating last trajectory\n",
      "Invalid essential matrix, repeating last trajectory\n"
     ]
    },
    {
     "name": "stderr",
     "output_type": "stream",
     "text": [
      "Processing 07bigroundzeroshot:  68%|██████▊   | 10115/14946 [01:09<00:22, 212.73it/s]"
     ]
    },
    {
     "name": "stdout",
     "output_type": "stream",
     "text": [
      "Invalid essential matrix, repeating last trajectory\n",
      "Invalid essential matrix, repeating last trajectory\n",
      "Invalid essential matrix, repeating last trajectory\n",
      "Invalid essential matrix, repeating last trajectory\n",
      "Invalid essential matrix, repeating last trajectory\n",
      "Invalid essential matrix, repeating last trajectory\n",
      "Invalid essential matrix, repeating last trajectory\n",
      "Invalid essential matrix, repeating last trajectory\n",
      "Invalid essential matrix, repeating last trajectory\n",
      "Invalid essential matrix, repeating last trajectory\n",
      "Invalid essential matrix, repeating last trajectory\n",
      "Invalid essential matrix, repeating last trajectory\n",
      "Invalid essential matrix, repeating last trajectory\n",
      "Invalid essential matrix, repeating last trajectory\n",
      "Invalid essential matrix, repeating last trajectory\n",
      "Invalid essential matrix, repeating last trajectory\n",
      "Invalid essential matrix, repeating last trajectory\n",
      "Invalid essential matrix, repeating last trajectory\n",
      "Invalid essential matrix, repeating last trajectory\n",
      "Invalid essential matrix, repeating last trajectory\n",
      "Invalid essential matrix, repeating last trajectory\n",
      "Invalid essential matrix, repeating last trajectory\n",
      "Invalid essential matrix, repeating last trajectory\n",
      "Invalid essential matrix, repeating last trajectory\n",
      "Invalid essential matrix, repeating last trajectory\n",
      "Invalid essential matrix, repeating last trajectory\n",
      "Invalid essential matrix, repeating last trajectory\n",
      "Invalid essential matrix, repeating last trajectory\n",
      "Invalid essential matrix, repeating last trajectory\n",
      "Invalid essential matrix, repeating last trajectory\n",
      "Invalid essential matrix, repeating last trajectory\n",
      "Invalid essential matrix, repeating last trajectory\n",
      "Invalid essential matrix, repeating last trajectory\n",
      "Invalid essential matrix, repeating last trajectory\n",
      "Invalid essential matrix, repeating last trajectory\n",
      "Invalid essential matrix, repeating last trajectory\n",
      "Invalid essential matrix, repeating last trajectory\n",
      "Invalid essential matrix, repeating last trajectory\n",
      "Invalid essential matrix, repeating last trajectory\n",
      "Not enough points to compute the essential matrix, re-detecting features\n"
     ]
    },
    {
     "name": "stderr",
     "output_type": "stream",
     "text": [
      "Processing 07bigroundzeroshot:  69%|██████▉   | 10377/14946 [01:11<00:28, 161.67it/s]"
     ]
    },
    {
     "name": "stdout",
     "output_type": "stream",
     "text": [
      "Invalid essential matrix, repeating last trajectory\n",
      "Not enough points to compute the essential matrix, re-detecting features\n"
     ]
    },
    {
     "name": "stderr",
     "output_type": "stream",
     "text": [
      "Processing 07bigroundzeroshot:  72%|███████▏  | 10712/14946 [01:14<00:21, 193.85it/s]"
     ]
    },
    {
     "name": "stdout",
     "output_type": "stream",
     "text": [
      "Invalid essential matrix, repeating last trajectory\n",
      "Invalid essential matrix, repeating last trajectory\n",
      "Invalid essential matrix, repeating last trajectory\n",
      "Invalid essential matrix, repeating last trajectory\n",
      "Invalid essential matrix, repeating last trajectory\n",
      "Invalid essential matrix, repeating last trajectory\n",
      "Invalid essential matrix, repeating last trajectory\n",
      "Invalid essential matrix, repeating last trajectory\n",
      "Invalid essential matrix, repeating last trajectory\n",
      "Invalid essential matrix, repeating last trajectory\n",
      "Invalid essential matrix, repeating last trajectory\n",
      "Invalid essential matrix, repeating last trajectory\n",
      "Invalid essential matrix, repeating last trajectory\n",
      "Invalid essential matrix, repeating last trajectory\n",
      "Invalid essential matrix, repeating last trajectory\n",
      "Invalid essential matrix, repeating last trajectory\n",
      "Invalid essential matrix, repeating last trajectory\n",
      "Invalid essential matrix, repeating last trajectory\n",
      "Invalid essential matrix, repeating last trajectory\n",
      "Invalid essential matrix, repeating last trajectory\n",
      "Invalid essential matrix, repeating last trajectory\n",
      "Invalid essential matrix, repeating last trajectory\n",
      "Invalid essential matrix, repeating last trajectory\n",
      "Invalid essential matrix, repeating last trajectory\n",
      "Invalid essential matrix, repeating last trajectory\n",
      "Invalid essential matrix, repeating last trajectory\n",
      "Invalid essential matrix, repeating last trajectory\n",
      "Invalid essential matrix, repeating last trajectory\n",
      "Invalid essential matrix, repeating last trajectory\n",
      "Invalid essential matrix, repeating last trajectory\n",
      "Invalid essential matrix, repeating last trajectory\n",
      "Invalid essential matrix, repeating last trajectory\n",
      "Invalid essential matrix, repeating last trajectory\n",
      "Invalid essential matrix, repeating last trajectory\n",
      "Invalid essential matrix, repeating last trajectory\n",
      "Not enough points to compute the essential matrix, re-detecting features\n"
     ]
    },
    {
     "name": "stderr",
     "output_type": "stream",
     "text": [
      "Processing 07bigroundzeroshot:  74%|███████▎  | 11006/14946 [01:16<00:24, 163.16it/s]"
     ]
    },
    {
     "name": "stdout",
     "output_type": "stream",
     "text": [
      "Invalid essential matrix, repeating last trajectory\n",
      "Invalid essential matrix, repeating last trajectory\n",
      "Invalid essential matrix, repeating last trajectory\n",
      "Invalid essential matrix, repeating last trajectory\n",
      "Not enough points to compute the essential matrix, re-detecting features\n"
     ]
    },
    {
     "name": "stderr",
     "output_type": "stream",
     "text": [
      "Processing 07bigroundzeroshot:  75%|███████▍  | 11172/14946 [01:17<00:25, 150.32it/s]"
     ]
    },
    {
     "name": "stdout",
     "output_type": "stream",
     "text": [
      "Invalid essential matrix, repeating last trajectory\n",
      "Invalid essential matrix, repeating last trajectory\n",
      "Invalid essential matrix, repeating last trajectory\n",
      "Not enough points to compute the essential matrix, re-detecting features\n"
     ]
    },
    {
     "name": "stderr",
     "output_type": "stream",
     "text": [
      "Processing 07bigroundzeroshot:  78%|███████▊  | 11624/14946 [01:20<00:15, 211.03it/s]"
     ]
    },
    {
     "name": "stdout",
     "output_type": "stream",
     "text": [
      "Invalid essential matrix, repeating last trajectory\n",
      "Invalid essential matrix, repeating last trajectory\n",
      "Invalid essential matrix, repeating last trajectory\n",
      "Invalid essential matrix, repeating last trajectory\n",
      "Invalid essential matrix, repeating last trajectory\n",
      "Invalid essential matrix, repeating last trajectory\n",
      "Invalid essential matrix, repeating last trajectory\n",
      "Invalid essential matrix, repeating last trajectory\n",
      "Invalid essential matrix, repeating last trajectory\n",
      "Invalid essential matrix, repeating last trajectory\n",
      "Invalid essential matrix, repeating last trajectory\n",
      "Invalid essential matrix, repeating last trajectory\n",
      "Invalid essential matrix, repeating last trajectory\n",
      "Invalid essential matrix, repeating last trajectory\n",
      "Invalid essential matrix, repeating last trajectory\n",
      "Invalid essential matrix, repeating last trajectory\n",
      "Invalid essential matrix, repeating last trajectory\n",
      "Invalid essential matrix, repeating last trajectory\n",
      "Invalid essential matrix, repeating last trajectory\n",
      "Invalid essential matrix, repeating last trajectory\n",
      "Invalid essential matrix, repeating last trajectory\n",
      "Invalid essential matrix, repeating last trajectory\n",
      "Invalid essential matrix, repeating last trajectory\n",
      "Invalid essential matrix, repeating last trajectory\n",
      "Invalid essential matrix, repeating last trajectory\n",
      "Invalid essential matrix, repeating last trajectory\n",
      "Invalid essential matrix, repeating last trajectory\n",
      "Invalid essential matrix, repeating last trajectory\n",
      "Invalid essential matrix, repeating last trajectory\n",
      "Invalid essential matrix, repeating last trajectory\n",
      "Not enough points to compute the essential matrix, re-detecting features\n"
     ]
    },
    {
     "name": "stderr",
     "output_type": "stream",
     "text": [
      "Processing 07bigroundzeroshot:  83%|████████▎ | 12401/14946 [01:25<00:13, 182.23it/s]"
     ]
    },
    {
     "name": "stdout",
     "output_type": "stream",
     "text": [
      "Not enough points to compute the essential matrix, re-detecting features\n"
     ]
    },
    {
     "name": "stderr",
     "output_type": "stream",
     "text": [
      "Processing 07bigroundzeroshot:  84%|████████▍ | 12556/14946 [01:27<00:14, 168.76it/s]"
     ]
    },
    {
     "name": "stdout",
     "output_type": "stream",
     "text": [
      "Invalid essential matrix, repeating last trajectory\n",
      "Not enough points to compute the essential matrix, re-detecting features\n"
     ]
    },
    {
     "name": "stderr",
     "output_type": "stream",
     "text": [
      "Processing 07bigroundzeroshot:  86%|████████▌ | 12779/14946 [01:29<00:14, 146.63it/s]"
     ]
    },
    {
     "name": "stdout",
     "output_type": "stream",
     "text": [
      "Not enough points to compute the essential matrix, re-detecting features\n"
     ]
    },
    {
     "name": "stderr",
     "output_type": "stream",
     "text": [
      "Processing 07bigroundzeroshot:  87%|████████▋ | 13006/14946 [01:30<00:11, 169.36it/s]"
     ]
    },
    {
     "name": "stdout",
     "output_type": "stream",
     "text": [
      "Invalid essential matrix, repeating last trajectory\n",
      "Invalid essential matrix, repeating last trajectory\n",
      "Invalid essential matrix, repeating last trajectory\n",
      "Invalid essential matrix, repeating last trajectory\n",
      "Invalid essential matrix, repeating last trajectory\n",
      "Invalid essential matrix, repeating last trajectory\n",
      "Invalid essential matrix, repeating last trajectory\n",
      "Invalid essential matrix, repeating last trajectory\n",
      "Invalid essential matrix, repeating last trajectory\n",
      "Invalid essential matrix, repeating last trajectory\n",
      "Invalid essential matrix, repeating last trajectory\n",
      "Invalid essential matrix, repeating last trajectory\n",
      "Invalid essential matrix, repeating last trajectory\n",
      "Invalid essential matrix, repeating last trajectory\n",
      "Invalid essential matrix, repeating last trajectory\n",
      "Invalid essential matrix, repeating last trajectory\n",
      "Invalid essential matrix, repeating last trajectory\n",
      "Invalid essential matrix, repeating last trajectory\n",
      "Invalid essential matrix, repeating last trajectory\n",
      "Invalid essential matrix, repeating last trajectory\n",
      "Invalid essential matrix, repeating last trajectory\n",
      "Invalid essential matrix, repeating last trajectory\n",
      "Invalid essential matrix, repeating last trajectory\n",
      "Not enough points to compute the essential matrix, re-detecting features\n"
     ]
    },
    {
     "name": "stderr",
     "output_type": "stream",
     "text": [
      "Processing 07bigroundzeroshot:  90%|████████▉ | 13409/14946 [01:33<00:07, 206.42it/s]"
     ]
    },
    {
     "name": "stdout",
     "output_type": "stream",
     "text": [
      "Invalid essential matrix, repeating last trajectory\n",
      "Invalid essential matrix, repeating last trajectory\n",
      "Invalid essential matrix, repeating last trajectory\n",
      "Invalid essential matrix, repeating last trajectory\n",
      "Invalid essential matrix, repeating last trajectory\n",
      "Invalid essential matrix, repeating last trajectory\n",
      "Invalid essential matrix, repeating last trajectory\n",
      "Invalid essential matrix, repeating last trajectory\n",
      "Invalid essential matrix, repeating last trajectory\n",
      "Invalid essential matrix, repeating last trajectory\n",
      "Invalid essential matrix, repeating last trajectory\n",
      "Invalid essential matrix, repeating last trajectory\n",
      "Invalid essential matrix, repeating last trajectory\n",
      "Invalid essential matrix, repeating last trajectory\n",
      "Invalid essential matrix, repeating last trajectory\n",
      "Invalid essential matrix, repeating last trajectory\n",
      "Invalid essential matrix, repeating last trajectory\n",
      "Invalid essential matrix, repeating last trajectory\n",
      "Invalid essential matrix, repeating last trajectory\n",
      "Invalid essential matrix, repeating last trajectory\n",
      "Invalid essential matrix, repeating last trajectory\n",
      "Invalid essential matrix, repeating last trajectory\n",
      "Invalid essential matrix, repeating last trajectory\n",
      "Invalid essential matrix, repeating last trajectory\n",
      "Invalid essential matrix, repeating last trajectory\n",
      "Invalid essential matrix, repeating last trajectory\n",
      "Invalid essential matrix, repeating last trajectory\n",
      "Invalid essential matrix, repeating last trajectory\n",
      "Invalid essential matrix, repeating last trajectory\n",
      "Invalid essential matrix, repeating last trajectory\n",
      "Invalid essential matrix, repeating last trajectory\n",
      "Invalid essential matrix, repeating last trajectory\n",
      "Invalid essential matrix, repeating last trajectory\n",
      "Invalid essential matrix, repeating last trajectory\n",
      "Invalid essential matrix, repeating last trajectory\n",
      "Invalid essential matrix, repeating last trajectory\n",
      "Invalid essential matrix, repeating last trajectory\n",
      "Invalid essential matrix, repeating last trajectory\n",
      "Invalid essential matrix, repeating last trajectory\n",
      "Invalid essential matrix, repeating last trajectory\n",
      "Invalid essential matrix, repeating last trajectory\n",
      "Invalid essential matrix, repeating last trajectory\n",
      "Invalid essential matrix, repeating last trajectory\n",
      "Invalid essential matrix, repeating last trajectory\n",
      "Invalid essential matrix, repeating last trajectory\n"
     ]
    },
    {
     "name": "stderr",
     "output_type": "stream",
     "text": [
      "Processing 07bigroundzeroshot:  90%|████████▉ | 13430/14946 [01:34<00:07, 204.81it/s]"
     ]
    },
    {
     "name": "stdout",
     "output_type": "stream",
     "text": [
      "Invalid essential matrix, repeating last trajectory\n",
      "Invalid essential matrix, repeating last trajectory\n",
      "Invalid essential matrix, repeating last trajectory\n",
      "Invalid essential matrix, repeating last trajectory\n",
      "Invalid essential matrix, repeating last trajectory\n",
      "Invalid essential matrix, repeating last trajectory\n",
      "Invalid essential matrix, repeating last trajectory\n",
      "Invalid essential matrix, repeating last trajectory\n",
      "Invalid essential matrix, repeating last trajectory\n",
      "Invalid essential matrix, repeating last trajectory\n",
      "Invalid essential matrix, repeating last trajectory\n",
      "Invalid essential matrix, repeating last trajectory\n",
      "Invalid essential matrix, repeating last trajectory\n",
      "Invalid essential matrix, repeating last trajectory\n",
      "Invalid essential matrix, repeating last trajectory\n",
      "Invalid essential matrix, repeating last trajectory\n",
      "Invalid essential matrix, repeating last trajectory\n",
      "Invalid essential matrix, repeating last trajectory\n",
      "Invalid essential matrix, repeating last trajectory\n",
      "Invalid essential matrix, repeating last trajectory\n",
      "Invalid essential matrix, repeating last trajectory\n",
      "Invalid essential matrix, repeating last trajectory\n",
      "Invalid essential matrix, repeating last trajectory\n",
      "Invalid essential matrix, repeating last trajectory\n",
      "Invalid essential matrix, repeating last trajectory\n",
      "Invalid essential matrix, repeating last trajectory\n",
      "Invalid essential matrix, repeating last trajectory\n",
      "Invalid essential matrix, repeating last trajectory\n",
      "Invalid essential matrix, repeating last trajectory\n",
      "Invalid essential matrix, repeating last trajectory\n",
      "Invalid essential matrix, repeating last trajectory\n",
      "Invalid essential matrix, repeating last trajectory\n",
      "Invalid essential matrix, repeating last trajectory\n",
      "Not enough points to compute the essential matrix, re-detecting features\n"
     ]
    },
    {
     "name": "stderr",
     "output_type": "stream",
     "text": [
      "Processing 07bigroundzeroshot: 100%|█████████▉| 14945/14946 [01:42<00:00, 146.35it/s]\n"
     ]
    },
    {
     "name": "stdout",
     "output_type": "stream",
     "text": [
      "Mask loaded from mask.png\n"
     ]
    },
    {
     "name": "stderr",
     "output_type": "stream",
     "text": [
      "Processing 06home2uni:   7%|▋         | 2160/28868 [00:13<03:58, 112.03it/s]"
     ]
    },
    {
     "name": "stdout",
     "output_type": "stream",
     "text": [
      "Not enough points to compute the essential matrix, re-detecting features\n"
     ]
    },
    {
     "name": "stderr",
     "output_type": "stream",
     "text": [
      "Processing 06home2uni:   8%|▊         | 2295/28868 [00:14<03:21, 131.60it/s]"
     ]
    },
    {
     "name": "stdout",
     "output_type": "stream",
     "text": [
      "Not enough points to compute the essential matrix, re-detecting features\n"
     ]
    },
    {
     "name": "stderr",
     "output_type": "stream",
     "text": [
      "Processing 06home2uni:  11%|█         | 3034/28868 [00:19<02:17, 187.32it/s]"
     ]
    },
    {
     "name": "stdout",
     "output_type": "stream",
     "text": [
      "Not enough points to compute the essential matrix, re-detecting features\n"
     ]
    },
    {
     "name": "stderr",
     "output_type": "stream",
     "text": [
      "Processing 06home2uni:  11%|█▏        | 3263/28868 [00:21<02:57, 144.39it/s]"
     ]
    },
    {
     "name": "stdout",
     "output_type": "stream",
     "text": [
      "Not enough points to compute the essential matrix, re-detecting features\n"
     ]
    },
    {
     "name": "stderr",
     "output_type": "stream",
     "text": [
      "Processing 06home2uni:  14%|█▎        | 3907/28868 [00:24<02:47, 148.79it/s]"
     ]
    },
    {
     "name": "stdout",
     "output_type": "stream",
     "text": [
      "Invalid essential matrix, repeating last trajectory\n",
      "Not enough points to compute the essential matrix, re-detecting features\n"
     ]
    },
    {
     "name": "stderr",
     "output_type": "stream",
     "text": [
      "Processing 06home2uni:  17%|█▋        | 4975/28868 [00:31<01:53, 210.47it/s]"
     ]
    },
    {
     "name": "stdout",
     "output_type": "stream",
     "text": [
      "Invalid essential matrix, repeating last trajectory\n",
      "Not enough points to compute the essential matrix, re-detecting features\n"
     ]
    },
    {
     "name": "stderr",
     "output_type": "stream",
     "text": [
      "Processing 06home2uni:  19%|█▉        | 5531/28868 [00:35<01:57, 198.05it/s]"
     ]
    },
    {
     "name": "stdout",
     "output_type": "stream",
     "text": [
      "Invalid essential matrix, repeating last trajectory\n",
      "Invalid essential matrix, repeating last trajectory\n",
      "Invalid essential matrix, repeating last trajectory\n",
      "Invalid essential matrix, repeating last trajectory\n",
      "Invalid essential matrix, repeating last trajectory\n",
      "Invalid essential matrix, repeating last trajectory\n",
      "Invalid essential matrix, repeating last trajectory\n",
      "Invalid essential matrix, repeating last trajectory\n",
      "Invalid essential matrix, repeating last trajectory\n",
      "Invalid essential matrix, repeating last trajectory\n",
      "Invalid essential matrix, repeating last trajectory\n",
      "Invalid essential matrix, repeating last trajectory\n",
      "Invalid essential matrix, repeating last trajectory\n",
      "Invalid essential matrix, repeating last trajectory\n",
      "Invalid essential matrix, repeating last trajectory\n",
      "Invalid essential matrix, repeating last trajectory\n",
      "Invalid essential matrix, repeating last trajectory\n",
      "Invalid essential matrix, repeating last trajectory\n",
      "Invalid essential matrix, repeating last trajectory\n",
      "Invalid essential matrix, repeating last trajectory\n",
      "Invalid essential matrix, repeating last trajectory\n",
      "Invalid essential matrix, repeating last trajectory\n",
      "Invalid essential matrix, repeating last trajectory\n",
      "Invalid essential matrix, repeating last trajectory\n",
      "Invalid essential matrix, repeating last trajectory\n",
      "Invalid essential matrix, repeating last trajectory\n",
      "Invalid essential matrix, repeating last trajectory\n",
      "Invalid essential matrix, repeating last trajectory\n",
      "Invalid essential matrix, repeating last trajectory\n",
      "Invalid essential matrix, repeating last trajectory\n",
      "Invalid essential matrix, repeating last trajectory\n",
      "Invalid essential matrix, repeating last trajectory\n",
      "Invalid essential matrix, repeating last trajectory\n",
      "Invalid essential matrix, repeating last trajectory\n",
      "Invalid essential matrix, repeating last trajectory\n",
      "Invalid essential matrix, repeating last trajectory\n",
      "Invalid essential matrix, repeating last trajectory\n",
      "Invalid essential matrix, repeating last trajectory\n",
      "Invalid essential matrix, repeating last trajectory\n",
      "Invalid essential matrix, repeating last trajectory\n",
      "Invalid essential matrix, repeating last trajectory\n",
      "Invalid essential matrix, repeating last trajectory\n",
      "Not enough points to compute the essential matrix, re-detecting features\n"
     ]
    },
    {
     "name": "stderr",
     "output_type": "stream",
     "text": [
      "Processing 06home2uni:  20%|██        | 5877/28868 [00:37<02:11, 175.30it/s]"
     ]
    },
    {
     "name": "stdout",
     "output_type": "stream",
     "text": [
      "Invalid essential matrix, repeating last trajectory\n",
      "Invalid essential matrix, repeating last trajectory\n",
      "Invalid essential matrix, repeating last trajectory\n",
      "Invalid essential matrix, repeating last trajectory\n",
      "Invalid essential matrix, repeating last trajectory\n",
      "Invalid essential matrix, repeating last trajectory\n",
      "Invalid essential matrix, repeating last trajectory\n",
      "Invalid essential matrix, repeating last trajectory\n",
      "Invalid essential matrix, repeating last trajectory\n",
      "Invalid essential matrix, repeating last trajectory\n",
      "Invalid essential matrix, repeating last trajectory\n",
      "Invalid essential matrix, repeating last trajectory\n",
      "Invalid essential matrix, repeating last trajectory\n",
      "Not enough points to compute the essential matrix, re-detecting features\n"
     ]
    },
    {
     "name": "stderr",
     "output_type": "stream",
     "text": [
      "Processing 06home2uni:  21%|██        | 6076/28868 [00:38<02:27, 154.26it/s]"
     ]
    },
    {
     "name": "stdout",
     "output_type": "stream",
     "text": [
      "Not enough points to compute the essential matrix, re-detecting features\n"
     ]
    },
    {
     "name": "stderr",
     "output_type": "stream",
     "text": [
      "Processing 06home2uni:  22%|██▏       | 6332/28868 [00:40<02:21, 158.94it/s]"
     ]
    },
    {
     "name": "stdout",
     "output_type": "stream",
     "text": [
      "Invalid essential matrix, repeating last trajectory\n",
      "Not enough points to compute the essential matrix, re-detecting features\n"
     ]
    },
    {
     "name": "stderr",
     "output_type": "stream",
     "text": [
      "Processing 06home2uni:  23%|██▎       | 6710/28868 [00:43<01:58, 186.76it/s]"
     ]
    },
    {
     "name": "stdout",
     "output_type": "stream",
     "text": [
      "Invalid essential matrix, repeating last trajectory\n",
      "Invalid essential matrix, repeating last trajectory\n",
      "Invalid essential matrix, repeating last trajectory\n",
      "Invalid essential matrix, repeating last trajectory\n",
      "Invalid essential matrix, repeating last trajectory\n",
      "Invalid essential matrix, repeating last trajectory\n",
      "Invalid essential matrix, repeating last trajectory\n",
      "Invalid essential matrix, repeating last trajectory\n",
      "Not enough points to compute the essential matrix, re-detecting features\n"
     ]
    },
    {
     "name": "stderr",
     "output_type": "stream",
     "text": [
      "Processing 06home2uni:  25%|██▍       | 7081/28868 [00:46<01:47, 203.55it/s]"
     ]
    },
    {
     "name": "stdout",
     "output_type": "stream",
     "text": [
      "Invalid essential matrix, repeating last trajectory\n",
      "Invalid essential matrix, repeating last trajectory\n",
      "Invalid essential matrix, repeating last trajectory\n",
      "Invalid essential matrix, repeating last trajectory\n",
      "Invalid essential matrix, repeating last trajectory\n",
      "Invalid essential matrix, repeating last trajectory\n",
      "Invalid essential matrix, repeating last trajectory\n",
      "Invalid essential matrix, repeating last trajectory\n",
      "Invalid essential matrix, repeating last trajectory\n",
      "Invalid essential matrix, repeating last trajectory\n",
      "Invalid essential matrix, repeating last trajectory\n",
      "Invalid essential matrix, repeating last trajectory\n",
      "Invalid essential matrix, repeating last trajectory\n",
      "Invalid essential matrix, repeating last trajectory\n",
      "Invalid essential matrix, repeating last trajectory\n",
      "Invalid essential matrix, repeating last trajectory\n",
      "Invalid essential matrix, repeating last trajectory\n",
      "Invalid essential matrix, repeating last trajectory\n",
      "Invalid essential matrix, repeating last trajectory\n",
      "Invalid essential matrix, repeating last trajectory\n",
      "Invalid essential matrix, repeating last trajectory\n",
      "Invalid essential matrix, repeating last trajectory\n",
      "Invalid essential matrix, repeating last trajectory\n",
      "Invalid essential matrix, repeating last trajectory\n",
      "Invalid essential matrix, repeating last trajectory\n",
      "Invalid essential matrix, repeating last trajectory\n",
      "Invalid essential matrix, repeating last trajectory\n",
      "Invalid essential matrix, repeating last trajectory\n",
      "Invalid essential matrix, repeating last trajectory\n",
      "Invalid essential matrix, repeating last trajectory\n",
      "Invalid essential matrix, repeating last trajectory\n",
      "Invalid essential matrix, repeating last trajectory\n",
      "Invalid essential matrix, repeating last trajectory\n",
      "Invalid essential matrix, repeating last trajectory\n",
      "Invalid essential matrix, repeating last trajectory\n",
      "Invalid essential matrix, repeating last trajectory\n",
      "Invalid essential matrix, repeating last trajectory\n",
      "Invalid essential matrix, repeating last trajectory\n",
      "Invalid essential matrix, repeating last trajectory\n",
      "Invalid essential matrix, repeating last trajectory\n",
      "Invalid essential matrix, repeating last trajectory\n",
      "Invalid essential matrix, repeating last trajectory\n",
      "Invalid essential matrix, repeating last trajectory\n",
      "Invalid essential matrix, repeating last trajectory\n",
      "Invalid essential matrix, repeating last trajectory\n",
      "Invalid essential matrix, repeating last trajectory\n"
     ]
    },
    {
     "name": "stderr",
     "output_type": "stream",
     "text": [
      "Processing 06home2uni:  25%|██▍       | 7127/28868 [00:46<01:40, 215.32it/s]"
     ]
    },
    {
     "name": "stdout",
     "output_type": "stream",
     "text": [
      "Invalid essential matrix, repeating last trajectory\n",
      "Invalid essential matrix, repeating last trajectory\n",
      "Invalid essential matrix, repeating last trajectory\n",
      "Invalid essential matrix, repeating last trajectory\n",
      "Invalid essential matrix, repeating last trajectory\n",
      "Invalid essential matrix, repeating last trajectory\n",
      "Invalid essential matrix, repeating last trajectory\n",
      "Invalid essential matrix, repeating last trajectory\n",
      "Invalid essential matrix, repeating last trajectory\n",
      "Invalid essential matrix, repeating last trajectory\n",
      "Invalid essential matrix, repeating last trajectory\n",
      "Invalid essential matrix, repeating last trajectory\n",
      "Invalid essential matrix, repeating last trajectory\n",
      "Invalid essential matrix, repeating last trajectory\n",
      "Invalid essential matrix, repeating last trajectory\n",
      "Invalid essential matrix, repeating last trajectory\n",
      "Invalid essential matrix, repeating last trajectory\n",
      "Invalid essential matrix, repeating last trajectory\n",
      "Invalid essential matrix, repeating last trajectory\n",
      "Invalid essential matrix, repeating last trajectory\n",
      "Invalid essential matrix, repeating last trajectory\n",
      "Invalid essential matrix, repeating last trajectory\n",
      "Invalid essential matrix, repeating last trajectory\n",
      "Invalid essential matrix, repeating last trajectory\n",
      "Invalid essential matrix, repeating last trajectory\n",
      "Invalid essential matrix, repeating last trajectory\n",
      "Invalid essential matrix, repeating last trajectory\n",
      "Invalid essential matrix, repeating last trajectory\n",
      "Invalid essential matrix, repeating last trajectory\n",
      "Invalid essential matrix, repeating last trajectory\n",
      "Invalid essential matrix, repeating last trajectory\n",
      "Invalid essential matrix, repeating last trajectory\n",
      "Invalid essential matrix, repeating last trajectory\n",
      "Invalid essential matrix, repeating last trajectory\n",
      "Invalid essential matrix, repeating last trajectory\n",
      "Invalid essential matrix, repeating last trajectory\n",
      "Invalid essential matrix, repeating last trajectory\n",
      "Invalid essential matrix, repeating last trajectory\n",
      "Invalid essential matrix, repeating last trajectory\n",
      "Invalid essential matrix, repeating last trajectory\n",
      "Invalid essential matrix, repeating last trajectory\n",
      "Invalid essential matrix, repeating last trajectory\n",
      "Invalid essential matrix, repeating last trajectory\n",
      "Invalid essential matrix, repeating last trajectory\n",
      "Invalid essential matrix, repeating last trajectory\n",
      "Invalid essential matrix, repeating last trajectory\n"
     ]
    },
    {
     "name": "stderr",
     "output_type": "stream",
     "text": [
      "Processing 06home2uni:  25%|██▍       | 7176/28868 [00:46<01:34, 228.77it/s]"
     ]
    },
    {
     "name": "stdout",
     "output_type": "stream",
     "text": [
      "Invalid essential matrix, repeating last trajectory\n",
      "Invalid essential matrix, repeating last trajectory\n",
      "Invalid essential matrix, repeating last trajectory\n",
      "Invalid essential matrix, repeating last trajectory\n",
      "Invalid essential matrix, repeating last trajectory\n",
      "Invalid essential matrix, repeating last trajectory\n",
      "Invalid essential matrix, repeating last trajectory\n",
      "Invalid essential matrix, repeating last trajectory\n",
      "Invalid essential matrix, repeating last trajectory\n",
      "Invalid essential matrix, repeating last trajectory\n",
      "Invalid essential matrix, repeating last trajectory\n",
      "Invalid essential matrix, repeating last trajectory\n",
      "Invalid essential matrix, repeating last trajectory\n",
      "Invalid essential matrix, repeating last trajectory\n",
      "Invalid essential matrix, repeating last trajectory\n",
      "Invalid essential matrix, repeating last trajectory\n",
      "Invalid essential matrix, repeating last trajectory\n",
      "Invalid essential matrix, repeating last trajectory\n",
      "Invalid essential matrix, repeating last trajectory\n",
      "Invalid essential matrix, repeating last trajectory\n",
      "Invalid essential matrix, repeating last trajectory\n",
      "Invalid essential matrix, repeating last trajectory\n",
      "Invalid essential matrix, repeating last trajectory\n",
      "Invalid essential matrix, repeating last trajectory\n",
      "Invalid essential matrix, repeating last trajectory\n",
      "Invalid essential matrix, repeating last trajectory\n",
      "Invalid essential matrix, repeating last trajectory\n",
      "Invalid essential matrix, repeating last trajectory\n",
      "Invalid essential matrix, repeating last trajectory\n",
      "Invalid essential matrix, repeating last trajectory\n",
      "Invalid essential matrix, repeating last trajectory\n",
      "Invalid essential matrix, repeating last trajectory\n",
      "Invalid essential matrix, repeating last trajectory\n",
      "Invalid essential matrix, repeating last trajectory\n",
      "Invalid essential matrix, repeating last trajectory\n",
      "Invalid essential matrix, repeating last trajectory\n",
      "Invalid essential matrix, repeating last trajectory\n",
      "Invalid essential matrix, repeating last trajectory\n",
      "Invalid essential matrix, repeating last trajectory\n",
      "Invalid essential matrix, repeating last trajectory\n",
      "Invalid essential matrix, repeating last trajectory\n",
      "Invalid essential matrix, repeating last trajectory\n",
      "Invalid essential matrix, repeating last trajectory\n",
      "Invalid essential matrix, repeating last trajectory\n",
      "Invalid essential matrix, repeating last trajectory\n",
      "Invalid essential matrix, repeating last trajectory\n",
      "Invalid essential matrix, repeating last trajectory\n",
      "Invalid essential matrix, repeating last trajectory\n",
      "Invalid essential matrix, repeating last trajectory\n"
     ]
    },
    {
     "name": "stderr",
     "output_type": "stream",
     "text": [
      "Processing 06home2uni:  25%|██▌       | 7226/28868 [00:46<01:32, 235.24it/s]"
     ]
    },
    {
     "name": "stdout",
     "output_type": "stream",
     "text": [
      "Invalid essential matrix, repeating last trajectory\n",
      "Invalid essential matrix, repeating last trajectory\n",
      "Invalid essential matrix, repeating last trajectory\n",
      "Invalid essential matrix, repeating last trajectory\n",
      "Invalid essential matrix, repeating last trajectory\n",
      "Invalid essential matrix, repeating last trajectory\n",
      "Invalid essential matrix, repeating last trajectory\n",
      "Invalid essential matrix, repeating last trajectory\n",
      "Invalid essential matrix, repeating last trajectory\n",
      "Invalid essential matrix, repeating last trajectory\n",
      "Invalid essential matrix, repeating last trajectory\n",
      "Invalid essential matrix, repeating last trajectory\n",
      "Invalid essential matrix, repeating last trajectory\n",
      "Invalid essential matrix, repeating last trajectory\n",
      "Invalid essential matrix, repeating last trajectory\n",
      "Invalid essential matrix, repeating last trajectory\n",
      "Invalid essential matrix, repeating last trajectory\n",
      "Invalid essential matrix, repeating last trajectory\n",
      "Invalid essential matrix, repeating last trajectory\n",
      "Invalid essential matrix, repeating last trajectory\n",
      "Invalid essential matrix, repeating last trajectory\n",
      "Invalid essential matrix, repeating last trajectory\n",
      "Invalid essential matrix, repeating last trajectory\n",
      "Invalid essential matrix, repeating last trajectory\n",
      "Invalid essential matrix, repeating last trajectory\n",
      "Invalid essential matrix, repeating last trajectory\n",
      "Invalid essential matrix, repeating last trajectory\n",
      "Invalid essential matrix, repeating last trajectory\n",
      "Invalid essential matrix, repeating last trajectory\n",
      "Invalid essential matrix, repeating last trajectory\n",
      "Invalid essential matrix, repeating last trajectory\n",
      "Invalid essential matrix, repeating last trajectory\n",
      "Invalid essential matrix, repeating last trajectory\n",
      "Invalid essential matrix, repeating last trajectory\n",
      "Invalid essential matrix, repeating last trajectory\n",
      "Invalid essential matrix, repeating last trajectory\n",
      "Invalid essential matrix, repeating last trajectory\n",
      "Invalid essential matrix, repeating last trajectory\n",
      "Invalid essential matrix, repeating last trajectory\n",
      "Invalid essential matrix, repeating last trajectory\n",
      "Invalid essential matrix, repeating last trajectory\n",
      "Invalid essential matrix, repeating last trajectory\n",
      "Invalid essential matrix, repeating last trajectory\n",
      "Invalid essential matrix, repeating last trajectory\n",
      "Invalid essential matrix, repeating last trajectory\n",
      "Invalid essential matrix, repeating last trajectory\n",
      "Invalid essential matrix, repeating last trajectory\n"
     ]
    },
    {
     "name": "stderr",
     "output_type": "stream",
     "text": [
      "Processing 06home2uni:  25%|██▌       | 7275/28868 [00:47<01:32, 233.46it/s]"
     ]
    },
    {
     "name": "stdout",
     "output_type": "stream",
     "text": [
      "Invalid essential matrix, repeating last trajectory\n",
      "Invalid essential matrix, repeating last trajectory\n",
      "Invalid essential matrix, repeating last trajectory\n",
      "Invalid essential matrix, repeating last trajectory\n",
      "Invalid essential matrix, repeating last trajectory\n",
      "Invalid essential matrix, repeating last trajectory\n",
      "Invalid essential matrix, repeating last trajectory\n",
      "Invalid essential matrix, repeating last trajectory\n",
      "Invalid essential matrix, repeating last trajectory\n",
      "Invalid essential matrix, repeating last trajectory\n",
      "Invalid essential matrix, repeating last trajectory\n",
      "Invalid essential matrix, repeating last trajectory\n",
      "Invalid essential matrix, repeating last trajectory\n",
      "Invalid essential matrix, repeating last trajectory\n",
      "Invalid essential matrix, repeating last trajectory\n",
      "Invalid essential matrix, repeating last trajectory\n",
      "Invalid essential matrix, repeating last trajectory\n",
      "Invalid essential matrix, repeating last trajectory\n",
      "Invalid essential matrix, repeating last trajectory\n",
      "Invalid essential matrix, repeating last trajectory\n",
      "Invalid essential matrix, repeating last trajectory\n",
      "Invalid essential matrix, repeating last trajectory\n",
      "Invalid essential matrix, repeating last trajectory\n",
      "Invalid essential matrix, repeating last trajectory\n",
      "Invalid essential matrix, repeating last trajectory\n",
      "Invalid essential matrix, repeating last trajectory\n",
      "Invalid essential matrix, repeating last trajectory\n",
      "Invalid essential matrix, repeating last trajectory\n",
      "Invalid essential matrix, repeating last trajectory\n",
      "Invalid essential matrix, repeating last trajectory\n",
      "Invalid essential matrix, repeating last trajectory\n",
      "Invalid essential matrix, repeating last trajectory\n",
      "Invalid essential matrix, repeating last trajectory\n",
      "Invalid essential matrix, repeating last trajectory\n",
      "Invalid essential matrix, repeating last trajectory\n",
      "Invalid essential matrix, repeating last trajectory\n",
      "Invalid essential matrix, repeating last trajectory\n",
      "Invalid essential matrix, repeating last trajectory\n",
      "Invalid essential matrix, repeating last trajectory\n",
      "Invalid essential matrix, repeating last trajectory\n",
      "Invalid essential matrix, repeating last trajectory\n",
      "Invalid essential matrix, repeating last trajectory\n",
      "Invalid essential matrix, repeating last trajectory\n",
      "Invalid essential matrix, repeating last trajectory\n",
      "Invalid essential matrix, repeating last trajectory\n",
      "Invalid essential matrix, repeating last trajectory\n",
      "Invalid essential matrix, repeating last trajectory\n",
      "Invalid essential matrix, repeating last trajectory\n"
     ]
    },
    {
     "name": "stderr",
     "output_type": "stream",
     "text": [
      "Processing 06home2uni:  25%|██▌       | 7323/28868 [00:47<01:32, 232.28it/s]"
     ]
    },
    {
     "name": "stdout",
     "output_type": "stream",
     "text": [
      "Invalid essential matrix, repeating last trajectory\n",
      "Invalid essential matrix, repeating last trajectory\n",
      "Invalid essential matrix, repeating last trajectory\n",
      "Invalid essential matrix, repeating last trajectory\n",
      "Invalid essential matrix, repeating last trajectory\n",
      "Invalid essential matrix, repeating last trajectory\n",
      "Invalid essential matrix, repeating last trajectory\n",
      "Invalid essential matrix, repeating last trajectory\n",
      "Invalid essential matrix, repeating last trajectory\n",
      "Invalid essential matrix, repeating last trajectory\n",
      "Invalid essential matrix, repeating last trajectory\n",
      "Invalid essential matrix, repeating last trajectory\n",
      "Invalid essential matrix, repeating last trajectory\n",
      "Invalid essential matrix, repeating last trajectory\n",
      "Invalid essential matrix, repeating last trajectory\n",
      "Invalid essential matrix, repeating last trajectory\n",
      "Invalid essential matrix, repeating last trajectory\n",
      "Invalid essential matrix, repeating last trajectory\n",
      "Invalid essential matrix, repeating last trajectory\n",
      "Invalid essential matrix, repeating last trajectory\n",
      "Invalid essential matrix, repeating last trajectory\n",
      "Invalid essential matrix, repeating last trajectory\n",
      "Invalid essential matrix, repeating last trajectory\n",
      "Invalid essential matrix, repeating last trajectory\n",
      "Invalid essential matrix, repeating last trajectory\n",
      "Invalid essential matrix, repeating last trajectory\n",
      "Invalid essential matrix, repeating last trajectory\n",
      "Invalid essential matrix, repeating last trajectory\n",
      "Invalid essential matrix, repeating last trajectory\n",
      "Invalid essential matrix, repeating last trajectory\n",
      "Invalid essential matrix, repeating last trajectory\n",
      "Invalid essential matrix, repeating last trajectory\n",
      "Invalid essential matrix, repeating last trajectory\n",
      "Invalid essential matrix, repeating last trajectory\n",
      "Invalid essential matrix, repeating last trajectory\n",
      "Invalid essential matrix, repeating last trajectory\n",
      "Invalid essential matrix, repeating last trajectory\n",
      "Invalid essential matrix, repeating last trajectory\n",
      "Invalid essential matrix, repeating last trajectory\n",
      "Invalid essential matrix, repeating last trajectory\n",
      "Invalid essential matrix, repeating last trajectory\n",
      "Invalid essential matrix, repeating last trajectory\n",
      "Invalid essential matrix, repeating last trajectory\n",
      "Invalid essential matrix, repeating last trajectory\n",
      "Invalid essential matrix, repeating last trajectory\n",
      "Invalid essential matrix, repeating last trajectory\n",
      "Invalid essential matrix, repeating last trajectory\n"
     ]
    },
    {
     "name": "stderr",
     "output_type": "stream",
     "text": [
      "Processing 06home2uni:  25%|██▌       | 7347/28868 [00:47<01:39, 216.00it/s]"
     ]
    },
    {
     "name": "stdout",
     "output_type": "stream",
     "text": [
      "Invalid essential matrix, repeating last trajectory\n",
      "Invalid essential matrix, repeating last trajectory\n",
      "Invalid essential matrix, repeating last trajectory\n",
      "Invalid essential matrix, repeating last trajectory\n",
      "Invalid essential matrix, repeating last trajectory\n",
      "Invalid essential matrix, repeating last trajectory\n",
      "Invalid essential matrix, repeating last trajectory\n",
      "Invalid essential matrix, repeating last trajectory\n",
      "Invalid essential matrix, repeating last trajectory\n",
      "Invalid essential matrix, repeating last trajectory\n",
      "Invalid essential matrix, repeating last trajectory\n",
      "Invalid essential matrix, repeating last trajectory\n",
      "Invalid essential matrix, repeating last trajectory\n",
      "Invalid essential matrix, repeating last trajectory\n",
      "Invalid essential matrix, repeating last trajectory\n",
      "Invalid essential matrix, repeating last trajectory\n",
      "Invalid essential matrix, repeating last trajectory\n",
      "Invalid essential matrix, repeating last trajectory\n",
      "Invalid essential matrix, repeating last trajectory\n",
      "Invalid essential matrix, repeating last trajectory\n",
      "Invalid essential matrix, repeating last trajectory\n",
      "Invalid essential matrix, repeating last trajectory\n",
      "Invalid essential matrix, repeating last trajectory\n",
      "Invalid essential matrix, repeating last trajectory\n",
      "Invalid essential matrix, repeating last trajectory\n",
      "Invalid essential matrix, repeating last trajectory\n",
      "Invalid essential matrix, repeating last trajectory\n",
      "Invalid essential matrix, repeating last trajectory\n",
      "Invalid essential matrix, repeating last trajectory\n",
      "Invalid essential matrix, repeating last trajectory\n",
      "Invalid essential matrix, repeating last trajectory\n",
      "Invalid essential matrix, repeating last trajectory\n",
      "Invalid essential matrix, repeating last trajectory\n",
      "Invalid essential matrix, repeating last trajectory\n",
      "Invalid essential matrix, repeating last trajectory\n",
      "Invalid essential matrix, repeating last trajectory\n",
      "Invalid essential matrix, repeating last trajectory\n",
      "Invalid essential matrix, repeating last trajectory\n",
      "Invalid essential matrix, repeating last trajectory\n",
      "Invalid essential matrix, repeating last trajectory\n"
     ]
    },
    {
     "name": "stderr",
     "output_type": "stream",
     "text": [
      "Processing 06home2uni:  26%|██▌       | 7369/28868 [00:47<01:40, 214.03it/s]"
     ]
    },
    {
     "name": "stdout",
     "output_type": "stream",
     "text": [
      "Invalid essential matrix, repeating last trajectory\n",
      "Invalid essential matrix, repeating last trajectory\n",
      "Invalid essential matrix, repeating last trajectory\n",
      "Not enough points to compute the essential matrix, re-detecting features\n"
     ]
    },
    {
     "name": "stderr",
     "output_type": "stream",
     "text": [
      "Processing 06home2uni:  27%|██▋       | 7773/28868 [00:50<01:41, 207.63it/s]"
     ]
    },
    {
     "name": "stdout",
     "output_type": "stream",
     "text": [
      "Invalid essential matrix, repeating last trajectory\n",
      "Invalid essential matrix, repeating last trajectory\n",
      "Not enough points to compute the essential matrix, re-detecting features\n"
     ]
    },
    {
     "name": "stderr",
     "output_type": "stream",
     "text": [
      "Processing 06home2uni:  27%|██▋       | 7867/28868 [00:51<03:40, 95.29it/s] "
     ]
    },
    {
     "name": "stdout",
     "output_type": "stream",
     "text": [
      "Invalid essential matrix, repeating last trajectory\n",
      "Not enough points to compute the essential matrix, re-detecting features\n"
     ]
    },
    {
     "name": "stderr",
     "output_type": "stream",
     "text": [
      "Processing 06home2uni:  30%|██▉       | 8588/28868 [00:55<01:39, 202.83it/s]"
     ]
    },
    {
     "name": "stdout",
     "output_type": "stream",
     "text": [
      "Invalid essential matrix, repeating last trajectory\n",
      "Invalid essential matrix, repeating last trajectory\n",
      "Invalid essential matrix, repeating last trajectory\n",
      "Invalid essential matrix, repeating last trajectory\n",
      "Not enough points to compute the essential matrix, re-detecting features\n"
     ]
    },
    {
     "name": "stderr",
     "output_type": "stream",
     "text": [
      "Processing 06home2uni:  32%|███▏      | 9263/28868 [00:59<01:43, 190.29it/s]"
     ]
    },
    {
     "name": "stdout",
     "output_type": "stream",
     "text": [
      "Not enough points to compute the essential matrix, re-detecting features\n"
     ]
    },
    {
     "name": "stderr",
     "output_type": "stream",
     "text": [
      "Processing 06home2uni:  33%|███▎      | 9611/28868 [01:02<01:41, 189.38it/s]"
     ]
    },
    {
     "name": "stdout",
     "output_type": "stream",
     "text": [
      "Invalid essential matrix, repeating last trajectory\n",
      "Invalid essential matrix, repeating last trajectory\n",
      "Invalid essential matrix, repeating last trajectory\n",
      "Invalid essential matrix, repeating last trajectory\n",
      "Invalid essential matrix, repeating last trajectory\n",
      "Invalid essential matrix, repeating last trajectory\n",
      "Invalid essential matrix, repeating last trajectory\n",
      "Invalid essential matrix, repeating last trajectory\n",
      "Invalid essential matrix, repeating last trajectory\n",
      "Invalid essential matrix, repeating last trajectory\n",
      "Invalid essential matrix, repeating last trajectory\n",
      "Invalid essential matrix, repeating last trajectory\n",
      "Invalid essential matrix, repeating last trajectory\n",
      "Invalid essential matrix, repeating last trajectory\n",
      "Invalid essential matrix, repeating last trajectory\n",
      "Invalid essential matrix, repeating last trajectory\n",
      "Invalid essential matrix, repeating last trajectory\n",
      "Invalid essential matrix, repeating last trajectory\n",
      "Invalid essential matrix, repeating last trajectory\n",
      "Invalid essential matrix, repeating last trajectory\n",
      "Invalid essential matrix, repeating last trajectory\n",
      "Invalid essential matrix, repeating last trajectory\n",
      "Invalid essential matrix, repeating last trajectory\n",
      "Not enough points to compute the essential matrix, re-detecting features\n"
     ]
    },
    {
     "name": "stderr",
     "output_type": "stream",
     "text": [
      "Processing 06home2uni:  35%|███▍      | 9997/28868 [01:04<01:32, 203.79it/s]"
     ]
    },
    {
     "name": "stdout",
     "output_type": "stream",
     "text": [
      "Invalid essential matrix, repeating last trajectory\n",
      "Invalid essential matrix, repeating last trajectory\n",
      "Invalid essential matrix, repeating last trajectory\n",
      "Invalid essential matrix, repeating last trajectory\n",
      "Invalid essential matrix, repeating last trajectory\n",
      "Invalid essential matrix, repeating last trajectory\n",
      "Invalid essential matrix, repeating last trajectory\n",
      "Invalid essential matrix, repeating last trajectory\n",
      "Invalid essential matrix, repeating last trajectory\n",
      "Invalid essential matrix, repeating last trajectory\n",
      "Invalid essential matrix, repeating last trajectory\n",
      "Invalid essential matrix, repeating last trajectory\n",
      "Invalid essential matrix, repeating last trajectory\n",
      "Invalid essential matrix, repeating last trajectory\n",
      "Invalid essential matrix, repeating last trajectory\n",
      "Invalid essential matrix, repeating last trajectory\n",
      "Invalid essential matrix, repeating last trajectory\n",
      "Not enough points to compute the essential matrix, re-detecting features\n"
     ]
    },
    {
     "name": "stderr",
     "output_type": "stream",
     "text": [
      "Processing 06home2uni:  36%|███▌      | 10308/28868 [01:07<01:54, 161.48it/s]"
     ]
    },
    {
     "name": "stdout",
     "output_type": "stream",
     "text": [
      "Invalid essential matrix, repeating last trajectory\n",
      "Invalid essential matrix, repeating last trajectory\n",
      "Not enough points to compute the essential matrix, re-detecting features\n"
     ]
    },
    {
     "name": "stderr",
     "output_type": "stream",
     "text": [
      "Processing 06home2uni:  36%|███▋      | 10509/28868 [01:09<02:52, 106.20it/s]"
     ]
    },
    {
     "name": "stdout",
     "output_type": "stream",
     "text": [
      "Invalid essential matrix, repeating last trajectory\n",
      "Invalid essential matrix, repeating last trajectory\n",
      "Not enough points to compute the essential matrix, re-detecting features\n"
     ]
    },
    {
     "name": "stderr",
     "output_type": "stream",
     "text": [
      "Processing 06home2uni:  37%|███▋      | 10775/28868 [01:11<01:34, 191.60it/s]"
     ]
    },
    {
     "name": "stdout",
     "output_type": "stream",
     "text": [
      "Invalid essential matrix, repeating last trajectory\n",
      "Invalid essential matrix, repeating last trajectory\n",
      "Invalid essential matrix, repeating last trajectory\n",
      "Invalid essential matrix, repeating last trajectory\n",
      "Invalid essential matrix, repeating last trajectory\n",
      "Invalid essential matrix, repeating last trajectory\n",
      "Invalid essential matrix, repeating last trajectory\n",
      "Invalid essential matrix, repeating last trajectory\n",
      "Invalid essential matrix, repeating last trajectory\n",
      "Invalid essential matrix, repeating last trajectory\n",
      "Invalid essential matrix, repeating last trajectory\n",
      "Invalid essential matrix, repeating last trajectory\n",
      "Invalid essential matrix, repeating last trajectory\n",
      "Invalid essential matrix, repeating last trajectory\n",
      "Invalid essential matrix, repeating last trajectory\n",
      "Invalid essential matrix, repeating last trajectory\n",
      "Invalid essential matrix, repeating last trajectory\n",
      "Invalid essential matrix, repeating last trajectory\n",
      "Invalid essential matrix, repeating last trajectory\n",
      "Invalid essential matrix, repeating last trajectory\n",
      "Invalid essential matrix, repeating last trajectory\n",
      "Invalid essential matrix, repeating last trajectory\n",
      "Invalid essential matrix, repeating last trajectory\n",
      "Invalid essential matrix, repeating last trajectory\n",
      "Invalid essential matrix, repeating last trajectory\n",
      "Invalid essential matrix, repeating last trajectory\n",
      "Invalid essential matrix, repeating last trajectory\n",
      "Invalid essential matrix, repeating last trajectory\n",
      "Invalid essential matrix, repeating last trajectory\n",
      "Invalid essential matrix, repeating last trajectory\n",
      "Invalid essential matrix, repeating last trajectory\n",
      "Invalid essential matrix, repeating last trajectory\n",
      "Invalid essential matrix, repeating last trajectory\n",
      "Invalid essential matrix, repeating last trajectory\n",
      "Invalid essential matrix, repeating last trajectory\n",
      "Invalid essential matrix, repeating last trajectory\n",
      "Invalid essential matrix, repeating last trajectory\n",
      "Invalid essential matrix, repeating last trajectory\n",
      "Invalid essential matrix, repeating last trajectory\n",
      "Not enough points to compute the essential matrix, re-detecting features\n"
     ]
    },
    {
     "name": "stderr",
     "output_type": "stream",
     "text": [
      "Processing 06home2uni:  39%|███▉      | 11282/28868 [01:14<01:31, 191.98it/s]"
     ]
    },
    {
     "name": "stdout",
     "output_type": "stream",
     "text": [
      "Invalid essential matrix, repeating last trajectory\n",
      "Invalid essential matrix, repeating last trajectory\n",
      "Invalid essential matrix, repeating last trajectory\n",
      "Invalid essential matrix, repeating last trajectory\n",
      "Invalid essential matrix, repeating last trajectory\n",
      "Invalid essential matrix, repeating last trajectory\n",
      "Invalid essential matrix, repeating last trajectory\n",
      "Invalid essential matrix, repeating last trajectory\n",
      "Invalid essential matrix, repeating last trajectory\n",
      "Invalid essential matrix, repeating last trajectory\n",
      "Invalid essential matrix, repeating last trajectory\n",
      "Invalid essential matrix, repeating last trajectory\n",
      "Invalid essential matrix, repeating last trajectory\n",
      "Invalid essential matrix, repeating last trajectory\n",
      "Invalid essential matrix, repeating last trajectory\n",
      "Invalid essential matrix, repeating last trajectory\n",
      "Invalid essential matrix, repeating last trajectory\n",
      "Invalid essential matrix, repeating last trajectory\n",
      "Invalid essential matrix, repeating last trajectory\n",
      "Invalid essential matrix, repeating last trajectory\n",
      "Invalid essential matrix, repeating last trajectory\n",
      "Invalid essential matrix, repeating last trajectory\n",
      "Invalid essential matrix, repeating last trajectory\n",
      "Invalid essential matrix, repeating last trajectory\n",
      "Invalid essential matrix, repeating last trajectory\n",
      "Invalid essential matrix, repeating last trajectory\n",
      "Invalid essential matrix, repeating last trajectory\n",
      "Invalid essential matrix, repeating last trajectory\n",
      "Invalid essential matrix, repeating last trajectory\n",
      "Invalid essential matrix, repeating last trajectory\n",
      "Invalid essential matrix, repeating last trajectory\n",
      "Invalid essential matrix, repeating last trajectory\n",
      "Invalid essential matrix, repeating last trajectory\n",
      "Invalid essential matrix, repeating last trajectory\n",
      "Invalid essential matrix, repeating last trajectory\n",
      "Invalid essential matrix, repeating last trajectory\n",
      "Invalid essential matrix, repeating last trajectory\n",
      "Invalid essential matrix, repeating last trajectory\n",
      "Invalid essential matrix, repeating last trajectory\n",
      "Invalid essential matrix, repeating last trajectory\n",
      "Invalid essential matrix, repeating last trajectory\n",
      "Invalid essential matrix, repeating last trajectory\n",
      "Invalid essential matrix, repeating last trajectory\n",
      "Invalid essential matrix, repeating last trajectory\n",
      "Invalid essential matrix, repeating last trajectory\n"
     ]
    },
    {
     "name": "stderr",
     "output_type": "stream",
     "text": [
      "Processing 06home2uni:  39%|███▉      | 11326/28868 [01:14<01:28, 198.27it/s]"
     ]
    },
    {
     "name": "stdout",
     "output_type": "stream",
     "text": [
      "Invalid essential matrix, repeating last trajectory\n",
      "Invalid essential matrix, repeating last trajectory\n",
      "Invalid essential matrix, repeating last trajectory\n",
      "Invalid essential matrix, repeating last trajectory\n",
      "Invalid essential matrix, repeating last trajectory\n",
      "Invalid essential matrix, repeating last trajectory\n",
      "Invalid essential matrix, repeating last trajectory\n",
      "Invalid essential matrix, repeating last trajectory\n",
      "Invalid essential matrix, repeating last trajectory\n",
      "Invalid essential matrix, repeating last trajectory\n",
      "Invalid essential matrix, repeating last trajectory\n",
      "Invalid essential matrix, repeating last trajectory\n",
      "Invalid essential matrix, repeating last trajectory\n",
      "Invalid essential matrix, repeating last trajectory\n",
      "Invalid essential matrix, repeating last trajectory\n",
      "Invalid essential matrix, repeating last trajectory\n",
      "Invalid essential matrix, repeating last trajectory\n",
      "Invalid essential matrix, repeating last trajectory\n",
      "Invalid essential matrix, repeating last trajectory\n",
      "Invalid essential matrix, repeating last trajectory\n",
      "Invalid essential matrix, repeating last trajectory\n",
      "Invalid essential matrix, repeating last trajectory\n",
      "Invalid essential matrix, repeating last trajectory\n",
      "Invalid essential matrix, repeating last trajectory\n",
      "Invalid essential matrix, repeating last trajectory\n",
      "Invalid essential matrix, repeating last trajectory\n",
      "Invalid essential matrix, repeating last trajectory\n",
      "Invalid essential matrix, repeating last trajectory\n",
      "Invalid essential matrix, repeating last trajectory\n",
      "Invalid essential matrix, repeating last trajectory\n",
      "Invalid essential matrix, repeating last trajectory\n",
      "Invalid essential matrix, repeating last trajectory\n",
      "Invalid essential matrix, repeating last trajectory\n",
      "Invalid essential matrix, repeating last trajectory\n",
      "Invalid essential matrix, repeating last trajectory\n",
      "Invalid essential matrix, repeating last trajectory\n",
      "Invalid essential matrix, repeating last trajectory\n",
      "Invalid essential matrix, repeating last trajectory\n",
      "Invalid essential matrix, repeating last trajectory\n",
      "Invalid essential matrix, repeating last trajectory\n",
      "Invalid essential matrix, repeating last trajectory\n",
      "Invalid essential matrix, repeating last trajectory\n"
     ]
    },
    {
     "name": "stderr",
     "output_type": "stream",
     "text": [
      "Processing 06home2uni:  39%|███▉      | 11349/28868 [01:15<01:24, 206.55it/s]"
     ]
    },
    {
     "name": "stdout",
     "output_type": "stream",
     "text": [
      "Invalid essential matrix, repeating last trajectory\n",
      "Invalid essential matrix, repeating last trajectory\n",
      "Invalid essential matrix, repeating last trajectory\n",
      "Invalid essential matrix, repeating last trajectory\n",
      "Invalid essential matrix, repeating last trajectory\n",
      "Invalid essential matrix, repeating last trajectory\n",
      "Invalid essential matrix, repeating last trajectory\n",
      "Invalid essential matrix, repeating last trajectory\n",
      "Invalid essential matrix, repeating last trajectory\n",
      "Not enough points to compute the essential matrix, re-detecting features\n"
     ]
    },
    {
     "name": "stderr",
     "output_type": "stream",
     "text": [
      "Processing 06home2uni:  40%|████      | 11655/28868 [01:17<01:40, 171.28it/s]"
     ]
    },
    {
     "name": "stdout",
     "output_type": "stream",
     "text": [
      "Invalid essential matrix, repeating last trajectory\n",
      "Invalid essential matrix, repeating last trajectory\n",
      "Invalid essential matrix, repeating last trajectory\n",
      "Not enough points to compute the essential matrix, re-detecting features\n"
     ]
    },
    {
     "name": "stderr",
     "output_type": "stream",
     "text": [
      "Processing 06home2uni:  42%|████▏     | 12056/28868 [01:19<01:21, 206.41it/s]"
     ]
    },
    {
     "name": "stdout",
     "output_type": "stream",
     "text": [
      "Invalid essential matrix, repeating last trajectory\n",
      "Invalid essential matrix, repeating last trajectory\n",
      "Invalid essential matrix, repeating last trajectory\n",
      "Not enough points to compute the essential matrix, re-detecting features\n"
     ]
    },
    {
     "name": "stderr",
     "output_type": "stream",
     "text": [
      "Processing 06home2uni:  43%|████▎     | 12526/28868 [01:22<01:19, 205.96it/s]"
     ]
    },
    {
     "name": "stdout",
     "output_type": "stream",
     "text": [
      "Invalid essential matrix, repeating last trajectory\n",
      "Invalid essential matrix, repeating last trajectory\n",
      "Invalid essential matrix, repeating last trajectory\n",
      "Invalid essential matrix, repeating last trajectory\n",
      "Invalid essential matrix, repeating last trajectory\n",
      "Not enough points to compute the essential matrix, re-detecting features\n"
     ]
    },
    {
     "name": "stderr",
     "output_type": "stream",
     "text": [
      "Processing 06home2uni:  45%|████▌     | 13043/28868 [01:26<01:10, 223.46it/s]"
     ]
    },
    {
     "name": "stdout",
     "output_type": "stream",
     "text": [
      "Invalid essential matrix, repeating last trajectory\n",
      "Invalid essential matrix, repeating last trajectory\n",
      "Invalid essential matrix, repeating last trajectory\n",
      "Invalid essential matrix, repeating last trajectory\n",
      "Invalid essential matrix, repeating last trajectory\n",
      "Invalid essential matrix, repeating last trajectory\n",
      "Invalid essential matrix, repeating last trajectory\n",
      "Invalid essential matrix, repeating last trajectory\n",
      "Invalid essential matrix, repeating last trajectory\n",
      "Invalid essential matrix, repeating last trajectory\n",
      "Invalid essential matrix, repeating last trajectory\n",
      "Invalid essential matrix, repeating last trajectory\n",
      "Invalid essential matrix, repeating last trajectory\n",
      "Invalid essential matrix, repeating last trajectory\n",
      "Invalid essential matrix, repeating last trajectory\n",
      "Invalid essential matrix, repeating last trajectory\n",
      "Invalid essential matrix, repeating last trajectory\n",
      "Invalid essential matrix, repeating last trajectory\n",
      "Invalid essential matrix, repeating last trajectory\n",
      "Invalid essential matrix, repeating last trajectory\n",
      "Invalid essential matrix, repeating last trajectory\n",
      "Invalid essential matrix, repeating last trajectory\n",
      "Invalid essential matrix, repeating last trajectory\n",
      "Invalid essential matrix, repeating last trajectory\n",
      "Invalid essential matrix, repeating last trajectory\n",
      "Invalid essential matrix, repeating last trajectory\n",
      "Invalid essential matrix, repeating last trajectory\n",
      "Invalid essential matrix, repeating last trajectory\n",
      "Invalid essential matrix, repeating last trajectory\n",
      "Invalid essential matrix, repeating last trajectory\n",
      "Invalid essential matrix, repeating last trajectory\n",
      "Invalid essential matrix, repeating last trajectory\n",
      "Not enough points to compute the essential matrix, re-detecting features\n"
     ]
    },
    {
     "name": "stderr",
     "output_type": "stream",
     "text": [
      "Processing 06home2uni:  47%|████▋     | 13643/28868 [01:29<01:13, 207.51it/s]"
     ]
    },
    {
     "name": "stdout",
     "output_type": "stream",
     "text": [
      "Invalid essential matrix, repeating last trajectory\n",
      "Invalid essential matrix, repeating last trajectory\n",
      "Invalid essential matrix, repeating last trajectory\n",
      "Invalid essential matrix, repeating last trajectory\n",
      "Invalid essential matrix, repeating last trajectory\n",
      "Invalid essential matrix, repeating last trajectory\n",
      "Invalid essential matrix, repeating last trajectory\n",
      "Invalid essential matrix, repeating last trajectory\n",
      "Invalid essential matrix, repeating last trajectory\n",
      "Invalid essential matrix, repeating last trajectory\n",
      "Invalid essential matrix, repeating last trajectory\n",
      "Invalid essential matrix, repeating last trajectory\n",
      "Invalid essential matrix, repeating last trajectory\n",
      "Invalid essential matrix, repeating last trajectory\n",
      "Invalid essential matrix, repeating last trajectory\n",
      "Invalid essential matrix, repeating last trajectory\n",
      "Invalid essential matrix, repeating last trajectory\n",
      "Invalid essential matrix, repeating last trajectory\n",
      "Invalid essential matrix, repeating last trajectory\n",
      "Invalid essential matrix, repeating last trajectory\n",
      "Invalid essential matrix, repeating last trajectory\n",
      "Invalid essential matrix, repeating last trajectory\n",
      "Invalid essential matrix, repeating last trajectory\n",
      "Invalid essential matrix, repeating last trajectory\n",
      "Invalid essential matrix, repeating last trajectory\n",
      "Invalid essential matrix, repeating last trajectory\n",
      "Invalid essential matrix, repeating last trajectory\n",
      "Invalid essential matrix, repeating last trajectory\n",
      "Invalid essential matrix, repeating last trajectory\n",
      "Invalid essential matrix, repeating last trajectory\n",
      "Invalid essential matrix, repeating last trajectory\n",
      "Invalid essential matrix, repeating last trajectory\n",
      "Invalid essential matrix, repeating last trajectory\n",
      "Invalid essential matrix, repeating last trajectory\n",
      "Invalid essential matrix, repeating last trajectory\n",
      "Invalid essential matrix, repeating last trajectory\n",
      "Not enough points to compute the essential matrix, re-detecting features\n"
     ]
    },
    {
     "name": "stderr",
     "output_type": "stream",
     "text": [
      "Processing 06home2uni:  49%|████▉     | 14186/28868 [01:33<01:23, 176.12it/s]"
     ]
    },
    {
     "name": "stdout",
     "output_type": "stream",
     "text": [
      "Invalid essential matrix, repeating last trajectory\n",
      "Invalid essential matrix, repeating last trajectory\n",
      "Invalid essential matrix, repeating last trajectory\n",
      "Invalid essential matrix, repeating last trajectory\n",
      "Invalid essential matrix, repeating last trajectory\n",
      "Invalid essential matrix, repeating last trajectory\n",
      "Invalid essential matrix, repeating last trajectory\n",
      "Invalid essential matrix, repeating last trajectory\n",
      "Invalid essential matrix, repeating last trajectory\n",
      "Invalid essential matrix, repeating last trajectory\n",
      "Invalid essential matrix, repeating last trajectory\n",
      "Invalid essential matrix, repeating last trajectory\n",
      "Invalid essential matrix, repeating last trajectory\n",
      "Invalid essential matrix, repeating last trajectory\n",
      "Invalid essential matrix, repeating last trajectory\n",
      "Invalid essential matrix, repeating last trajectory\n",
      "Invalid essential matrix, repeating last trajectory\n",
      "Invalid essential matrix, repeating last trajectory\n",
      "Invalid essential matrix, repeating last trajectory\n",
      "Invalid essential matrix, repeating last trajectory\n",
      "Invalid essential matrix, repeating last trajectory\n",
      "Not enough points to compute the essential matrix, re-detecting features\n"
     ]
    },
    {
     "name": "stderr",
     "output_type": "stream",
     "text": [
      "Processing 06home2uni:  50%|█████     | 14541/28868 [01:35<01:12, 196.38it/s]"
     ]
    },
    {
     "name": "stdout",
     "output_type": "stream",
     "text": [
      "Invalid essential matrix, repeating last trajectory\n",
      "Invalid essential matrix, repeating last trajectory\n",
      "Invalid essential matrix, repeating last trajectory\n",
      "Invalid essential matrix, repeating last trajectory\n",
      "Invalid essential matrix, repeating last trajectory\n",
      "Not enough points to compute the essential matrix, re-detecting features\n"
     ]
    },
    {
     "name": "stderr",
     "output_type": "stream",
     "text": [
      "Processing 06home2uni:  52%|█████▏    | 14917/28868 [01:38<01:13, 190.35it/s]"
     ]
    },
    {
     "name": "stdout",
     "output_type": "stream",
     "text": [
      "Invalid essential matrix, repeating last trajectory\n",
      "Invalid essential matrix, repeating last trajectory\n",
      "Invalid essential matrix, repeating last trajectory\n",
      "Invalid essential matrix, repeating last trajectory\n",
      "Invalid essential matrix, repeating last trajectory\n",
      "Invalid essential matrix, repeating last trajectory\n",
      "Invalid essential matrix, repeating last trajectory\n",
      "Invalid essential matrix, repeating last trajectory\n",
      "Invalid essential matrix, repeating last trajectory\n",
      "Invalid essential matrix, repeating last trajectory\n",
      "Invalid essential matrix, repeating last trajectory\n",
      "Invalid essential matrix, repeating last trajectory\n",
      "Not enough points to compute the essential matrix, re-detecting features\n"
     ]
    },
    {
     "name": "stderr",
     "output_type": "stream",
     "text": [
      "Processing 06home2uni:  54%|█████▎    | 15466/28868 [01:41<01:05, 203.80it/s]"
     ]
    },
    {
     "name": "stdout",
     "output_type": "stream",
     "text": [
      "Invalid essential matrix, repeating last trajectory\n",
      "Invalid essential matrix, repeating last trajectory\n",
      "Invalid essential matrix, repeating last trajectory\n",
      "Invalid essential matrix, repeating last trajectory\n",
      "Invalid essential matrix, repeating last trajectory\n",
      "Invalid essential matrix, repeating last trajectory\n",
      "Invalid essential matrix, repeating last trajectory\n",
      "Invalid essential matrix, repeating last trajectory\n",
      "Invalid essential matrix, repeating last trajectory\n",
      "Invalid essential matrix, repeating last trajectory\n",
      "Invalid essential matrix, repeating last trajectory\n",
      "Invalid essential matrix, repeating last trajectory\n",
      "Invalid essential matrix, repeating last trajectory\n",
      "Invalid essential matrix, repeating last trajectory\n",
      "Invalid essential matrix, repeating last trajectory\n",
      "Invalid essential matrix, repeating last trajectory\n",
      "Invalid essential matrix, repeating last trajectory\n",
      "Invalid essential matrix, repeating last trajectory\n",
      "Invalid essential matrix, repeating last trajectory\n",
      "Invalid essential matrix, repeating last trajectory\n",
      "Invalid essential matrix, repeating last trajectory\n",
      "Not enough points to compute the essential matrix, re-detecting features\n"
     ]
    },
    {
     "name": "stderr",
     "output_type": "stream",
     "text": [
      "Processing 06home2uni:  55%|█████▌    | 15932/28868 [01:44<01:06, 194.94it/s]"
     ]
    },
    {
     "name": "stdout",
     "output_type": "stream",
     "text": [
      "Invalid essential matrix, repeating last trajectory\n",
      "Invalid essential matrix, repeating last trajectory\n",
      "Invalid essential matrix, repeating last trajectory\n",
      "Invalid essential matrix, repeating last trajectory\n",
      "Invalid essential matrix, repeating last trajectory\n",
      "Invalid essential matrix, repeating last trajectory\n",
      "Invalid essential matrix, repeating last trajectory\n",
      "Invalid essential matrix, repeating last trajectory\n",
      "Invalid essential matrix, repeating last trajectory\n",
      "Invalid essential matrix, repeating last trajectory\n",
      "Invalid essential matrix, repeating last trajectory\n",
      "Invalid essential matrix, repeating last trajectory\n",
      "Invalid essential matrix, repeating last trajectory\n",
      "Invalid essential matrix, repeating last trajectory\n",
      "Invalid essential matrix, repeating last trajectory\n",
      "Invalid essential matrix, repeating last trajectory\n",
      "Invalid essential matrix, repeating last trajectory\n",
      "Invalid essential matrix, repeating last trajectory\n",
      "Invalid essential matrix, repeating last trajectory\n",
      "Invalid essential matrix, repeating last trajectory\n",
      "Invalid essential matrix, repeating last trajectory\n",
      "Invalid essential matrix, repeating last trajectory\n",
      "Invalid essential matrix, repeating last trajectory\n",
      "Invalid essential matrix, repeating last trajectory\n",
      "Invalid essential matrix, repeating last trajectory\n",
      "Invalid essential matrix, repeating last trajectory\n",
      "Invalid essential matrix, repeating last trajectory\n",
      "Invalid essential matrix, repeating last trajectory\n",
      "Invalid essential matrix, repeating last trajectory\n",
      "Invalid essential matrix, repeating last trajectory\n",
      "Invalid essential matrix, repeating last trajectory\n",
      "Invalid essential matrix, repeating last trajectory\n",
      "Invalid essential matrix, repeating last trajectory\n",
      "Invalid essential matrix, repeating last trajectory\n",
      "Not enough points to compute the essential matrix, re-detecting features\n"
     ]
    },
    {
     "name": "stderr",
     "output_type": "stream",
     "text": [
      "Processing 06home2uni:  57%|█████▋    | 16354/28868 [01:47<01:01, 204.03it/s]"
     ]
    },
    {
     "name": "stdout",
     "output_type": "stream",
     "text": [
      "Invalid essential matrix, repeating last trajectory\n",
      "Invalid essential matrix, repeating last trajectory\n",
      "Not enough points to compute the essential matrix, re-detecting features\n"
     ]
    },
    {
     "name": "stderr",
     "output_type": "stream",
     "text": [
      "Processing 06home2uni:  57%|█████▋    | 16598/28868 [01:49<01:10, 174.02it/s]"
     ]
    },
    {
     "name": "stdout",
     "output_type": "stream",
     "text": [
      "Invalid essential matrix, repeating last trajectory\n",
      "Invalid essential matrix, repeating last trajectory\n",
      "Invalid essential matrix, repeating last trajectory\n",
      "Not enough points to compute the essential matrix, re-detecting features\n"
     ]
    },
    {
     "name": "stderr",
     "output_type": "stream",
     "text": [
      "Processing 06home2uni:  68%|██████▊   | 19770/28868 [02:11<00:43, 206.98it/s]"
     ]
    },
    {
     "name": "stdout",
     "output_type": "stream",
     "text": [
      "Not enough points to compute the essential matrix, re-detecting features\n"
     ]
    },
    {
     "name": "stderr",
     "output_type": "stream",
     "text": [
      "Processing 06home2uni:  71%|███████   | 20382/28868 [02:14<00:43, 196.33it/s]"
     ]
    },
    {
     "name": "stdout",
     "output_type": "stream",
     "text": [
      "Invalid essential matrix, repeating last trajectory\n",
      "Invalid essential matrix, repeating last trajectory\n",
      "Invalid essential matrix, repeating last trajectory\n",
      "Invalid essential matrix, repeating last trajectory\n",
      "Invalid essential matrix, repeating last trajectory\n",
      "Invalid essential matrix, repeating last trajectory\n",
      "Invalid essential matrix, repeating last trajectory\n",
      "Invalid essential matrix, repeating last trajectory\n",
      "Invalid essential matrix, repeating last trajectory\n",
      "Invalid essential matrix, repeating last trajectory\n",
      "Invalid essential matrix, repeating last trajectory\n",
      "Invalid essential matrix, repeating last trajectory\n",
      "Invalid essential matrix, repeating last trajectory\n",
      "Invalid essential matrix, repeating last trajectory\n",
      "Invalid essential matrix, repeating last trajectory\n",
      "Invalid essential matrix, repeating last trajectory\n",
      "Invalid essential matrix, repeating last trajectory\n",
      "Invalid essential matrix, repeating last trajectory\n",
      "Invalid essential matrix, repeating last trajectory\n",
      "Invalid essential matrix, repeating last trajectory\n",
      "Invalid essential matrix, repeating last trajectory\n",
      "Invalid essential matrix, repeating last trajectory\n",
      "Invalid essential matrix, repeating last trajectory\n",
      "Invalid essential matrix, repeating last trajectory\n",
      "Invalid essential matrix, repeating last trajectory\n",
      "Invalid essential matrix, repeating last trajectory\n",
      "Not enough points to compute the essential matrix, re-detecting features\n"
     ]
    },
    {
     "name": "stderr",
     "output_type": "stream",
     "text": [
      "Processing 06home2uni:  72%|███████▏  | 20814/28868 [02:17<00:41, 195.07it/s]"
     ]
    },
    {
     "name": "stdout",
     "output_type": "stream",
     "text": [
      "Invalid essential matrix, repeating last trajectory\n",
      "Not enough points to compute the essential matrix, re-detecting features\n"
     ]
    },
    {
     "name": "stderr",
     "output_type": "stream",
     "text": [
      "Processing 06home2uni:  73%|███████▎  | 21030/28868 [02:19<00:51, 153.47it/s]"
     ]
    },
    {
     "name": "stdout",
     "output_type": "stream",
     "text": [
      "Invalid essential matrix, repeating last trajectory\n",
      "Invalid essential matrix, repeating last trajectory\n",
      "Invalid essential matrix, repeating last trajectory\n",
      "Invalid essential matrix, repeating last trajectory\n",
      "Invalid essential matrix, repeating last trajectory\n",
      "Invalid essential matrix, repeating last trajectory\n",
      "Invalid essential matrix, repeating last trajectory\n",
      "Not enough points to compute the essential matrix, re-detecting features\n"
     ]
    },
    {
     "name": "stderr",
     "output_type": "stream",
     "text": [
      "Processing 06home2uni:  74%|███████▎  | 21265/28868 [02:21<00:41, 183.77it/s]"
     ]
    },
    {
     "name": "stdout",
     "output_type": "stream",
     "text": [
      "Invalid essential matrix, repeating last trajectory\n",
      "Invalid essential matrix, repeating last trajectory\n",
      "Invalid essential matrix, repeating last trajectory\n",
      "Invalid essential matrix, repeating last trajectory\n",
      "Invalid essential matrix, repeating last trajectory\n",
      "Invalid essential matrix, repeating last trajectory\n",
      "Invalid essential matrix, repeating last trajectory\n",
      "Invalid essential matrix, repeating last trajectory\n",
      "Invalid essential matrix, repeating last trajectory\n",
      "Invalid essential matrix, repeating last trajectory\n",
      "Invalid essential matrix, repeating last trajectory\n",
      "Invalid essential matrix, repeating last trajectory\n",
      "Invalid essential matrix, repeating last trajectory\n",
      "Invalid essential matrix, repeating last trajectory\n",
      "Invalid essential matrix, repeating last trajectory\n",
      "Invalid essential matrix, repeating last trajectory\n",
      "Invalid essential matrix, repeating last trajectory\n",
      "Invalid essential matrix, repeating last trajectory\n",
      "Invalid essential matrix, repeating last trajectory\n",
      "Invalid essential matrix, repeating last trajectory\n",
      "Invalid essential matrix, repeating last trajectory\n",
      "Invalid essential matrix, repeating last trajectory\n",
      "Invalid essential matrix, repeating last trajectory\n",
      "Invalid essential matrix, repeating last trajectory\n",
      "Invalid essential matrix, repeating last trajectory\n",
      "Invalid essential matrix, repeating last trajectory\n",
      "Invalid essential matrix, repeating last trajectory\n",
      "Invalid essential matrix, repeating last trajectory\n",
      "Invalid essential matrix, repeating last trajectory\n",
      "Invalid essential matrix, repeating last trajectory\n",
      "Invalid essential matrix, repeating last trajectory\n",
      "Invalid essential matrix, repeating last trajectory\n",
      "Invalid essential matrix, repeating last trajectory\n",
      "Invalid essential matrix, repeating last trajectory\n",
      "Invalid essential matrix, repeating last trajectory\n",
      "Invalid essential matrix, repeating last trajectory\n",
      "Invalid essential matrix, repeating last trajectory\n",
      "Invalid essential matrix, repeating last trajectory\n",
      "Invalid essential matrix, repeating last trajectory\n",
      "Invalid essential matrix, repeating last trajectory\n",
      "Invalid essential matrix, repeating last trajectory\n",
      "Invalid essential matrix, repeating last trajectory\n",
      "Invalid essential matrix, repeating last trajectory\n",
      "Invalid essential matrix, repeating last trajectory\n",
      "Invalid essential matrix, repeating last trajectory\n",
      "Invalid essential matrix, repeating last trajectory\n",
      "Invalid essential matrix, repeating last trajectory\n",
      "Invalid essential matrix, repeating last trajectory\n",
      "Invalid essential matrix, repeating last trajectory\n",
      "Invalid essential matrix, repeating last trajectory\n",
      "Invalid essential matrix, repeating last trajectory\n",
      "Invalid essential matrix, repeating last trajectory\n",
      "Not enough points to compute the essential matrix, re-detecting features\n"
     ]
    },
    {
     "name": "stderr",
     "output_type": "stream",
     "text": [
      "Processing 06home2uni:  75%|███████▌  | 21716/28868 [02:24<00:40, 178.35it/s]"
     ]
    },
    {
     "name": "stdout",
     "output_type": "stream",
     "text": [
      "Invalid essential matrix, repeating last trajectory\n",
      "Invalid essential matrix, repeating last trajectory\n",
      "Not enough points to compute the essential matrix, re-detecting features\n"
     ]
    },
    {
     "name": "stderr",
     "output_type": "stream",
     "text": [
      "Processing 06home2uni:  75%|███████▌  | 21793/28868 [02:25<01:23, 84.56it/s] "
     ]
    },
    {
     "name": "stdout",
     "output_type": "stream",
     "text": [
      "Invalid essential matrix, repeating last trajectory\n",
      "Invalid essential matrix, repeating last trajectory\n",
      "Not enough points to compute the essential matrix, re-detecting features\n"
     ]
    },
    {
     "name": "stderr",
     "output_type": "stream",
     "text": [
      "Processing 06home2uni:  77%|███████▋  | 22085/28868 [02:28<00:32, 208.31it/s]"
     ]
    },
    {
     "name": "stdout",
     "output_type": "stream",
     "text": [
      "Invalid essential matrix, repeating last trajectory\n",
      "Invalid essential matrix, repeating last trajectory\n",
      "Invalid essential matrix, repeating last trajectory\n",
      "Invalid essential matrix, repeating last trajectory\n",
      "Invalid essential matrix, repeating last trajectory\n",
      "Invalid essential matrix, repeating last trajectory\n",
      "Invalid essential matrix, repeating last trajectory\n",
      "Invalid essential matrix, repeating last trajectory\n",
      "Invalid essential matrix, repeating last trajectory\n",
      "Invalid essential matrix, repeating last trajectory\n",
      "Invalid essential matrix, repeating last trajectory\n",
      "Invalid essential matrix, repeating last trajectory\n",
      "Invalid essential matrix, repeating last trajectory\n",
      "Invalid essential matrix, repeating last trajectory\n",
      "Invalid essential matrix, repeating last trajectory\n",
      "Invalid essential matrix, repeating last trajectory\n",
      "Invalid essential matrix, repeating last trajectory\n",
      "Invalid essential matrix, repeating last trajectory\n",
      "Invalid essential matrix, repeating last trajectory\n",
      "Invalid essential matrix, repeating last trajectory\n",
      "Invalid essential matrix, repeating last trajectory\n",
      "Invalid essential matrix, repeating last trajectory\n",
      "Invalid essential matrix, repeating last trajectory\n",
      "Invalid essential matrix, repeating last trajectory\n",
      "Invalid essential matrix, repeating last trajectory\n",
      "Invalid essential matrix, repeating last trajectory\n",
      "Invalid essential matrix, repeating last trajectory\n",
      "Invalid essential matrix, repeating last trajectory\n",
      "Invalid essential matrix, repeating last trajectory\n",
      "Invalid essential matrix, repeating last trajectory\n",
      "Invalid essential matrix, repeating last trajectory\n",
      "Invalid essential matrix, repeating last trajectory\n",
      "Invalid essential matrix, repeating last trajectory\n",
      "Invalid essential matrix, repeating last trajectory\n",
      "Invalid essential matrix, repeating last trajectory\n",
      "Invalid essential matrix, repeating last trajectory\n",
      "Invalid essential matrix, repeating last trajectory\n",
      "Invalid essential matrix, repeating last trajectory\n",
      "Invalid essential matrix, repeating last trajectory\n",
      "Invalid essential matrix, repeating last trajectory\n",
      "Invalid essential matrix, repeating last trajectory\n",
      "Invalid essential matrix, repeating last trajectory\n",
      "Invalid essential matrix, repeating last trajectory\n",
      "Invalid essential matrix, repeating last trajectory\n"
     ]
    },
    {
     "name": "stderr",
     "output_type": "stream",
     "text": [
      "Processing 06home2uni:  77%|███████▋  | 22131/28868 [02:28<00:31, 213.50it/s]"
     ]
    },
    {
     "name": "stdout",
     "output_type": "stream",
     "text": [
      "Invalid essential matrix, repeating last trajectory\n",
      "Invalid essential matrix, repeating last trajectory\n",
      "Invalid essential matrix, repeating last trajectory\n",
      "Invalid essential matrix, repeating last trajectory\n",
      "Invalid essential matrix, repeating last trajectory\n",
      "Invalid essential matrix, repeating last trajectory\n",
      "Invalid essential matrix, repeating last trajectory\n",
      "Invalid essential matrix, repeating last trajectory\n",
      "Invalid essential matrix, repeating last trajectory\n",
      "Invalid essential matrix, repeating last trajectory\n",
      "Invalid essential matrix, repeating last trajectory\n",
      "Invalid essential matrix, repeating last trajectory\n",
      "Invalid essential matrix, repeating last trajectory\n",
      "Invalid essential matrix, repeating last trajectory\n",
      "Invalid essential matrix, repeating last trajectory\n",
      "Invalid essential matrix, repeating last trajectory\n",
      "Invalid essential matrix, repeating last trajectory\n",
      "Invalid essential matrix, repeating last trajectory\n",
      "Invalid essential matrix, repeating last trajectory\n",
      "Invalid essential matrix, repeating last trajectory\n",
      "Invalid essential matrix, repeating last trajectory\n",
      "Invalid essential matrix, repeating last trajectory\n",
      "Invalid essential matrix, repeating last trajectory\n",
      "Invalid essential matrix, repeating last trajectory\n",
      "Invalid essential matrix, repeating last trajectory\n",
      "Invalid essential matrix, repeating last trajectory\n",
      "Invalid essential matrix, repeating last trajectory\n",
      "Invalid essential matrix, repeating last trajectory\n",
      "Invalid essential matrix, repeating last trajectory\n",
      "Invalid essential matrix, repeating last trajectory\n",
      "Invalid essential matrix, repeating last trajectory\n",
      "Invalid essential matrix, repeating last trajectory\n",
      "Invalid essential matrix, repeating last trajectory\n",
      "Invalid essential matrix, repeating last trajectory\n",
      "Invalid essential matrix, repeating last trajectory\n",
      "Invalid essential matrix, repeating last trajectory\n",
      "Invalid essential matrix, repeating last trajectory\n",
      "Invalid essential matrix, repeating last trajectory\n",
      "Invalid essential matrix, repeating last trajectory\n",
      "Invalid essential matrix, repeating last trajectory\n",
      "Invalid essential matrix, repeating last trajectory\n",
      "Invalid essential matrix, repeating last trajectory\n",
      "Not enough points to compute the essential matrix, re-detecting features\n"
     ]
    },
    {
     "name": "stderr",
     "output_type": "stream",
     "text": [
      "Processing 06home2uni:  78%|███████▊  | 22475/28868 [02:30<00:36, 177.39it/s]"
     ]
    },
    {
     "name": "stdout",
     "output_type": "stream",
     "text": [
      "Invalid essential matrix, repeating last trajectory\n",
      "Invalid essential matrix, repeating last trajectory\n",
      "Invalid essential matrix, repeating last trajectory\n",
      "Invalid essential matrix, repeating last trajectory\n",
      "Invalid essential matrix, repeating last trajectory\n",
      "Invalid essential matrix, repeating last trajectory\n",
      "Invalid essential matrix, repeating last trajectory\n",
      "Invalid essential matrix, repeating last trajectory\n",
      "Invalid essential matrix, repeating last trajectory\n",
      "Invalid essential matrix, repeating last trajectory\n",
      "Invalid essential matrix, repeating last trajectory\n",
      "Invalid essential matrix, repeating last trajectory\n",
      "Invalid essential matrix, repeating last trajectory\n",
      "Invalid essential matrix, repeating last trajectory\n",
      "Invalid essential matrix, repeating last trajectory\n",
      "Invalid essential matrix, repeating last trajectory\n",
      "Invalid essential matrix, repeating last trajectory\n",
      "Invalid essential matrix, repeating last trajectory\n",
      "Invalid essential matrix, repeating last trajectory\n",
      "Invalid essential matrix, repeating last trajectory\n",
      "Invalid essential matrix, repeating last trajectory\n",
      "Invalid essential matrix, repeating last trajectory\n",
      "Invalid essential matrix, repeating last trajectory\n",
      "Invalid essential matrix, repeating last trajectory\n",
      "Not enough points to compute the essential matrix, re-detecting features\n"
     ]
    },
    {
     "name": "stderr",
     "output_type": "stream",
     "text": [
      "Processing 06home2uni:  80%|███████▉  | 22985/28868 [02:33<00:27, 212.75it/s]"
     ]
    },
    {
     "name": "stdout",
     "output_type": "stream",
     "text": [
      "Invalid essential matrix, repeating last trajectory\n",
      "Invalid essential matrix, repeating last trajectory\n",
      "Invalid essential matrix, repeating last trajectory\n",
      "Invalid essential matrix, repeating last trajectory\n",
      "Invalid essential matrix, repeating last trajectory\n",
      "Invalid essential matrix, repeating last trajectory\n",
      "Invalid essential matrix, repeating last trajectory\n",
      "Invalid essential matrix, repeating last trajectory\n",
      "Invalid essential matrix, repeating last trajectory\n",
      "Invalid essential matrix, repeating last trajectory\n",
      "Invalid essential matrix, repeating last trajectory\n",
      "Invalid essential matrix, repeating last trajectory\n",
      "Invalid essential matrix, repeating last trajectory\n",
      "Invalid essential matrix, repeating last trajectory\n",
      "Invalid essential matrix, repeating last trajectory\n",
      "Invalid essential matrix, repeating last trajectory\n",
      "Invalid essential matrix, repeating last trajectory\n",
      "Invalid essential matrix, repeating last trajectory\n",
      "Invalid essential matrix, repeating last trajectory\n",
      "Invalid essential matrix, repeating last trajectory\n",
      "Invalid essential matrix, repeating last trajectory\n",
      "Invalid essential matrix, repeating last trajectory\n",
      "Invalid essential matrix, repeating last trajectory\n",
      "Invalid essential matrix, repeating last trajectory\n",
      "Invalid essential matrix, repeating last trajectory\n",
      "Invalid essential matrix, repeating last trajectory\n",
      "Invalid essential matrix, repeating last trajectory\n",
      "Invalid essential matrix, repeating last trajectory\n",
      "Invalid essential matrix, repeating last trajectory\n",
      "Invalid essential matrix, repeating last trajectory\n",
      "Invalid essential matrix, repeating last trajectory\n",
      "Invalid essential matrix, repeating last trajectory\n",
      "Invalid essential matrix, repeating last trajectory\n",
      "Invalid essential matrix, repeating last trajectory\n",
      "Invalid essential matrix, repeating last trajectory\n",
      "Invalid essential matrix, repeating last trajectory\n",
      "Invalid essential matrix, repeating last trajectory\n",
      "Invalid essential matrix, repeating last trajectory\n",
      "Invalid essential matrix, repeating last trajectory\n",
      "Invalid essential matrix, repeating last trajectory\n",
      "Invalid essential matrix, repeating last trajectory\n",
      "Invalid essential matrix, repeating last trajectory\n",
      "Invalid essential matrix, repeating last trajectory\n",
      "Invalid essential matrix, repeating last trajectory\n",
      "Invalid essential matrix, repeating last trajectory\n",
      "Not enough points to compute the essential matrix, re-detecting features\n"
     ]
    },
    {
     "name": "stderr",
     "output_type": "stream",
     "text": [
      "Processing 06home2uni:  82%|████████▏ | 23530/28868 [02:36<00:26, 203.88it/s]"
     ]
    },
    {
     "name": "stdout",
     "output_type": "stream",
     "text": [
      "Invalid essential matrix, repeating last trajectory\n",
      "Invalid essential matrix, repeating last trajectory\n",
      "Invalid essential matrix, repeating last trajectory\n",
      "Invalid essential matrix, repeating last trajectory\n",
      "Invalid essential matrix, repeating last trajectory\n",
      "Invalid essential matrix, repeating last trajectory\n",
      "Invalid essential matrix, repeating last trajectory\n",
      "Invalid essential matrix, repeating last trajectory\n",
      "Invalid essential matrix, repeating last trajectory\n",
      "Invalid essential matrix, repeating last trajectory\n",
      "Invalid essential matrix, repeating last trajectory\n",
      "Invalid essential matrix, repeating last trajectory\n",
      "Invalid essential matrix, repeating last trajectory\n",
      "Invalid essential matrix, repeating last trajectory\n",
      "Invalid essential matrix, repeating last trajectory\n",
      "Invalid essential matrix, repeating last trajectory\n",
      "Invalid essential matrix, repeating last trajectory\n",
      "Invalid essential matrix, repeating last trajectory\n",
      "Invalid essential matrix, repeating last trajectory\n",
      "Invalid essential matrix, repeating last trajectory\n",
      "Invalid essential matrix, repeating last trajectory\n",
      "Invalid essential matrix, repeating last trajectory\n",
      "Invalid essential matrix, repeating last trajectory\n",
      "Invalid essential matrix, repeating last trajectory\n",
      "Not enough points to compute the essential matrix, re-detecting features\n"
     ]
    },
    {
     "name": "stderr",
     "output_type": "stream",
     "text": [
      "Processing 06home2uni:  82%|████████▏ | 23744/28868 [02:38<00:33, 151.59it/s]"
     ]
    },
    {
     "name": "stdout",
     "output_type": "stream",
     "text": [
      "Invalid essential matrix, repeating last trajectory\n",
      "Invalid essential matrix, repeating last trajectory\n",
      "Not enough points to compute the essential matrix, re-detecting features\n"
     ]
    },
    {
     "name": "stderr",
     "output_type": "stream",
     "text": [
      "Processing 06home2uni:  86%|████████▌ | 24761/28868 [02:44<00:19, 215.89it/s]"
     ]
    },
    {
     "name": "stdout",
     "output_type": "stream",
     "text": [
      "Invalid essential matrix, repeating last trajectory\n",
      "Invalid essential matrix, repeating last trajectory\n",
      "Invalid essential matrix, repeating last trajectory\n",
      "Invalid essential matrix, repeating last trajectory\n",
      "Invalid essential matrix, repeating last trajectory\n",
      "Not enough points to compute the essential matrix, re-detecting features\n"
     ]
    },
    {
     "name": "stderr",
     "output_type": "stream",
     "text": [
      "Processing 06home2uni:  87%|████████▋ | 25243/28868 [02:47<00:16, 216.99it/s]"
     ]
    },
    {
     "name": "stdout",
     "output_type": "stream",
     "text": [
      "Invalid essential matrix, repeating last trajectory\n",
      "Invalid essential matrix, repeating last trajectory\n",
      "Invalid essential matrix, repeating last trajectory\n",
      "Invalid essential matrix, repeating last trajectory\n",
      "Invalid essential matrix, repeating last trajectory\n",
      "Invalid essential matrix, repeating last trajectory\n",
      "Invalid essential matrix, repeating last trajectory\n",
      "Invalid essential matrix, repeating last trajectory\n",
      "Invalid essential matrix, repeating last trajectory\n",
      "Invalid essential matrix, repeating last trajectory\n",
      "Invalid essential matrix, repeating last trajectory\n",
      "Invalid essential matrix, repeating last trajectory\n",
      "Invalid essential matrix, repeating last trajectory\n",
      "Invalid essential matrix, repeating last trajectory\n",
      "Invalid essential matrix, repeating last trajectory\n",
      "Invalid essential matrix, repeating last trajectory\n",
      "Invalid essential matrix, repeating last trajectory\n",
      "Invalid essential matrix, repeating last trajectory\n",
      "Invalid essential matrix, repeating last trajectory\n",
      "Invalid essential matrix, repeating last trajectory\n",
      "Invalid essential matrix, repeating last trajectory\n",
      "Invalid essential matrix, repeating last trajectory\n",
      "Invalid essential matrix, repeating last trajectory\n",
      "Invalid essential matrix, repeating last trajectory\n",
      "Invalid essential matrix, repeating last trajectory\n",
      "Invalid essential matrix, repeating last trajectory\n",
      "Invalid essential matrix, repeating last trajectory\n",
      "Invalid essential matrix, repeating last trajectory\n",
      "Invalid essential matrix, repeating last trajectory\n",
      "Invalid essential matrix, repeating last trajectory\n",
      "Invalid essential matrix, repeating last trajectory\n",
      "Invalid essential matrix, repeating last trajectory\n",
      "Invalid essential matrix, repeating last trajectory\n",
      "Invalid essential matrix, repeating last trajectory\n",
      "Invalid essential matrix, repeating last trajectory\n",
      "Invalid essential matrix, repeating last trajectory\n",
      "Invalid essential matrix, repeating last trajectory\n",
      "Invalid essential matrix, repeating last trajectory\n",
      "Invalid essential matrix, repeating last trajectory\n",
      "Invalid essential matrix, repeating last trajectory\n",
      "Invalid essential matrix, repeating last trajectory\n",
      "Invalid essential matrix, repeating last trajectory\n",
      "Invalid essential matrix, repeating last trajectory\n",
      "Invalid essential matrix, repeating last trajectory\n",
      "Invalid essential matrix, repeating last trajectory\n",
      "Invalid essential matrix, repeating last trajectory\n"
     ]
    },
    {
     "name": "stderr",
     "output_type": "stream",
     "text": [
      "Processing 06home2uni:  88%|████████▊ | 25289/28868 [02:47<00:15, 223.99it/s]"
     ]
    },
    {
     "name": "stdout",
     "output_type": "stream",
     "text": [
      "Invalid essential matrix, repeating last trajectory\n",
      "Invalid essential matrix, repeating last trajectory\n",
      "Invalid essential matrix, repeating last trajectory\n",
      "Invalid essential matrix, repeating last trajectory\n",
      "Invalid essential matrix, repeating last trajectory\n",
      "Invalid essential matrix, repeating last trajectory\n",
      "Invalid essential matrix, repeating last trajectory\n",
      "Invalid essential matrix, repeating last trajectory\n",
      "Invalid essential matrix, repeating last trajectory\n",
      "Invalid essential matrix, repeating last trajectory\n",
      "Invalid essential matrix, repeating last trajectory\n",
      "Invalid essential matrix, repeating last trajectory\n",
      "Invalid essential matrix, repeating last trajectory\n",
      "Invalid essential matrix, repeating last trajectory\n",
      "Invalid essential matrix, repeating last trajectory\n",
      "Invalid essential matrix, repeating last trajectory\n",
      "Invalid essential matrix, repeating last trajectory\n",
      "Invalid essential matrix, repeating last trajectory\n",
      "Invalid essential matrix, repeating last trajectory\n",
      "Invalid essential matrix, repeating last trajectory\n",
      "Invalid essential matrix, repeating last trajectory\n",
      "Invalid essential matrix, repeating last trajectory\n",
      "Invalid essential matrix, repeating last trajectory\n",
      "Invalid essential matrix, repeating last trajectory\n",
      "Invalid essential matrix, repeating last trajectory\n",
      "Invalid essential matrix, repeating last trajectory\n",
      "Invalid essential matrix, repeating last trajectory\n",
      "Invalid essential matrix, repeating last trajectory\n",
      "Invalid essential matrix, repeating last trajectory\n",
      "Invalid essential matrix, repeating last trajectory\n",
      "Invalid essential matrix, repeating last trajectory\n",
      "Invalid essential matrix, repeating last trajectory\n",
      "Invalid essential matrix, repeating last trajectory\n",
      "Invalid essential matrix, repeating last trajectory\n",
      "Invalid essential matrix, repeating last trajectory\n",
      "Invalid essential matrix, repeating last trajectory\n",
      "Invalid essential matrix, repeating last trajectory\n",
      "Invalid essential matrix, repeating last trajectory\n",
      "Invalid essential matrix, repeating last trajectory\n",
      "Invalid essential matrix, repeating last trajectory\n",
      "Invalid essential matrix, repeating last trajectory\n",
      "Invalid essential matrix, repeating last trajectory\n",
      "Invalid essential matrix, repeating last trajectory\n",
      "Invalid essential matrix, repeating last trajectory\n",
      "Invalid essential matrix, repeating last trajectory\n",
      "Invalid essential matrix, repeating last trajectory\n",
      "Invalid essential matrix, repeating last trajectory\n",
      "Invalid essential matrix, repeating last trajectory\n",
      "Invalid essential matrix, repeating last trajectory\n",
      "Invalid essential matrix, repeating last trajectory\n",
      "Invalid essential matrix, repeating last trajectory\n",
      "Not enough points to compute the essential matrix, re-detecting features\n"
     ]
    },
    {
     "name": "stderr",
     "output_type": "stream",
     "text": [
      "Processing 06home2uni:  89%|████████▉ | 25659/28868 [02:50<00:23, 138.18it/s]"
     ]
    },
    {
     "name": "stdout",
     "output_type": "stream",
     "text": [
      "Invalid essential matrix, repeating last trajectory\n",
      "Invalid essential matrix, repeating last trajectory\n",
      "Invalid essential matrix, repeating last trajectory\n",
      "Invalid essential matrix, repeating last trajectory\n",
      "Invalid essential matrix, repeating last trajectory\n",
      "Invalid essential matrix, repeating last trajectory\n",
      "Invalid essential matrix, repeating last trajectory\n",
      "Invalid essential matrix, repeating last trajectory\n",
      "Invalid essential matrix, repeating last trajectory\n",
      "Invalid essential matrix, repeating last trajectory\n",
      "Invalid essential matrix, repeating last trajectory\n",
      "Invalid essential matrix, repeating last trajectory\n",
      "Invalid essential matrix, repeating last trajectory\n",
      "Invalid essential matrix, repeating last trajectory\n",
      "Invalid essential matrix, repeating last trajectory\n",
      "Invalid essential matrix, repeating last trajectory\n",
      "Invalid essential matrix, repeating last trajectory\n",
      "Invalid essential matrix, repeating last trajectory\n",
      "Invalid essential matrix, repeating last trajectory\n",
      "Invalid essential matrix, repeating last trajectory\n",
      "Invalid essential matrix, repeating last trajectory\n",
      "Invalid essential matrix, repeating last trajectory\n",
      "Invalid essential matrix, repeating last trajectory\n",
      "Invalid essential matrix, repeating last trajectory\n",
      "Invalid essential matrix, repeating last trajectory\n",
      "Invalid essential matrix, repeating last trajectory\n",
      "Invalid essential matrix, repeating last trajectory\n"
     ]
    },
    {
     "name": "stderr",
     "output_type": "stream",
     "text": [
      "Processing 06home2uni:  89%|████████▉ | 25688/28868 [02:50<00:23, 134.50it/s]"
     ]
    },
    {
     "name": "stdout",
     "output_type": "stream",
     "text": [
      "Invalid essential matrix, repeating last trajectory\n",
      "Invalid essential matrix, repeating last trajectory\n",
      "Invalid essential matrix, repeating last trajectory\n",
      "Invalid essential matrix, repeating last trajectory\n",
      "Invalid essential matrix, repeating last trajectory\n",
      "Invalid essential matrix, repeating last trajectory\n",
      "Invalid essential matrix, repeating last trajectory\n",
      "Invalid essential matrix, repeating last trajectory\n",
      "Invalid essential matrix, repeating last trajectory\n",
      "Invalid essential matrix, repeating last trajectory\n",
      "Invalid essential matrix, repeating last trajectory\n",
      "Invalid essential matrix, repeating last trajectory\n",
      "Invalid essential matrix, repeating last trajectory\n",
      "Invalid essential matrix, repeating last trajectory\n",
      "Invalid essential matrix, repeating last trajectory\n",
      "Invalid essential matrix, repeating last trajectory\n",
      "Invalid essential matrix, repeating last trajectory\n",
      "Invalid essential matrix, repeating last trajectory\n",
      "Invalid essential matrix, repeating last trajectory\n",
      "Invalid essential matrix, repeating last trajectory\n",
      "Invalid essential matrix, repeating last trajectory\n",
      "Invalid essential matrix, repeating last trajectory\n",
      "Invalid essential matrix, repeating last trajectory\n",
      "Invalid essential matrix, repeating last trajectory\n",
      "Invalid essential matrix, repeating last trajectory\n"
     ]
    },
    {
     "name": "stderr",
     "output_type": "stream",
     "text": [
      "Processing 06home2uni:  89%|████████▉ | 25724/28868 [02:50<00:20, 153.37it/s]"
     ]
    },
    {
     "name": "stdout",
     "output_type": "stream",
     "text": [
      "Invalid essential matrix, repeating last trajectory\n",
      "Invalid essential matrix, repeating last trajectory\n",
      "Invalid essential matrix, repeating last trajectory\n",
      "Invalid essential matrix, repeating last trajectory\n",
      "Invalid essential matrix, repeating last trajectory\n",
      "Invalid essential matrix, repeating last trajectory\n",
      "Invalid essential matrix, repeating last trajectory\n",
      "Invalid essential matrix, repeating last trajectory\n",
      "Invalid essential matrix, repeating last trajectory\n",
      "Invalid essential matrix, repeating last trajectory\n",
      "Invalid essential matrix, repeating last trajectory\n",
      "Invalid essential matrix, repeating last trajectory\n",
      "Invalid essential matrix, repeating last trajectory\n",
      "Invalid essential matrix, repeating last trajectory\n",
      "Invalid essential matrix, repeating last trajectory\n",
      "Invalid essential matrix, repeating last trajectory\n",
      "Invalid essential matrix, repeating last trajectory\n",
      "Invalid essential matrix, repeating last trajectory\n",
      "Invalid essential matrix, repeating last trajectory\n",
      "Invalid essential matrix, repeating last trajectory\n",
      "Invalid essential matrix, repeating last trajectory\n",
      "Invalid essential matrix, repeating last trajectory\n",
      "Invalid essential matrix, repeating last trajectory\n",
      "Invalid essential matrix, repeating last trajectory\n",
      "Invalid essential matrix, repeating last trajectory\n",
      "Invalid essential matrix, repeating last trajectory\n",
      "Invalid essential matrix, repeating last trajectory\n",
      "Invalid essential matrix, repeating last trajectory\n",
      "Invalid essential matrix, repeating last trajectory\n",
      "Invalid essential matrix, repeating last trajectory\n",
      "Invalid essential matrix, repeating last trajectory\n",
      "Invalid essential matrix, repeating last trajectory\n",
      "Invalid essential matrix, repeating last trajectory\n",
      "Invalid essential matrix, repeating last trajectory\n",
      "Invalid essential matrix, repeating last trajectory\n",
      "Invalid essential matrix, repeating last trajectory\n",
      "Invalid essential matrix, repeating last trajectory\n",
      "Invalid essential matrix, repeating last trajectory\n",
      "Invalid essential matrix, repeating last trajectory\n",
      "Invalid essential matrix, repeating last trajectory\n",
      "Invalid essential matrix, repeating last trajectory\n",
      "Invalid essential matrix, repeating last trajectory\n",
      "Not enough points to compute the essential matrix, re-detecting features\n"
     ]
    },
    {
     "name": "stderr",
     "output_type": "stream",
     "text": [
      "Processing 06home2uni:  94%|█████████▎| 27023/28868 [02:58<00:11, 163.14it/s]"
     ]
    },
    {
     "name": "stdout",
     "output_type": "stream",
     "text": [
      "Not enough points to compute the essential matrix, re-detecting features\n"
     ]
    },
    {
     "name": "stderr",
     "output_type": "stream",
     "text": [
      "Processing 06home2uni:  95%|█████████▍| 27366/28868 [03:00<00:07, 193.75it/s]"
     ]
    },
    {
     "name": "stdout",
     "output_type": "stream",
     "text": [
      "Invalid essential matrix, repeating last trajectory\n",
      "Invalid essential matrix, repeating last trajectory\n",
      "Invalid essential matrix, repeating last trajectory\n",
      "Invalid essential matrix, repeating last trajectory\n",
      "Invalid essential matrix, repeating last trajectory\n",
      "Invalid essential matrix, repeating last trajectory\n",
      "Invalid essential matrix, repeating last trajectory\n",
      "Invalid essential matrix, repeating last trajectory\n",
      "Invalid essential matrix, repeating last trajectory\n",
      "Invalid essential matrix, repeating last trajectory\n",
      "Invalid essential matrix, repeating last trajectory\n",
      "Invalid essential matrix, repeating last trajectory\n",
      "Invalid essential matrix, repeating last trajectory\n",
      "Invalid essential matrix, repeating last trajectory\n",
      "Invalid essential matrix, repeating last trajectory\n",
      "Invalid essential matrix, repeating last trajectory\n",
      "Invalid essential matrix, repeating last trajectory\n",
      "Invalid essential matrix, repeating last trajectory\n",
      "Invalid essential matrix, repeating last trajectory\n",
      "Invalid essential matrix, repeating last trajectory\n",
      "Invalid essential matrix, repeating last trajectory\n",
      "Invalid essential matrix, repeating last trajectory\n",
      "Invalid essential matrix, repeating last trajectory\n",
      "Invalid essential matrix, repeating last trajectory\n",
      "Invalid essential matrix, repeating last trajectory\n",
      "Invalid essential matrix, repeating last trajectory\n",
      "Invalid essential matrix, repeating last trajectory\n",
      "Invalid essential matrix, repeating last trajectory\n",
      "Invalid essential matrix, repeating last trajectory\n",
      "Invalid essential matrix, repeating last trajectory\n",
      "Invalid essential matrix, repeating last trajectory\n",
      "Invalid essential matrix, repeating last trajectory\n",
      "Invalid essential matrix, repeating last trajectory\n",
      "Invalid essential matrix, repeating last trajectory\n",
      "Invalid essential matrix, repeating last trajectory\n",
      "Invalid essential matrix, repeating last trajectory\n",
      "Invalid essential matrix, repeating last trajectory\n",
      "Invalid essential matrix, repeating last trajectory\n",
      "Invalid essential matrix, repeating last trajectory\n",
      "Invalid essential matrix, repeating last trajectory\n",
      "Invalid essential matrix, repeating last trajectory\n",
      "Invalid essential matrix, repeating last trajectory\n"
     ]
    },
    {
     "name": "stderr",
     "output_type": "stream",
     "text": [
      "Processing 06home2uni:  95%|█████████▍| 27408/28868 [03:01<00:07, 198.52it/s]"
     ]
    },
    {
     "name": "stdout",
     "output_type": "stream",
     "text": [
      "Invalid essential matrix, repeating last trajectory\n",
      "Invalid essential matrix, repeating last trajectory\n",
      "Invalid essential matrix, repeating last trajectory\n",
      "Invalid essential matrix, repeating last trajectory\n",
      "Invalid essential matrix, repeating last trajectory\n",
      "Invalid essential matrix, repeating last trajectory\n",
      "Invalid essential matrix, repeating last trajectory\n",
      "Invalid essential matrix, repeating last trajectory\n",
      "Invalid essential matrix, repeating last trajectory\n",
      "Invalid essential matrix, repeating last trajectory\n",
      "Invalid essential matrix, repeating last trajectory\n",
      "Invalid essential matrix, repeating last trajectory\n",
      "Invalid essential matrix, repeating last trajectory\n",
      "Invalid essential matrix, repeating last trajectory\n",
      "Invalid essential matrix, repeating last trajectory\n",
      "Invalid essential matrix, repeating last trajectory\n",
      "Invalid essential matrix, repeating last trajectory\n",
      "Invalid essential matrix, repeating last trajectory\n",
      "Invalid essential matrix, repeating last trajectory\n",
      "Invalid essential matrix, repeating last trajectory\n",
      "Invalid essential matrix, repeating last trajectory\n",
      "Invalid essential matrix, repeating last trajectory\n",
      "Invalid essential matrix, repeating last trajectory\n",
      "Invalid essential matrix, repeating last trajectory\n",
      "Invalid essential matrix, repeating last trajectory\n",
      "Invalid essential matrix, repeating last trajectory\n",
      "Invalid essential matrix, repeating last trajectory\n",
      "Invalid essential matrix, repeating last trajectory\n",
      "Invalid essential matrix, repeating last trajectory\n",
      "Invalid essential matrix, repeating last trajectory\n",
      "Invalid essential matrix, repeating last trajectory\n",
      "Invalid essential matrix, repeating last trajectory\n",
      "Invalid essential matrix, repeating last trajectory\n",
      "Invalid essential matrix, repeating last trajectory\n",
      "Invalid essential matrix, repeating last trajectory\n",
      "Invalid essential matrix, repeating last trajectory\n",
      "Invalid essential matrix, repeating last trajectory\n",
      "Invalid essential matrix, repeating last trajectory\n",
      "Invalid essential matrix, repeating last trajectory\n",
      "Invalid essential matrix, repeating last trajectory\n",
      "Invalid essential matrix, repeating last trajectory\n"
     ]
    },
    {
     "name": "stderr",
     "output_type": "stream",
     "text": [
      "Processing 06home2uni:  95%|█████████▌| 27451/28868 [03:01<00:06, 203.69it/s]"
     ]
    },
    {
     "name": "stdout",
     "output_type": "stream",
     "text": [
      "Invalid essential matrix, repeating last trajectory\n",
      "Invalid essential matrix, repeating last trajectory\n",
      "Invalid essential matrix, repeating last trajectory\n",
      "Invalid essential matrix, repeating last trajectory\n",
      "Invalid essential matrix, repeating last trajectory\n",
      "Invalid essential matrix, repeating last trajectory\n",
      "Invalid essential matrix, repeating last trajectory\n",
      "Invalid essential matrix, repeating last trajectory\n",
      "Invalid essential matrix, repeating last trajectory\n",
      "Invalid essential matrix, repeating last trajectory\n",
      "Invalid essential matrix, repeating last trajectory\n",
      "Invalid essential matrix, repeating last trajectory\n",
      "Invalid essential matrix, repeating last trajectory\n",
      "Invalid essential matrix, repeating last trajectory\n",
      "Invalid essential matrix, repeating last trajectory\n",
      "Invalid essential matrix, repeating last trajectory\n",
      "Invalid essential matrix, repeating last trajectory\n",
      "Invalid essential matrix, repeating last trajectory\n",
      "Invalid essential matrix, repeating last trajectory\n",
      "Invalid essential matrix, repeating last trajectory\n",
      "Invalid essential matrix, repeating last trajectory\n",
      "Invalid essential matrix, repeating last trajectory\n",
      "Invalid essential matrix, repeating last trajectory\n",
      "Invalid essential matrix, repeating last trajectory\n",
      "Invalid essential matrix, repeating last trajectory\n",
      "Invalid essential matrix, repeating last trajectory\n",
      "Invalid essential matrix, repeating last trajectory\n",
      "Invalid essential matrix, repeating last trajectory\n",
      "Invalid essential matrix, repeating last trajectory\n",
      "Invalid essential matrix, repeating last trajectory\n",
      "Invalid essential matrix, repeating last trajectory\n",
      "Invalid essential matrix, repeating last trajectory\n",
      "Invalid essential matrix, repeating last trajectory\n",
      "Invalid essential matrix, repeating last trajectory\n",
      "Invalid essential matrix, repeating last trajectory\n",
      "Invalid essential matrix, repeating last trajectory\n",
      "Invalid essential matrix, repeating last trajectory\n",
      "Invalid essential matrix, repeating last trajectory\n",
      "Invalid essential matrix, repeating last trajectory\n",
      "Invalid essential matrix, repeating last trajectory\n",
      "Invalid essential matrix, repeating last trajectory\n",
      "Invalid essential matrix, repeating last trajectory\n",
      "Invalid essential matrix, repeating last trajectory\n"
     ]
    },
    {
     "name": "stderr",
     "output_type": "stream",
     "text": [
      "Processing 06home2uni:  95%|█████████▌| 27495/28868 [03:01<00:06, 207.40it/s]"
     ]
    },
    {
     "name": "stdout",
     "output_type": "stream",
     "text": [
      "Invalid essential matrix, repeating last trajectory\n",
      "Invalid essential matrix, repeating last trajectory\n",
      "Invalid essential matrix, repeating last trajectory\n",
      "Invalid essential matrix, repeating last trajectory\n",
      "Invalid essential matrix, repeating last trajectory\n",
      "Invalid essential matrix, repeating last trajectory\n",
      "Invalid essential matrix, repeating last trajectory\n",
      "Invalid essential matrix, repeating last trajectory\n",
      "Invalid essential matrix, repeating last trajectory\n",
      "Invalid essential matrix, repeating last trajectory\n",
      "Invalid essential matrix, repeating last trajectory\n",
      "Invalid essential matrix, repeating last trajectory\n",
      "Invalid essential matrix, repeating last trajectory\n",
      "Invalid essential matrix, repeating last trajectory\n",
      "Invalid essential matrix, repeating last trajectory\n",
      "Invalid essential matrix, repeating last trajectory\n",
      "Invalid essential matrix, repeating last trajectory\n",
      "Invalid essential matrix, repeating last trajectory\n",
      "Invalid essential matrix, repeating last trajectory\n",
      "Invalid essential matrix, repeating last trajectory\n",
      "Invalid essential matrix, repeating last trajectory\n",
      "Invalid essential matrix, repeating last trajectory\n",
      "Invalid essential matrix, repeating last trajectory\n",
      "Invalid essential matrix, repeating last trajectory\n",
      "Invalid essential matrix, repeating last trajectory\n",
      "Invalid essential matrix, repeating last trajectory\n",
      "Invalid essential matrix, repeating last trajectory\n",
      "Invalid essential matrix, repeating last trajectory\n",
      "Invalid essential matrix, repeating last trajectory\n",
      "Invalid essential matrix, repeating last trajectory\n",
      "Invalid essential matrix, repeating last trajectory\n",
      "Invalid essential matrix, repeating last trajectory\n",
      "Invalid essential matrix, repeating last trajectory\n",
      "Invalid essential matrix, repeating last trajectory\n",
      "Invalid essential matrix, repeating last trajectory\n",
      "Invalid essential matrix, repeating last trajectory\n",
      "Invalid essential matrix, repeating last trajectory\n",
      "Invalid essential matrix, repeating last trajectory\n",
      "Invalid essential matrix, repeating last trajectory\n",
      "Invalid essential matrix, repeating last trajectory\n",
      "Invalid essential matrix, repeating last trajectory\n",
      "Invalid essential matrix, repeating last trajectory\n",
      "Invalid essential matrix, repeating last trajectory\n"
     ]
    },
    {
     "name": "stderr",
     "output_type": "stream",
     "text": [
      "Processing 06home2uni:  95%|█████████▌| 27537/28868 [03:01<00:06, 204.15it/s]"
     ]
    },
    {
     "name": "stdout",
     "output_type": "stream",
     "text": [
      "Invalid essential matrix, repeating last trajectory\n",
      "Invalid essential matrix, repeating last trajectory\n",
      "Invalid essential matrix, repeating last trajectory\n",
      "Invalid essential matrix, repeating last trajectory\n",
      "Invalid essential matrix, repeating last trajectory\n",
      "Invalid essential matrix, repeating last trajectory\n",
      "Invalid essential matrix, repeating last trajectory\n",
      "Invalid essential matrix, repeating last trajectory\n",
      "Invalid essential matrix, repeating last trajectory\n",
      "Invalid essential matrix, repeating last trajectory\n",
      "Invalid essential matrix, repeating last trajectory\n",
      "Invalid essential matrix, repeating last trajectory\n",
      "Invalid essential matrix, repeating last trajectory\n",
      "Invalid essential matrix, repeating last trajectory\n",
      "Invalid essential matrix, repeating last trajectory\n",
      "Invalid essential matrix, repeating last trajectory\n",
      "Invalid essential matrix, repeating last trajectory\n",
      "Invalid essential matrix, repeating last trajectory\n",
      "Invalid essential matrix, repeating last trajectory\n",
      "Invalid essential matrix, repeating last trajectory\n",
      "Invalid essential matrix, repeating last trajectory\n",
      "Invalid essential matrix, repeating last trajectory\n",
      "Invalid essential matrix, repeating last trajectory\n",
      "Invalid essential matrix, repeating last trajectory\n",
      "Invalid essential matrix, repeating last trajectory\n",
      "Invalid essential matrix, repeating last trajectory\n",
      "Invalid essential matrix, repeating last trajectory\n",
      "Invalid essential matrix, repeating last trajectory\n",
      "Invalid essential matrix, repeating last trajectory\n",
      "Invalid essential matrix, repeating last trajectory\n",
      "Invalid essential matrix, repeating last trajectory\n",
      "Invalid essential matrix, repeating last trajectory\n",
      "Invalid essential matrix, repeating last trajectory\n",
      "Invalid essential matrix, repeating last trajectory\n",
      "Invalid essential matrix, repeating last trajectory\n",
      "Invalid essential matrix, repeating last trajectory\n",
      "Invalid essential matrix, repeating last trajectory\n",
      "Invalid essential matrix, repeating last trajectory\n",
      "Invalid essential matrix, repeating last trajectory\n",
      "Invalid essential matrix, repeating last trajectory\n",
      "Invalid essential matrix, repeating last trajectory\n"
     ]
    },
    {
     "name": "stderr",
     "output_type": "stream",
     "text": [
      "Processing 06home2uni:  96%|█████████▌| 27580/28868 [03:01<00:06, 206.35it/s]"
     ]
    },
    {
     "name": "stdout",
     "output_type": "stream",
     "text": [
      "Invalid essential matrix, repeating last trajectory\n",
      "Invalid essential matrix, repeating last trajectory\n",
      "Invalid essential matrix, repeating last trajectory\n",
      "Invalid essential matrix, repeating last trajectory\n",
      "Invalid essential matrix, repeating last trajectory\n",
      "Invalid essential matrix, repeating last trajectory\n",
      "Invalid essential matrix, repeating last trajectory\n",
      "Invalid essential matrix, repeating last trajectory\n",
      "Invalid essential matrix, repeating last trajectory\n",
      "Invalid essential matrix, repeating last trajectory\n",
      "Invalid essential matrix, repeating last trajectory\n",
      "Invalid essential matrix, repeating last trajectory\n",
      "Invalid essential matrix, repeating last trajectory\n",
      "Invalid essential matrix, repeating last trajectory\n",
      "Invalid essential matrix, repeating last trajectory\n",
      "Invalid essential matrix, repeating last trajectory\n",
      "Invalid essential matrix, repeating last trajectory\n",
      "Invalid essential matrix, repeating last trajectory\n",
      "Invalid essential matrix, repeating last trajectory\n",
      "Invalid essential matrix, repeating last trajectory\n",
      "Invalid essential matrix, repeating last trajectory\n",
      "Invalid essential matrix, repeating last trajectory\n",
      "Invalid essential matrix, repeating last trajectory\n",
      "Invalid essential matrix, repeating last trajectory\n",
      "Invalid essential matrix, repeating last trajectory\n",
      "Invalid essential matrix, repeating last trajectory\n",
      "Invalid essential matrix, repeating last trajectory\n",
      "Invalid essential matrix, repeating last trajectory\n",
      "Invalid essential matrix, repeating last trajectory\n",
      "Invalid essential matrix, repeating last trajectory\n",
      "Invalid essential matrix, repeating last trajectory\n",
      "Invalid essential matrix, repeating last trajectory\n",
      "Invalid essential matrix, repeating last trajectory\n",
      "Invalid essential matrix, repeating last trajectory\n",
      "Invalid essential matrix, repeating last trajectory\n",
      "Invalid essential matrix, repeating last trajectory\n",
      "Invalid essential matrix, repeating last trajectory\n",
      "Invalid essential matrix, repeating last trajectory\n",
      "Invalid essential matrix, repeating last trajectory\n",
      "Invalid essential matrix, repeating last trajectory\n",
      "Invalid essential matrix, repeating last trajectory\n",
      "Invalid essential matrix, repeating last trajectory\n",
      "Invalid essential matrix, repeating last trajectory\n"
     ]
    },
    {
     "name": "stderr",
     "output_type": "stream",
     "text": [
      "Processing 06home2uni:  96%|█████████▌| 27602/28868 [03:02<00:06, 208.50it/s]"
     ]
    },
    {
     "name": "stdout",
     "output_type": "stream",
     "text": [
      "Invalid essential matrix, repeating last trajectory\n",
      "Invalid essential matrix, repeating last trajectory\n",
      "Invalid essential matrix, repeating last trajectory\n",
      "Invalid essential matrix, repeating last trajectory\n",
      "Invalid essential matrix, repeating last trajectory\n",
      "Invalid essential matrix, repeating last trajectory\n",
      "Invalid essential matrix, repeating last trajectory\n",
      "Invalid essential matrix, repeating last trajectory\n",
      "Invalid essential matrix, repeating last trajectory\n",
      "Invalid essential matrix, repeating last trajectory\n",
      "Invalid essential matrix, repeating last trajectory\n",
      "Invalid essential matrix, repeating last trajectory\n",
      "Invalid essential matrix, repeating last trajectory\n",
      "Invalid essential matrix, repeating last trajectory\n",
      "Invalid essential matrix, repeating last trajectory\n",
      "Invalid essential matrix, repeating last trajectory\n",
      "Invalid essential matrix, repeating last trajectory\n",
      "Invalid essential matrix, repeating last trajectory\n",
      "Invalid essential matrix, repeating last trajectory\n",
      "Invalid essential matrix, repeating last trajectory\n",
      "Not enough points to compute the essential matrix, re-detecting features\n"
     ]
    },
    {
     "name": "stderr",
     "output_type": "stream",
     "text": [
      "Processing 06home2uni: 100%|█████████▉| 28867/28868 [03:08<00:00, 153.08it/s]\n"
     ]
    }
   ],
   "source": [
    "import cv2\n",
    "import numpy as np\n",
    "import csv\n",
    "import os\n",
    "from tqdm import tqdm\n",
    "\n",
    "def feature_tracking(prev_img, curr_img, prev_points):\n",
    "    lk_params = dict(winSize=(21, 21), maxLevel=3,\n",
    "                     criteria=(cv2.TERM_CRITERIA_EPS | cv2.TERM_CRITERIA_COUNT, 30, 0.01))\n",
    "    \n",
    "    curr_points, status, _ = cv2.calcOpticalFlowPyrLK(prev_img, curr_img, prev_points, None, **lk_params)\n",
    "    \n",
    "    if curr_points is None or status is None:\n",
    "        return None, None\n",
    "    \n",
    "    good_old = prev_points[status.flatten() == 1]\n",
    "    good_new = curr_points[status.flatten() == 1]\n",
    "    \n",
    "    return good_old, good_new\n",
    "\n",
    "def detect_features(image, mask):\n",
    "    feature_params = dict(maxCorners=200, qualityLevel=0.01, minDistance=30, blockSize=7)\n",
    "    points = cv2.goodFeaturesToTrack(image, mask=mask, **feature_params)\n",
    "    return points\n",
    "\n",
    "def process_video(video_path, mask_path=None, results_folder='results'):\n",
    "    video_name = os.path.splitext(os.path.basename(video_path))[0]\n",
    "    csv_file_path = os.path.join(results_folder, f\"{video_name}.csv\")\n",
    "    \n",
    "    cap = cv2.VideoCapture(video_path)\n",
    "    if not cap.isOpened():\n",
    "        print(f\"Cannot open video {video_path}\")\n",
    "        return\n",
    "    \n",
    "    ret, prev_frame = cap.read()\n",
    "    if not ret or prev_frame is None:\n",
    "        print(\"Cannot read the first frame\")\n",
    "        return\n",
    "    \n",
    "    frame_height, frame_width = prev_frame.shape[:2]\n",
    "    \n",
    "    mask = None\n",
    "    if mask_path and os.path.exists(mask_path):\n",
    "        mask = cv2.imread(mask_path, cv2.IMREAD_GRAYSCALE)\n",
    "        if mask is None or mask.shape != (frame_height, frame_width):\n",
    "            print(\"Mask image not found or dimensions do not match the video frame. No mask will be used.\")\n",
    "            mask = None\n",
    "        else:\n",
    "            print(f\"Mask loaded from {mask_path}\")\n",
    "    \n",
    "    prev_frame_gray = cv2.cvtColor(prev_frame, cv2.COLOR_BGR2GRAY)\n",
    "    prev_points = detect_features(prev_frame_gray, mask)\n",
    "    \n",
    "    if prev_points is None:\n",
    "        print(\"No initial features detected. Exiting.\")\n",
    "        return\n",
    "    \n",
    "    trajectory = np.zeros((3, 1))\n",
    "    poses = [trajectory]\n",
    "    \n",
    "    frame_num = 0\n",
    "    total_frames = int(cap.get(cv2.CAP_PROP_FRAME_COUNT))\n",
    "    \n",
    "    with open(csv_file_path, mode='w', newline='') as file:\n",
    "        writer = csv.writer(file)\n",
    "        writer.writerow(['frame_num', 'x', 'y', 'z'])\n",
    "        \n",
    "        with tqdm(total=total_frames, desc=f\"Processing {video_name}\") as pbar:\n",
    "            while True:\n",
    "                ret, frame = cap.read()\n",
    "                if not ret or frame is None:\n",
    "                    break\n",
    "                \n",
    "                curr_frame_gray = cv2.cvtColor(frame, cv2.COLOR_BGR2GRAY)\n",
    "                \n",
    "                prev_points, curr_points = feature_tracking(prev_frame_gray, curr_frame_gray, prev_points)\n",
    "                \n",
    "                if prev_points is None or curr_points is None or len(prev_points) < 5 or len(curr_points) < 5:\n",
    "                    print(\"Not enough points to compute the essential matrix, re-detecting features\")\n",
    "                    prev_points = detect_features(prev_frame_gray, mask)\n",
    "                    curr_points = detect_features(curr_frame_gray, mask)\n",
    "                    if prev_points is None or curr_points is None or len(prev_points) < 5 or len(curr_points) < 5:\n",
    "                        print(\"Not enough points detected, repeating last trajectory\")\n",
    "                        x, y, z = trajectory.flatten()\n",
    "                        writer.writerow([frame_num, x, y, z])\n",
    "                        prev_frame_gray = curr_frame_gray.copy()\n",
    "                        frame_num += 1\n",
    "                        pbar.update(1)\n",
    "                        continue\n",
    "                \n",
    "                try:\n",
    "                    prev_points = prev_points.reshape(-1, 2)\n",
    "                    curr_points = curr_points.reshape(-1, 2)\n",
    "                    prev_points = prev_points.astype(np.float32)\n",
    "                    curr_points = curr_points.astype(np.float32)\n",
    "                    \n",
    "                    E, mask_e = cv2.findEssentialMat(curr_points, prev_points, focal=1.0, pp=(0.0, 0.0), method=cv2.RANSAC, prob=0.999, threshold=1.0)\n",
    "                    \n",
    "                    if E is None or E.shape != (3, 3):\n",
    "                        print(\"Invalid essential matrix, repeating last trajectory\")\n",
    "                        x, y, z = trajectory.flatten()\n",
    "                        writer.writerow([frame_num, x, y, z])\n",
    "                        prev_frame_gray = curr_frame_gray.copy()\n",
    "                        frame_num += 1\n",
    "                        pbar.update(1)\n",
    "                        continue\n",
    "                    \n",
    "                    _, R, t, _ = cv2.recoverPose(E, curr_points, prev_points, focal=1.0, pp=(0.0, 0.0))\n",
    "                    \n",
    "                    trajectory = trajectory + R @ t\n",
    "                    poses.append(trajectory)\n",
    "                    \n",
    "                    x, y, z = trajectory.flatten()\n",
    "                    writer.writerow([frame_num, x, y, z])\n",
    "                    \n",
    "                    prev_frame_gray = curr_frame_gray.copy()\n",
    "                    prev_points = curr_points.reshape(-1, 1, 2)\n",
    "                    \n",
    "                    frame_num += 1\n",
    "                except cv2.error as e:\n",
    "                    print(f\"Error processing frame: {e}, repeating last trajectory\")\n",
    "                    x, y, z = trajectory.flatten()\n",
    "                    writer.writerow([frame_num, x, y, z])\n",
    "                \n",
    "                pbar.update(1)\n",
    "    \n",
    "    cap.release()\n",
    "\n",
    "def process_videos(root_folder='own', mask_path=None, results_folder='own/cam'):\n",
    "    if not os.path.exists(results_folder):\n",
    "        os.makedirs(results_folder)\n",
    "    \n",
    "    videos = [os.path.join(root_folder, v) for v in os.listdir(root_folder) if v.endswith(('.mp4'))]\n",
    "    \n",
    "    for video in videos:\n",
    "        process_video(video, mask_path, results_folder)\n",
    "\n",
    "# Example usage\n",
    "process_videos(mask_path='mask.png')\n"
   ]
  },
  {
   "cell_type": "code",
   "execution_count": null,
   "id": "e02966bf-2f1d-4d9c-b94d-52d9b2740154",
   "metadata": {},
   "outputs": [],
   "source": []
  }
 ],
 "metadata": {
  "kernelspec": {
   "display_name": "Python",
   "language": "python",
   "name": "python3"
  },
  "language_info": {
   "codemirror_mode": {
    "name": "ipython",
    "version": 3
   },
   "file_extension": ".py",
   "mimetype": "text/x-python",
   "name": "python",
   "nbconvert_exporter": "python",
   "pygments_lexer": "ipython3",
   "version": "3.8.10"
  }
 },
 "nbformat": 4,
 "nbformat_minor": 5
}
