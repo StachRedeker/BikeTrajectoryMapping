{
 "cells": [
  {
   "cell_type": "code",
   "execution_count": 1,
   "id": "4a6ebb6a-2a11-4632-a751-9523182bbdcf",
   "metadata": {
    "tags": []
   },
   "outputs": [
    {
     "name": "stdout",
     "output_type": "stream",
     "text": [
      "Done.\n"
     ]
    }
   ],
   "source": [
    "import os\n",
    "import pandas as pd\n",
    "import numpy as np\n",
    "\n",
    "# Define the input and output directories\n",
    "input_dir = 'own/data/'\n",
    "output_dir = 'own/data-int/'\n",
    "\n",
    "# Ensure the output directory exists\n",
    "os.makedirs(output_dir, exist_ok=True)\n",
    "\n",
    "# Function to interpolate repeating blocks\n",
    "def interpolate_repeating_blocks(df, column):\n",
    "    values = df[column].values\n",
    "    n = len(values)\n",
    "    \n",
    "    new_values = []\n",
    "    i = 0\n",
    "    while i < n:\n",
    "        start = i\n",
    "        while i < n - 1 and values[i] == values[i + 1]:\n",
    "            i += 1\n",
    "        end = i\n",
    "        \n",
    "        if end > start:\n",
    "            step = (values[end + 1] - values[start]) / (end - start + 1) if end + 1 < n else 0\n",
    "            new_values.extend(values[start] + step * (j - start) for j in range(start, end + 1))\n",
    "        else:\n",
    "            new_values.append(values[start])\n",
    "        \n",
    "        i += 1\n",
    "    \n",
    "    df[column] = new_values\n",
    "    return df\n",
    "\n",
    "# Process each file in the input directory\n",
    "for filename in os.listdir(input_dir):\n",
    "    if filename.endswith('.csv'):\n",
    "        # Read the file\n",
    "        filepath = os.path.join(input_dir, filename)\n",
    "        df = pd.read_csv(filepath)\n",
    "        \n",
    "        # Process the relevant columns\n",
    "        for column in ['x', 'y', 'x_cam', 'y_cam', 'z_cam']:\n",
    "            if column in df.columns:\n",
    "                df = interpolate_repeating_blocks(df, column)\n",
    "        \n",
    "        # Save the processed file to the output directory\n",
    "        output_filepath = os.path.join(output_dir, filename)\n",
    "        df.to_csv(output_filepath, index=False)\n",
    "\n",
    "# Listing files in the output directory to check the results\n",
    "os.listdir(output_dir)\n",
    "        \n",
    "print('Done.')"
   ]
  },
  {
   "cell_type": "code",
   "execution_count": null,
   "id": "f03b0004-f59c-4a48-a328-63d4e902ce09",
   "metadata": {},
   "outputs": [],
   "source": []
  }
 ],
 "metadata": {
  "kernelspec": {
   "display_name": "Python",
   "language": "python",
   "name": "python3"
  },
  "language_info": {
   "codemirror_mode": {
    "name": "ipython",
    "version": 3
   },
   "file_extension": ".py",
   "mimetype": "text/x-python",
   "name": "python",
   "nbconvert_exporter": "python",
   "pygments_lexer": "ipython3",
   "version": "3.8.10"
  }
 },
 "nbformat": 4,
 "nbformat_minor": 5
}
